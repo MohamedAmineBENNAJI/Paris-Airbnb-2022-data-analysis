{
 "cells": [
  {
   "cell_type": "markdown",
   "id": "a4a0b2d8",
   "metadata": {},
   "source": [
    "# Question 1"
   ]
  },
  {
   "cell_type": "markdown",
   "id": "7f91c131",
   "metadata": {},
   "source": [
    "## What is the most booked neighbourhood in Paris ?"
   ]
  },
  {
   "cell_type": "markdown",
   "id": "245d0943",
   "metadata": {},
   "source": [
    "### Introduction"
   ]
  },
  {
   "cell_type": "markdown",
   "id": "c14eeb6e",
   "metadata": {},
   "source": [
    "\n",
    "\n",
    "\n",
    "\n",
    "This notebook contains the analysis performed to solve our first question about the **most booked neighbourhood** in **Paris** in **June** 2022.\n",
    "The data was collected from [**Inside Airbnb** website](http://insideairbnb.com/get-the-data/).\n",
    "Check this section to get the [**listings**](http://data.insideairbnb.com/france/ile-de-france/paris/2022-06-06/data/listings.csv.gz) data, the [**calendar**](http://data.insideairbnb.com/france/ile-de-france/paris/2022-06-06/data/calendar.csv.gz) and also the [**reviews**](http://data.insideairbnb.com/france/ile-de-france/paris/2022-06-06/data/reviews.csv.gz) data provided in **Paris, Île-de-France, France** section.\n",
    "This data will be used to answer the questions and complete this analysis about **Paris-Airbnb-data**.\n",
    "\n",
    "\n",
    "\n"
   ]
  },
  {
   "cell_type": "code",
   "execution_count": 25,
   "id": "fab1e707",
   "metadata": {},
   "outputs": [],
   "source": [
    "# Importing libraries\n",
    "import pandas as pd\n",
    "import numpy as np\n",
    "import matplotlib.pyplot as plt\n",
    "import seaborn as sns\n"
   ]
  },
  {
   "cell_type": "code",
   "execution_count": 26,
   "id": "25769054",
   "metadata": {},
   "outputs": [],
   "source": [
    "# Reading the data files\n",
    "listings = pd.read_csv('data/paris-airbnb/listings.csv')\n",
    "calendar = pd.read_csv('data/paris-airbnb/calendar.csv')"
   ]
  },
  {
   "cell_type": "code",
   "execution_count": 27,
   "id": "7852b7a9",
   "metadata": {},
   "outputs": [
    {
     "data": {
      "text/html": [
       "<div>\n",
       "<style scoped>\n",
       "    .dataframe tbody tr th:only-of-type {\n",
       "        vertical-align: middle;\n",
       "    }\n",
       "\n",
       "    .dataframe tbody tr th {\n",
       "        vertical-align: top;\n",
       "    }\n",
       "\n",
       "    .dataframe thead th {\n",
       "        text-align: right;\n",
       "    }\n",
       "</style>\n",
       "<table border=\"1\" class=\"dataframe\">\n",
       "  <thead>\n",
       "    <tr style=\"text-align: right;\">\n",
       "      <th></th>\n",
       "      <th>id</th>\n",
       "      <th>listing_url</th>\n",
       "      <th>scrape_id</th>\n",
       "      <th>last_scraped</th>\n",
       "      <th>name</th>\n",
       "      <th>description</th>\n",
       "      <th>neighborhood_overview</th>\n",
       "      <th>picture_url</th>\n",
       "      <th>host_id</th>\n",
       "      <th>host_url</th>\n",
       "      <th>...</th>\n",
       "      <th>review_scores_communication</th>\n",
       "      <th>review_scores_location</th>\n",
       "      <th>review_scores_value</th>\n",
       "      <th>license</th>\n",
       "      <th>instant_bookable</th>\n",
       "      <th>calculated_host_listings_count</th>\n",
       "      <th>calculated_host_listings_count_entire_homes</th>\n",
       "      <th>calculated_host_listings_count_private_rooms</th>\n",
       "      <th>calculated_host_listings_count_shared_rooms</th>\n",
       "      <th>reviews_per_month</th>\n",
       "    </tr>\n",
       "  </thead>\n",
       "  <tbody>\n",
       "    <tr>\n",
       "      <th>0</th>\n",
       "      <td>26660141</td>\n",
       "      <td>https://www.airbnb.com/rooms/26660141</td>\n",
       "      <td>20220606014139</td>\n",
       "      <td>2022-06-07</td>\n",
       "      <td>CHARMANT APPARTEMENT,  50M2 AUX PORTES DE PARIS</td>\n",
       "      <td>Charmant appartement avec petit balcon filant,...</td>\n",
       "      <td>La rue principale à la sortie du métro est trè...</td>\n",
       "      <td>https://a0.muscache.com/pictures/a776b332-0fde...</td>\n",
       "      <td>200407698</td>\n",
       "      <td>https://www.airbnb.com/users/show/200407698</td>\n",
       "      <td>...</td>\n",
       "      <td>5.00</td>\n",
       "      <td>4.88</td>\n",
       "      <td>4.94</td>\n",
       "      <td>NaN</td>\n",
       "      <td>f</td>\n",
       "      <td>1</td>\n",
       "      <td>1</td>\n",
       "      <td>0</td>\n",
       "      <td>0</td>\n",
       "      <td>0.38</td>\n",
       "    </tr>\n",
       "    <tr>\n",
       "      <th>1</th>\n",
       "      <td>25177338</td>\n",
       "      <td>https://www.airbnb.com/rooms/25177338</td>\n",
       "      <td>20220606014139</td>\n",
       "      <td>2022-06-07</td>\n",
       "      <td>Cosy and quiet appartement at Les Lilas</td>\n",
       "      <td>&lt;b&gt;The space&lt;/b&gt;&lt;br /&gt;Le logement est situé da...</td>\n",
       "      <td>NaN</td>\n",
       "      <td>https://a0.muscache.com/pictures/e984c1e4-6d40...</td>\n",
       "      <td>185793394</td>\n",
       "      <td>https://www.airbnb.com/users/show/185793394</td>\n",
       "      <td>...</td>\n",
       "      <td>4.56</td>\n",
       "      <td>4.50</td>\n",
       "      <td>4.56</td>\n",
       "      <td>NaN</td>\n",
       "      <td>t</td>\n",
       "      <td>1</td>\n",
       "      <td>1</td>\n",
       "      <td>0</td>\n",
       "      <td>0</td>\n",
       "      <td>0.35</td>\n",
       "    </tr>\n",
       "    <tr>\n",
       "      <th>2</th>\n",
       "      <td>25218084</td>\n",
       "      <td>https://www.airbnb.com/rooms/25218084</td>\n",
       "      <td>20220606014139</td>\n",
       "      <td>2022-06-07</td>\n",
       "      <td>paris avec une maison</td>\n",
       "      <td>une maison restaurée et faite à notre image ap...</td>\n",
       "      <td>Être dans un véritable maison avec un parc à q...</td>\n",
       "      <td>https://a0.muscache.com/pictures/dbfc69a1-76cb...</td>\n",
       "      <td>190542280</td>\n",
       "      <td>https://www.airbnb.com/users/show/190542280</td>\n",
       "      <td>...</td>\n",
       "      <td>5.00</td>\n",
       "      <td>4.50</td>\n",
       "      <td>5.00</td>\n",
       "      <td>NaN</td>\n",
       "      <td>f</td>\n",
       "      <td>1</td>\n",
       "      <td>1</td>\n",
       "      <td>0</td>\n",
       "      <td>0</td>\n",
       "      <td>0.05</td>\n",
       "    </tr>\n",
       "    <tr>\n",
       "      <th>3</th>\n",
       "      <td>23135649</td>\n",
       "      <td>https://www.airbnb.com/rooms/23135649</td>\n",
       "      <td>20220606014139</td>\n",
       "      <td>2022-06-07</td>\n",
       "      <td>Charming studio, Pont de Neuilly - Paris</td>\n",
       "      <td>Studio apartment in the heart of the prestigio...</td>\n",
       "      <td>The Saint James district of Neuilly sur Seine ...</td>\n",
       "      <td>https://a0.muscache.com/pictures/58399f3d-c271...</td>\n",
       "      <td>171938056</td>\n",
       "      <td>https://www.airbnb.com/users/show/171938056</td>\n",
       "      <td>...</td>\n",
       "      <td>4.94</td>\n",
       "      <td>4.87</td>\n",
       "      <td>4.61</td>\n",
       "      <td>NaN</td>\n",
       "      <td>f</td>\n",
       "      <td>1</td>\n",
       "      <td>0</td>\n",
       "      <td>1</td>\n",
       "      <td>0</td>\n",
       "      <td>0.65</td>\n",
       "    </tr>\n",
       "    <tr>\n",
       "      <th>4</th>\n",
       "      <td>23259887</td>\n",
       "      <td>https://www.airbnb.com/rooms/23259887</td>\n",
       "      <td>20220606014139</td>\n",
       "      <td>2022-06-07</td>\n",
       "      <td>A cosy appartement</td>\n",
       "      <td>Situé dans un quartier agréable proche de Chât...</td>\n",
       "      <td>NaN</td>\n",
       "      <td>https://a0.muscache.com/pictures/ad0ade9c-89d5...</td>\n",
       "      <td>20135501</td>\n",
       "      <td>https://www.airbnb.com/users/show/20135501</td>\n",
       "      <td>...</td>\n",
       "      <td>4.86</td>\n",
       "      <td>4.91</td>\n",
       "      <td>4.65</td>\n",
       "      <td>NaN</td>\n",
       "      <td>t</td>\n",
       "      <td>1</td>\n",
       "      <td>1</td>\n",
       "      <td>0</td>\n",
       "      <td>0</td>\n",
       "      <td>0.87</td>\n",
       "    </tr>\n",
       "  </tbody>\n",
       "</table>\n",
       "<p>5 rows × 74 columns</p>\n",
       "</div>"
      ],
      "text/plain": [
       "         id                            listing_url       scrape_id  \\\n",
       "0  26660141  https://www.airbnb.com/rooms/26660141  20220606014139   \n",
       "1  25177338  https://www.airbnb.com/rooms/25177338  20220606014139   \n",
       "2  25218084  https://www.airbnb.com/rooms/25218084  20220606014139   \n",
       "3  23135649  https://www.airbnb.com/rooms/23135649  20220606014139   \n",
       "4  23259887  https://www.airbnb.com/rooms/23259887  20220606014139   \n",
       "\n",
       "  last_scraped                                             name  \\\n",
       "0   2022-06-07  CHARMANT APPARTEMENT,  50M2 AUX PORTES DE PARIS   \n",
       "1   2022-06-07          Cosy and quiet appartement at Les Lilas   \n",
       "2   2022-06-07                            paris avec une maison   \n",
       "3   2022-06-07         Charming studio, Pont de Neuilly - Paris   \n",
       "4   2022-06-07                               A cosy appartement   \n",
       "\n",
       "                                         description  \\\n",
       "0  Charmant appartement avec petit balcon filant,...   \n",
       "1  <b>The space</b><br />Le logement est situé da...   \n",
       "2  une maison restaurée et faite à notre image ap...   \n",
       "3  Studio apartment in the heart of the prestigio...   \n",
       "4  Situé dans un quartier agréable proche de Chât...   \n",
       "\n",
       "                               neighborhood_overview  \\\n",
       "0  La rue principale à la sortie du métro est trè...   \n",
       "1                                                NaN   \n",
       "2  Être dans un véritable maison avec un parc à q...   \n",
       "3  The Saint James district of Neuilly sur Seine ...   \n",
       "4                                                NaN   \n",
       "\n",
       "                                         picture_url    host_id  \\\n",
       "0  https://a0.muscache.com/pictures/a776b332-0fde...  200407698   \n",
       "1  https://a0.muscache.com/pictures/e984c1e4-6d40...  185793394   \n",
       "2  https://a0.muscache.com/pictures/dbfc69a1-76cb...  190542280   \n",
       "3  https://a0.muscache.com/pictures/58399f3d-c271...  171938056   \n",
       "4  https://a0.muscache.com/pictures/ad0ade9c-89d5...   20135501   \n",
       "\n",
       "                                      host_url  ...  \\\n",
       "0  https://www.airbnb.com/users/show/200407698  ...   \n",
       "1  https://www.airbnb.com/users/show/185793394  ...   \n",
       "2  https://www.airbnb.com/users/show/190542280  ...   \n",
       "3  https://www.airbnb.com/users/show/171938056  ...   \n",
       "4   https://www.airbnb.com/users/show/20135501  ...   \n",
       "\n",
       "  review_scores_communication review_scores_location review_scores_value  \\\n",
       "0                        5.00                   4.88                4.94   \n",
       "1                        4.56                   4.50                4.56   \n",
       "2                        5.00                   4.50                5.00   \n",
       "3                        4.94                   4.87                4.61   \n",
       "4                        4.86                   4.91                4.65   \n",
       "\n",
       "  license instant_bookable calculated_host_listings_count  \\\n",
       "0     NaN                f                              1   \n",
       "1     NaN                t                              1   \n",
       "2     NaN                f                              1   \n",
       "3     NaN                f                              1   \n",
       "4     NaN                t                              1   \n",
       "\n",
       "  calculated_host_listings_count_entire_homes  \\\n",
       "0                                           1   \n",
       "1                                           1   \n",
       "2                                           1   \n",
       "3                                           0   \n",
       "4                                           1   \n",
       "\n",
       "  calculated_host_listings_count_private_rooms  \\\n",
       "0                                            0   \n",
       "1                                            0   \n",
       "2                                            0   \n",
       "3                                            1   \n",
       "4                                            0   \n",
       "\n",
       "  calculated_host_listings_count_shared_rooms reviews_per_month  \n",
       "0                                           0              0.38  \n",
       "1                                           0              0.35  \n",
       "2                                           0              0.05  \n",
       "3                                           0              0.65  \n",
       "4                                           0              0.87  \n",
       "\n",
       "[5 rows x 74 columns]"
      ]
     },
     "execution_count": 27,
     "metadata": {},
     "output_type": "execute_result"
    }
   ],
   "source": [
    "# Looking into the dataframes\n",
    "listings.head()"
   ]
  },
  {
   "cell_type": "code",
   "execution_count": 28,
   "id": "c1424a48",
   "metadata": {},
   "outputs": [
    {
     "data": {
      "text/html": [
       "<div>\n",
       "<style scoped>\n",
       "    .dataframe tbody tr th:only-of-type {\n",
       "        vertical-align: middle;\n",
       "    }\n",
       "\n",
       "    .dataframe tbody tr th {\n",
       "        vertical-align: top;\n",
       "    }\n",
       "\n",
       "    .dataframe thead th {\n",
       "        text-align: right;\n",
       "    }\n",
       "</style>\n",
       "<table border=\"1\" class=\"dataframe\">\n",
       "  <thead>\n",
       "    <tr style=\"text-align: right;\">\n",
       "      <th></th>\n",
       "      <th>listing_id</th>\n",
       "      <th>date</th>\n",
       "      <th>available</th>\n",
       "      <th>price</th>\n",
       "      <th>adjusted_price</th>\n",
       "      <th>minimum_nights</th>\n",
       "      <th>maximum_nights</th>\n",
       "    </tr>\n",
       "  </thead>\n",
       "  <tbody>\n",
       "    <tr>\n",
       "      <th>0</th>\n",
       "      <td>26660141</td>\n",
       "      <td>2022-06-07</td>\n",
       "      <td>f</td>\n",
       "      <td>$90.00</td>\n",
       "      <td>$90.00</td>\n",
       "      <td>5.0</td>\n",
       "      <td>8.0</td>\n",
       "    </tr>\n",
       "    <tr>\n",
       "      <th>1</th>\n",
       "      <td>26660141</td>\n",
       "      <td>2022-06-08</td>\n",
       "      <td>f</td>\n",
       "      <td>$90.00</td>\n",
       "      <td>$90.00</td>\n",
       "      <td>5.0</td>\n",
       "      <td>8.0</td>\n",
       "    </tr>\n",
       "    <tr>\n",
       "      <th>2</th>\n",
       "      <td>26660141</td>\n",
       "      <td>2022-06-09</td>\n",
       "      <td>f</td>\n",
       "      <td>$90.00</td>\n",
       "      <td>$90.00</td>\n",
       "      <td>5.0</td>\n",
       "      <td>8.0</td>\n",
       "    </tr>\n",
       "    <tr>\n",
       "      <th>3</th>\n",
       "      <td>26660141</td>\n",
       "      <td>2022-06-10</td>\n",
       "      <td>f</td>\n",
       "      <td>$90.00</td>\n",
       "      <td>$90.00</td>\n",
       "      <td>5.0</td>\n",
       "      <td>8.0</td>\n",
       "    </tr>\n",
       "    <tr>\n",
       "      <th>4</th>\n",
       "      <td>26660141</td>\n",
       "      <td>2022-06-11</td>\n",
       "      <td>f</td>\n",
       "      <td>$90.00</td>\n",
       "      <td>$90.00</td>\n",
       "      <td>5.0</td>\n",
       "      <td>8.0</td>\n",
       "    </tr>\n",
       "  </tbody>\n",
       "</table>\n",
       "</div>"
      ],
      "text/plain": [
       "   listing_id        date available   price adjusted_price  minimum_nights  \\\n",
       "0    26660141  2022-06-07         f  $90.00         $90.00             5.0   \n",
       "1    26660141  2022-06-08         f  $90.00         $90.00             5.0   \n",
       "2    26660141  2022-06-09         f  $90.00         $90.00             5.0   \n",
       "3    26660141  2022-06-10         f  $90.00         $90.00             5.0   \n",
       "4    26660141  2022-06-11         f  $90.00         $90.00             5.0   \n",
       "\n",
       "   maximum_nights  \n",
       "0             8.0  \n",
       "1             8.0  \n",
       "2             8.0  \n",
       "3             8.0  \n",
       "4             8.0  "
      ]
     },
     "execution_count": 28,
     "metadata": {},
     "output_type": "execute_result"
    }
   ],
   "source": [
    "calendar.head()"
   ]
  },
  {
   "cell_type": "code",
   "execution_count": 29,
   "id": "6211d77a",
   "metadata": {},
   "outputs": [
    {
     "name": "stdout",
     "output_type": "stream",
     "text": [
      "The shape of listings dataframe is: (56739, 74)\n",
      "The shape of calendar dataframe is: (20707929, 7)\n"
     ]
    }
   ],
   "source": [
    "# Calculating the shapes of dataframes\n",
    "\n",
    "print('The shape of listings dataframe is:',listings.shape)\n",
    "print('The shape of calendar dataframe is:',calendar.shape)"
   ]
  },
  {
   "cell_type": "code",
   "execution_count": 30,
   "id": "aa57532f",
   "metadata": {},
   "outputs": [
    {
     "data": {
      "text/html": [
       "<div>\n",
       "<style scoped>\n",
       "    .dataframe tbody tr th:only-of-type {\n",
       "        vertical-align: middle;\n",
       "    }\n",
       "\n",
       "    .dataframe tbody tr th {\n",
       "        vertical-align: top;\n",
       "    }\n",
       "\n",
       "    .dataframe thead th {\n",
       "        text-align: right;\n",
       "    }\n",
       "</style>\n",
       "<table border=\"1\" class=\"dataframe\">\n",
       "  <thead>\n",
       "    <tr style=\"text-align: right;\">\n",
       "      <th></th>\n",
       "      <th>id</th>\n",
       "      <th>scrape_id</th>\n",
       "      <th>host_id</th>\n",
       "      <th>host_listings_count</th>\n",
       "      <th>host_total_listings_count</th>\n",
       "      <th>neighbourhood_group_cleansed</th>\n",
       "      <th>latitude</th>\n",
       "      <th>longitude</th>\n",
       "      <th>accommodates</th>\n",
       "      <th>bathrooms</th>\n",
       "      <th>...</th>\n",
       "      <th>review_scores_cleanliness</th>\n",
       "      <th>review_scores_checkin</th>\n",
       "      <th>review_scores_communication</th>\n",
       "      <th>review_scores_location</th>\n",
       "      <th>review_scores_value</th>\n",
       "      <th>calculated_host_listings_count</th>\n",
       "      <th>calculated_host_listings_count_entire_homes</th>\n",
       "      <th>calculated_host_listings_count_private_rooms</th>\n",
       "      <th>calculated_host_listings_count_shared_rooms</th>\n",
       "      <th>reviews_per_month</th>\n",
       "    </tr>\n",
       "  </thead>\n",
       "  <tbody>\n",
       "    <tr>\n",
       "      <th>count</th>\n",
       "      <td>5.673900e+04</td>\n",
       "      <td>5.673900e+04</td>\n",
       "      <td>5.673900e+04</td>\n",
       "      <td>56727.000000</td>\n",
       "      <td>56727.000000</td>\n",
       "      <td>0.0</td>\n",
       "      <td>56739.000000</td>\n",
       "      <td>56739.000000</td>\n",
       "      <td>56739.000000</td>\n",
       "      <td>0.0</td>\n",
       "      <td>...</td>\n",
       "      <td>44684.000000</td>\n",
       "      <td>44673.000000</td>\n",
       "      <td>44681.000000</td>\n",
       "      <td>44670.000000</td>\n",
       "      <td>44668.000000</td>\n",
       "      <td>56739.000000</td>\n",
       "      <td>56739.000000</td>\n",
       "      <td>56739.000000</td>\n",
       "      <td>56739.000000</td>\n",
       "      <td>45281.000000</td>\n",
       "    </tr>\n",
       "    <tr>\n",
       "      <th>mean</th>\n",
       "      <td>6.935639e+16</td>\n",
       "      <td>2.022061e+13</td>\n",
       "      <td>1.128384e+08</td>\n",
       "      <td>12.481041</td>\n",
       "      <td>12.481041</td>\n",
       "      <td>NaN</td>\n",
       "      <td>48.863462</td>\n",
       "      <td>2.343554</td>\n",
       "      <td>3.060135</td>\n",
       "      <td>NaN</td>\n",
       "      <td>...</td>\n",
       "      <td>4.593612</td>\n",
       "      <td>4.793961</td>\n",
       "      <td>4.804103</td>\n",
       "      <td>4.789998</td>\n",
       "      <td>4.608434</td>\n",
       "      <td>10.025045</td>\n",
       "      <td>9.264915</td>\n",
       "      <td>0.538836</td>\n",
       "      <td>0.034826</td>\n",
       "      <td>0.980303</td>\n",
       "    </tr>\n",
       "    <tr>\n",
       "      <th>std</th>\n",
       "      <td>1.922281e+17</td>\n",
       "      <td>2.722680e+01</td>\n",
       "      <td>1.360755e+08</td>\n",
       "      <td>83.879858</td>\n",
       "      <td>83.879858</td>\n",
       "      <td>NaN</td>\n",
       "      <td>0.020537</td>\n",
       "      <td>0.040348</td>\n",
       "      <td>1.666769</td>\n",
       "      <td>NaN</td>\n",
       "      <td>...</td>\n",
       "      <td>0.523597</td>\n",
       "      <td>0.402834</td>\n",
       "      <td>0.401047</td>\n",
       "      <td>0.353174</td>\n",
       "      <td>0.467024</td>\n",
       "      <td>31.835610</td>\n",
       "      <td>31.685771</td>\n",
       "      <td>3.410858</td>\n",
       "      <td>0.672199</td>\n",
       "      <td>1.541610</td>\n",
       "    </tr>\n",
       "    <tr>\n",
       "      <th>min</th>\n",
       "      <td>5.396000e+03</td>\n",
       "      <td>2.022061e+13</td>\n",
       "      <td>2.626000e+03</td>\n",
       "      <td>0.000000</td>\n",
       "      <td>0.000000</td>\n",
       "      <td>NaN</td>\n",
       "      <td>48.803750</td>\n",
       "      <td>2.206290</td>\n",
       "      <td>0.000000</td>\n",
       "      <td>NaN</td>\n",
       "      <td>...</td>\n",
       "      <td>0.000000</td>\n",
       "      <td>0.000000</td>\n",
       "      <td>0.000000</td>\n",
       "      <td>0.000000</td>\n",
       "      <td>0.000000</td>\n",
       "      <td>1.000000</td>\n",
       "      <td>0.000000</td>\n",
       "      <td>0.000000</td>\n",
       "      <td>0.000000</td>\n",
       "      <td>0.010000</td>\n",
       "    </tr>\n",
       "    <tr>\n",
       "      <th>25%</th>\n",
       "      <td>1.369082e+07</td>\n",
       "      <td>2.022061e+13</td>\n",
       "      <td>1.463397e+07</td>\n",
       "      <td>1.000000</td>\n",
       "      <td>1.000000</td>\n",
       "      <td>NaN</td>\n",
       "      <td>48.849310</td>\n",
       "      <td>2.319836</td>\n",
       "      <td>2.000000</td>\n",
       "      <td>NaN</td>\n",
       "      <td>...</td>\n",
       "      <td>4.440000</td>\n",
       "      <td>4.750000</td>\n",
       "      <td>4.780000</td>\n",
       "      <td>4.730000</td>\n",
       "      <td>4.500000</td>\n",
       "      <td>1.000000</td>\n",
       "      <td>1.000000</td>\n",
       "      <td>0.000000</td>\n",
       "      <td>0.000000</td>\n",
       "      <td>0.140000</td>\n",
       "    </tr>\n",
       "    <tr>\n",
       "      <th>50%</th>\n",
       "      <td>3.092530e+07</td>\n",
       "      <td>2.022061e+13</td>\n",
       "      <td>4.425650e+07</td>\n",
       "      <td>1.000000</td>\n",
       "      <td>1.000000</td>\n",
       "      <td>NaN</td>\n",
       "      <td>48.865160</td>\n",
       "      <td>2.347200</td>\n",
       "      <td>2.000000</td>\n",
       "      <td>NaN</td>\n",
       "      <td>...</td>\n",
       "      <td>4.750000</td>\n",
       "      <td>4.920000</td>\n",
       "      <td>4.940000</td>\n",
       "      <td>4.900000</td>\n",
       "      <td>4.710000</td>\n",
       "      <td>1.000000</td>\n",
       "      <td>1.000000</td>\n",
       "      <td>0.000000</td>\n",
       "      <td>0.000000</td>\n",
       "      <td>0.460000</td>\n",
       "    </tr>\n",
       "    <tr>\n",
       "      <th>75%</th>\n",
       "      <td>4.716712e+07</td>\n",
       "      <td>2.022061e+13</td>\n",
       "      <td>1.767666e+08</td>\n",
       "      <td>2.000000</td>\n",
       "      <td>2.000000</td>\n",
       "      <td>NaN</td>\n",
       "      <td>48.879630</td>\n",
       "      <td>2.370911</td>\n",
       "      <td>4.000000</td>\n",
       "      <td>NaN</td>\n",
       "      <td>...</td>\n",
       "      <td>4.960000</td>\n",
       "      <td>5.000000</td>\n",
       "      <td>5.000000</td>\n",
       "      <td>5.000000</td>\n",
       "      <td>4.890000</td>\n",
       "      <td>2.000000</td>\n",
       "      <td>1.000000</td>\n",
       "      <td>0.000000</td>\n",
       "      <td>0.000000</td>\n",
       "      <td>1.220000</td>\n",
       "    </tr>\n",
       "    <tr>\n",
       "      <th>max</th>\n",
       "      <td>6.421428e+17</td>\n",
       "      <td>2.022061e+13</td>\n",
       "      <td>4.625783e+08</td>\n",
       "      <td>1246.000000</td>\n",
       "      <td>1246.000000</td>\n",
       "      <td>NaN</td>\n",
       "      <td>48.913920</td>\n",
       "      <td>2.487250</td>\n",
       "      <td>16.000000</td>\n",
       "      <td>NaN</td>\n",
       "      <td>...</td>\n",
       "      <td>5.000000</td>\n",
       "      <td>5.000000</td>\n",
       "      <td>5.000000</td>\n",
       "      <td>5.000000</td>\n",
       "      <td>5.000000</td>\n",
       "      <td>233.000000</td>\n",
       "      <td>233.000000</td>\n",
       "      <td>75.000000</td>\n",
       "      <td>26.000000</td>\n",
       "      <td>85.170000</td>\n",
       "    </tr>\n",
       "  </tbody>\n",
       "</table>\n",
       "<p>8 rows × 40 columns</p>\n",
       "</div>"
      ],
      "text/plain": [
       "                 id     scrape_id       host_id  host_listings_count  \\\n",
       "count  5.673900e+04  5.673900e+04  5.673900e+04         56727.000000   \n",
       "mean   6.935639e+16  2.022061e+13  1.128384e+08            12.481041   \n",
       "std    1.922281e+17  2.722680e+01  1.360755e+08            83.879858   \n",
       "min    5.396000e+03  2.022061e+13  2.626000e+03             0.000000   \n",
       "25%    1.369082e+07  2.022061e+13  1.463397e+07             1.000000   \n",
       "50%    3.092530e+07  2.022061e+13  4.425650e+07             1.000000   \n",
       "75%    4.716712e+07  2.022061e+13  1.767666e+08             2.000000   \n",
       "max    6.421428e+17  2.022061e+13  4.625783e+08          1246.000000   \n",
       "\n",
       "       host_total_listings_count  neighbourhood_group_cleansed      latitude  \\\n",
       "count               56727.000000                           0.0  56739.000000   \n",
       "mean                   12.481041                           NaN     48.863462   \n",
       "std                    83.879858                           NaN      0.020537   \n",
       "min                     0.000000                           NaN     48.803750   \n",
       "25%                     1.000000                           NaN     48.849310   \n",
       "50%                     1.000000                           NaN     48.865160   \n",
       "75%                     2.000000                           NaN     48.879630   \n",
       "max                  1246.000000                           NaN     48.913920   \n",
       "\n",
       "          longitude  accommodates  bathrooms  ...  review_scores_cleanliness  \\\n",
       "count  56739.000000  56739.000000        0.0  ...               44684.000000   \n",
       "mean       2.343554      3.060135        NaN  ...                   4.593612   \n",
       "std        0.040348      1.666769        NaN  ...                   0.523597   \n",
       "min        2.206290      0.000000        NaN  ...                   0.000000   \n",
       "25%        2.319836      2.000000        NaN  ...                   4.440000   \n",
       "50%        2.347200      2.000000        NaN  ...                   4.750000   \n",
       "75%        2.370911      4.000000        NaN  ...                   4.960000   \n",
       "max        2.487250     16.000000        NaN  ...                   5.000000   \n",
       "\n",
       "       review_scores_checkin  review_scores_communication  \\\n",
       "count           44673.000000                 44681.000000   \n",
       "mean                4.793961                     4.804103   \n",
       "std                 0.402834                     0.401047   \n",
       "min                 0.000000                     0.000000   \n",
       "25%                 4.750000                     4.780000   \n",
       "50%                 4.920000                     4.940000   \n",
       "75%                 5.000000                     5.000000   \n",
       "max                 5.000000                     5.000000   \n",
       "\n",
       "       review_scores_location  review_scores_value  \\\n",
       "count            44670.000000         44668.000000   \n",
       "mean                 4.789998             4.608434   \n",
       "std                  0.353174             0.467024   \n",
       "min                  0.000000             0.000000   \n",
       "25%                  4.730000             4.500000   \n",
       "50%                  4.900000             4.710000   \n",
       "75%                  5.000000             4.890000   \n",
       "max                  5.000000             5.000000   \n",
       "\n",
       "       calculated_host_listings_count  \\\n",
       "count                    56739.000000   \n",
       "mean                        10.025045   \n",
       "std                         31.835610   \n",
       "min                          1.000000   \n",
       "25%                          1.000000   \n",
       "50%                          1.000000   \n",
       "75%                          2.000000   \n",
       "max                        233.000000   \n",
       "\n",
       "       calculated_host_listings_count_entire_homes  \\\n",
       "count                                 56739.000000   \n",
       "mean                                      9.264915   \n",
       "std                                      31.685771   \n",
       "min                                       0.000000   \n",
       "25%                                       1.000000   \n",
       "50%                                       1.000000   \n",
       "75%                                       1.000000   \n",
       "max                                     233.000000   \n",
       "\n",
       "       calculated_host_listings_count_private_rooms  \\\n",
       "count                                  56739.000000   \n",
       "mean                                       0.538836   \n",
       "std                                        3.410858   \n",
       "min                                        0.000000   \n",
       "25%                                        0.000000   \n",
       "50%                                        0.000000   \n",
       "75%                                        0.000000   \n",
       "max                                       75.000000   \n",
       "\n",
       "       calculated_host_listings_count_shared_rooms  reviews_per_month  \n",
       "count                                 56739.000000       45281.000000  \n",
       "mean                                      0.034826           0.980303  \n",
       "std                                       0.672199           1.541610  \n",
       "min                                       0.000000           0.010000  \n",
       "25%                                       0.000000           0.140000  \n",
       "50%                                       0.000000           0.460000  \n",
       "75%                                       0.000000           1.220000  \n",
       "max                                      26.000000          85.170000  \n",
       "\n",
       "[8 rows x 40 columns]"
      ]
     },
     "execution_count": 30,
     "metadata": {},
     "output_type": "execute_result"
    }
   ],
   "source": [
    "# Viewing some descriptive statistics about the numerical values of listings dataframe\n",
    "listings.describe()"
   ]
  },
  {
   "cell_type": "markdown",
   "id": "b17740bb",
   "metadata": {},
   "source": [
    "\n",
    "We can notice for the moment that **neighbourhood_group_cleansed** and **bathrooms** are the columns with the most missing values. We can confirm that by taking a look into the number of missing values per column.\n"
   ]
  },
  {
   "cell_type": "code",
   "execution_count": 31,
   "id": "e8814948",
   "metadata": {},
   "outputs": [
    {
     "data": {
      "text/plain": [
       "id                                  0\n",
       "availability_30                     0\n",
       "number_of_reviews                   0\n",
       "neighbourhood_cleansed              0\n",
       "calendar_last_scraped               0\n",
       "                                ...  \n",
       "license                         24724\n",
       "host_about                      29151\n",
       "calendar_updated                56739\n",
       "neighbourhood_group_cleansed    56739\n",
       "bathrooms                       56739\n",
       "Length: 74, dtype: int64"
      ]
     },
     "execution_count": 31,
     "metadata": {},
     "output_type": "execute_result"
    }
   ],
   "source": [
    "# View the count of missing values of listings dataframe\n",
    "\n",
    "listings.isnull().sum().sort_values()"
   ]
  },
  {
   "cell_type": "markdown",
   "id": "c44c7563",
   "metadata": {},
   "source": [
    "We can also notice that the **calendar_updated** column is full of missing values."
   ]
  },
  {
   "cell_type": "code",
   "execution_count": 32,
   "id": "9fd7f136",
   "metadata": {},
   "outputs": [
    {
     "data": {
      "image/png": "[encoded data removed]",
      "text/plain": [
       "<Figure size 432x288 with 1 Axes>"
      ]
     },
     "metadata": {
      "needs_background": "light"
     },
     "output_type": "display_data"
    }
   ],
   "source": [
    "# Plot the ratio of missing values with the number of values for the listings dataframe\n",
    "\n",
    "(listings.isnull().sum()/listings.shape[0]).sort_values(ascending=False)[:10].plot(kind='bar');"
   ]
  },
  {
   "cell_type": "markdown",
   "id": "25b36482",
   "metadata": {},
   "source": [
    "\n",
    "\n",
    "This plot shows the top 10 columns with missing values, we can see that **neighbourhood_group_cleansed**, **bathrooms** and **calendar_updated** come first with 100 % of missing values rate compared to the whole values."
   ]
  },
  {
   "cell_type": "code",
   "execution_count": 33,
   "id": "6711a7c4",
   "metadata": {},
   "outputs": [
    {
     "data": {
      "text/html": [
       "<div>\n",
       "<style scoped>\n",
       "    .dataframe tbody tr th:only-of-type {\n",
       "        vertical-align: middle;\n",
       "    }\n",
       "\n",
       "    .dataframe tbody tr th {\n",
       "        vertical-align: top;\n",
       "    }\n",
       "\n",
       "    .dataframe thead th {\n",
       "        text-align: right;\n",
       "    }\n",
       "</style>\n",
       "<table border=\"1\" class=\"dataframe\">\n",
       "  <thead>\n",
       "    <tr style=\"text-align: right;\">\n",
       "      <th></th>\n",
       "      <th>listing_id</th>\n",
       "      <th>minimum_nights</th>\n",
       "      <th>maximum_nights</th>\n",
       "    </tr>\n",
       "  </thead>\n",
       "  <tbody>\n",
       "    <tr>\n",
       "      <th>count</th>\n",
       "      <td>2.070793e+07</td>\n",
       "      <td>2.070756e+07</td>\n",
       "      <td>2.070756e+07</td>\n",
       "    </tr>\n",
       "    <tr>\n",
       "      <th>mean</th>\n",
       "      <td>6.936259e+16</td>\n",
       "      <td>8.954375e+01</td>\n",
       "      <td>4.780960e+05</td>\n",
       "    </tr>\n",
       "    <tr>\n",
       "      <th>std</th>\n",
       "      <td>1.922339e+17</td>\n",
       "      <td>1.602215e+02</td>\n",
       "      <td>3.200689e+07</td>\n",
       "    </tr>\n",
       "    <tr>\n",
       "      <th>min</th>\n",
       "      <td>5.396000e+03</td>\n",
       "      <td>1.000000e+00</td>\n",
       "      <td>1.000000e+00</td>\n",
       "    </tr>\n",
       "    <tr>\n",
       "      <th>25%</th>\n",
       "      <td>1.368675e+07</td>\n",
       "      <td>2.000000e+00</td>\n",
       "      <td>3.000000e+02</td>\n",
       "    </tr>\n",
       "    <tr>\n",
       "      <th>50%</th>\n",
       "      <td>3.092166e+07</td>\n",
       "      <td>3.000000e+00</td>\n",
       "      <td>1.125000e+03</td>\n",
       "    </tr>\n",
       "    <tr>\n",
       "      <th>75%</th>\n",
       "      <td>4.716802e+07</td>\n",
       "      <td>3.000000e+01</td>\n",
       "      <td>1.125000e+03</td>\n",
       "    </tr>\n",
       "    <tr>\n",
       "      <th>max</th>\n",
       "      <td>6.421428e+17</td>\n",
       "      <td>9.999000e+03</td>\n",
       "      <td>2.147484e+09</td>\n",
       "    </tr>\n",
       "  </tbody>\n",
       "</table>\n",
       "</div>"
      ],
      "text/plain": [
       "         listing_id  minimum_nights  maximum_nights\n",
       "count  2.070793e+07    2.070756e+07    2.070756e+07\n",
       "mean   6.936259e+16    8.954375e+01    4.780960e+05\n",
       "std    1.922339e+17    1.602215e+02    3.200689e+07\n",
       "min    5.396000e+03    1.000000e+00    1.000000e+00\n",
       "25%    1.368675e+07    2.000000e+00    3.000000e+02\n",
       "50%    3.092166e+07    3.000000e+00    1.125000e+03\n",
       "75%    4.716802e+07    3.000000e+01    1.125000e+03\n",
       "max    6.421428e+17    9.999000e+03    2.147484e+09"
      ]
     },
     "execution_count": 33,
     "metadata": {},
     "output_type": "execute_result"
    }
   ],
   "source": [
    "# Viewing some descriptive statistics about the numerical values of calendar dataframe\n",
    "calendar.describe()"
   ]
  },
  {
   "cell_type": "markdown",
   "id": "93c95361",
   "metadata": {},
   "source": [
    "\n",
    "We can notice that **maxiumum_nights** is the column with the biggest variations of values.\n"
   ]
  },
  {
   "cell_type": "code",
   "execution_count": 34,
   "id": "b14d20bd",
   "metadata": {},
   "outputs": [
    {
     "data": {
      "text/plain": [
       "listing_id          0\n",
       "date                0\n",
       "available           0\n",
       "price             173\n",
       "adjusted_price    173\n",
       "minimum_nights    366\n",
       "maximum_nights    366\n",
       "dtype: int64"
      ]
     },
     "execution_count": 34,
     "metadata": {},
     "output_type": "execute_result"
    }
   ],
   "source": [
    "# View the count of missing values of calendar dataframe\n",
    "calendar.isnull().sum()\n"
   ]
  },
  {
   "cell_type": "code",
   "execution_count": 35,
   "id": "88a1246f",
   "metadata": {
    "scrolled": false
   },
   "outputs": [
    {
     "data": {
      "image/png": "[encoded data removed]",
      "text/plain": [
       "<Figure size 432x288 with 1 Axes>"
      ]
     },
     "metadata": {
      "needs_background": "light"
     },
     "output_type": "display_data"
    }
   ],
   "source": [
    "# Plot the number of missing values with the number of values for the calendar dataframe\n",
    "(calendar.isnull().sum()).plot(kind='bar');\n"
   ]
  },
  {
   "cell_type": "markdown",
   "id": "d82f27ae",
   "metadata": {},
   "source": [
    "\n",
    "We can conclude from the previous figure that there's a small number of missing values in **calendar** dataframe compared to the whole size of the dataframe."
   ]
  },
  {
   "cell_type": "code",
   "execution_count": 36,
   "id": "3353ed3e",
   "metadata": {},
   "outputs": [
    {
     "data": {
      "text/html": [
       "<div>\n",
       "<style scoped>\n",
       "    .dataframe tbody tr th:only-of-type {\n",
       "        vertical-align: middle;\n",
       "    }\n",
       "\n",
       "    .dataframe tbody tr th {\n",
       "        vertical-align: top;\n",
       "    }\n",
       "\n",
       "    .dataframe thead th {\n",
       "        text-align: right;\n",
       "    }\n",
       "</style>\n",
       "<table border=\"1\" class=\"dataframe\">\n",
       "  <thead>\n",
       "    <tr style=\"text-align: right;\">\n",
       "      <th></th>\n",
       "      <th>id</th>\n",
       "      <th>listing_url</th>\n",
       "      <th>scrape_id</th>\n",
       "      <th>last_scraped</th>\n",
       "      <th>name</th>\n",
       "      <th>description</th>\n",
       "      <th>neighborhood_overview</th>\n",
       "      <th>picture_url</th>\n",
       "      <th>host_id</th>\n",
       "      <th>host_url</th>\n",
       "      <th>...</th>\n",
       "      <th>review_scores_communication</th>\n",
       "      <th>review_scores_location</th>\n",
       "      <th>review_scores_value</th>\n",
       "      <th>license</th>\n",
       "      <th>instant_bookable</th>\n",
       "      <th>calculated_host_listings_count</th>\n",
       "      <th>calculated_host_listings_count_entire_homes</th>\n",
       "      <th>calculated_host_listings_count_private_rooms</th>\n",
       "      <th>calculated_host_listings_count_shared_rooms</th>\n",
       "      <th>reviews_per_month</th>\n",
       "    </tr>\n",
       "  </thead>\n",
       "  <tbody>\n",
       "    <tr>\n",
       "      <th>0</th>\n",
       "      <td>26660141</td>\n",
       "      <td>https://www.airbnb.com/rooms/26660141</td>\n",
       "      <td>20220606014139</td>\n",
       "      <td>2022-06-07</td>\n",
       "      <td>CHARMANT APPARTEMENT,  50M2 AUX PORTES DE PARIS</td>\n",
       "      <td>Charmant appartement avec petit balcon filant,...</td>\n",
       "      <td>La rue principale à la sortie du métro est trè...</td>\n",
       "      <td>https://a0.muscache.com/pictures/a776b332-0fde...</td>\n",
       "      <td>200407698</td>\n",
       "      <td>https://www.airbnb.com/users/show/200407698</td>\n",
       "      <td>...</td>\n",
       "      <td>5.00</td>\n",
       "      <td>4.88</td>\n",
       "      <td>4.94</td>\n",
       "      <td>NaN</td>\n",
       "      <td>f</td>\n",
       "      <td>1</td>\n",
       "      <td>1</td>\n",
       "      <td>0</td>\n",
       "      <td>0</td>\n",
       "      <td>0.38</td>\n",
       "    </tr>\n",
       "    <tr>\n",
       "      <th>1</th>\n",
       "      <td>25177338</td>\n",
       "      <td>https://www.airbnb.com/rooms/25177338</td>\n",
       "      <td>20220606014139</td>\n",
       "      <td>2022-06-07</td>\n",
       "      <td>Cosy and quiet appartement at Les Lilas</td>\n",
       "      <td>&lt;b&gt;The space&lt;/b&gt;&lt;br /&gt;Le logement est situé da...</td>\n",
       "      <td>NaN</td>\n",
       "      <td>https://a0.muscache.com/pictures/e984c1e4-6d40...</td>\n",
       "      <td>185793394</td>\n",
       "      <td>https://www.airbnb.com/users/show/185793394</td>\n",
       "      <td>...</td>\n",
       "      <td>4.56</td>\n",
       "      <td>4.50</td>\n",
       "      <td>4.56</td>\n",
       "      <td>NaN</td>\n",
       "      <td>t</td>\n",
       "      <td>1</td>\n",
       "      <td>1</td>\n",
       "      <td>0</td>\n",
       "      <td>0</td>\n",
       "      <td>0.35</td>\n",
       "    </tr>\n",
       "    <tr>\n",
       "      <th>2</th>\n",
       "      <td>25218084</td>\n",
       "      <td>https://www.airbnb.com/rooms/25218084</td>\n",
       "      <td>20220606014139</td>\n",
       "      <td>2022-06-07</td>\n",
       "      <td>paris avec une maison</td>\n",
       "      <td>une maison restaurée et faite à notre image ap...</td>\n",
       "      <td>Être dans un véritable maison avec un parc à q...</td>\n",
       "      <td>https://a0.muscache.com/pictures/dbfc69a1-76cb...</td>\n",
       "      <td>190542280</td>\n",
       "      <td>https://www.airbnb.com/users/show/190542280</td>\n",
       "      <td>...</td>\n",
       "      <td>5.00</td>\n",
       "      <td>4.50</td>\n",
       "      <td>5.00</td>\n",
       "      <td>NaN</td>\n",
       "      <td>f</td>\n",
       "      <td>1</td>\n",
       "      <td>1</td>\n",
       "      <td>0</td>\n",
       "      <td>0</td>\n",
       "      <td>0.05</td>\n",
       "    </tr>\n",
       "    <tr>\n",
       "      <th>3</th>\n",
       "      <td>23135649</td>\n",
       "      <td>https://www.airbnb.com/rooms/23135649</td>\n",
       "      <td>20220606014139</td>\n",
       "      <td>2022-06-07</td>\n",
       "      <td>Charming studio, Pont de Neuilly - Paris</td>\n",
       "      <td>Studio apartment in the heart of the prestigio...</td>\n",
       "      <td>The Saint James district of Neuilly sur Seine ...</td>\n",
       "      <td>https://a0.muscache.com/pictures/58399f3d-c271...</td>\n",
       "      <td>171938056</td>\n",
       "      <td>https://www.airbnb.com/users/show/171938056</td>\n",
       "      <td>...</td>\n",
       "      <td>4.94</td>\n",
       "      <td>4.87</td>\n",
       "      <td>4.61</td>\n",
       "      <td>NaN</td>\n",
       "      <td>f</td>\n",
       "      <td>1</td>\n",
       "      <td>0</td>\n",
       "      <td>1</td>\n",
       "      <td>0</td>\n",
       "      <td>0.65</td>\n",
       "    </tr>\n",
       "    <tr>\n",
       "      <th>4</th>\n",
       "      <td>23259887</td>\n",
       "      <td>https://www.airbnb.com/rooms/23259887</td>\n",
       "      <td>20220606014139</td>\n",
       "      <td>2022-06-07</td>\n",
       "      <td>A cosy appartement</td>\n",
       "      <td>Situé dans un quartier agréable proche de Chât...</td>\n",
       "      <td>NaN</td>\n",
       "      <td>https://a0.muscache.com/pictures/ad0ade9c-89d5...</td>\n",
       "      <td>20135501</td>\n",
       "      <td>https://www.airbnb.com/users/show/20135501</td>\n",
       "      <td>...</td>\n",
       "      <td>4.86</td>\n",
       "      <td>4.91</td>\n",
       "      <td>4.65</td>\n",
       "      <td>NaN</td>\n",
       "      <td>t</td>\n",
       "      <td>1</td>\n",
       "      <td>1</td>\n",
       "      <td>0</td>\n",
       "      <td>0</td>\n",
       "      <td>0.87</td>\n",
       "    </tr>\n",
       "  </tbody>\n",
       "</table>\n",
       "<p>5 rows × 71 columns</p>\n",
       "</div>"
      ],
      "text/plain": [
       "         id                            listing_url       scrape_id  \\\n",
       "0  26660141  https://www.airbnb.com/rooms/26660141  20220606014139   \n",
       "1  25177338  https://www.airbnb.com/rooms/25177338  20220606014139   \n",
       "2  25218084  https://www.airbnb.com/rooms/25218084  20220606014139   \n",
       "3  23135649  https://www.airbnb.com/rooms/23135649  20220606014139   \n",
       "4  23259887  https://www.airbnb.com/rooms/23259887  20220606014139   \n",
       "\n",
       "  last_scraped                                             name  \\\n",
       "0   2022-06-07  CHARMANT APPARTEMENT,  50M2 AUX PORTES DE PARIS   \n",
       "1   2022-06-07          Cosy and quiet appartement at Les Lilas   \n",
       "2   2022-06-07                            paris avec une maison   \n",
       "3   2022-06-07         Charming studio, Pont de Neuilly - Paris   \n",
       "4   2022-06-07                               A cosy appartement   \n",
       "\n",
       "                                         description  \\\n",
       "0  Charmant appartement avec petit balcon filant,...   \n",
       "1  <b>The space</b><br />Le logement est situé da...   \n",
       "2  une maison restaurée et faite à notre image ap...   \n",
       "3  Studio apartment in the heart of the prestigio...   \n",
       "4  Situé dans un quartier agréable proche de Chât...   \n",
       "\n",
       "                               neighborhood_overview  \\\n",
       "0  La rue principale à la sortie du métro est trè...   \n",
       "1                                                NaN   \n",
       "2  Être dans un véritable maison avec un parc à q...   \n",
       "3  The Saint James district of Neuilly sur Seine ...   \n",
       "4                                                NaN   \n",
       "\n",
       "                                         picture_url    host_id  \\\n",
       "0  https://a0.muscache.com/pictures/a776b332-0fde...  200407698   \n",
       "1  https://a0.muscache.com/pictures/e984c1e4-6d40...  185793394   \n",
       "2  https://a0.muscache.com/pictures/dbfc69a1-76cb...  190542280   \n",
       "3  https://a0.muscache.com/pictures/58399f3d-c271...  171938056   \n",
       "4  https://a0.muscache.com/pictures/ad0ade9c-89d5...   20135501   \n",
       "\n",
       "                                      host_url  ...  \\\n",
       "0  https://www.airbnb.com/users/show/200407698  ...   \n",
       "1  https://www.airbnb.com/users/show/185793394  ...   \n",
       "2  https://www.airbnb.com/users/show/190542280  ...   \n",
       "3  https://www.airbnb.com/users/show/171938056  ...   \n",
       "4   https://www.airbnb.com/users/show/20135501  ...   \n",
       "\n",
       "  review_scores_communication review_scores_location review_scores_value  \\\n",
       "0                        5.00                   4.88                4.94   \n",
       "1                        4.56                   4.50                4.56   \n",
       "2                        5.00                   4.50                5.00   \n",
       "3                        4.94                   4.87                4.61   \n",
       "4                        4.86                   4.91                4.65   \n",
       "\n",
       "  license instant_bookable calculated_host_listings_count  \\\n",
       "0     NaN                f                              1   \n",
       "1     NaN                t                              1   \n",
       "2     NaN                f                              1   \n",
       "3     NaN                f                              1   \n",
       "4     NaN                t                              1   \n",
       "\n",
       "  calculated_host_listings_count_entire_homes  \\\n",
       "0                                           1   \n",
       "1                                           1   \n",
       "2                                           1   \n",
       "3                                           0   \n",
       "4                                           1   \n",
       "\n",
       "  calculated_host_listings_count_private_rooms  \\\n",
       "0                                            0   \n",
       "1                                            0   \n",
       "2                                            0   \n",
       "3                                            1   \n",
       "4                                            0   \n",
       "\n",
       "  calculated_host_listings_count_shared_rooms reviews_per_month  \n",
       "0                                           0              0.38  \n",
       "1                                           0              0.35  \n",
       "2                                           0              0.05  \n",
       "3                                           0              0.65  \n",
       "4                                           0              0.87  \n",
       "\n",
       "[5 rows x 71 columns]"
      ]
     },
     "execution_count": 36,
     "metadata": {},
     "output_type": "execute_result"
    }
   ],
   "source": [
    "# Drop the duplicates and columns that are fully missing from the listings dataframe\n",
    "listings = listings.drop_duplicates()\n",
    "listings = listings.dropna(axis=1,how='all')\n",
    "listings.head()"
   ]
  },
  {
   "cell_type": "markdown",
   "id": "61f3d10b",
   "metadata": {},
   "source": [
    "\n",
    "\n",
    "We dropped the **neighbourhood_group_cleansed**, **bathrooms** and **calendar_updated** columns from the listings dataframe.\n",
    "\n",
    "Since we are interested in solving our first question about the **most booked neighbourhoods in Paris**, we are going to work with a slice of the data that doesn't include missing values in the **neighbourhood** column and **neighbourhood_cleansed** column. "
   ]
  },
  {
   "cell_type": "code",
   "execution_count": 37,
   "id": "fe23e2b0",
   "metadata": {},
   "outputs": [
    {
     "data": {
      "text/html": [
       "<div>\n",
       "<style scoped>\n",
       "    .dataframe tbody tr th:only-of-type {\n",
       "        vertical-align: middle;\n",
       "    }\n",
       "\n",
       "    .dataframe tbody tr th {\n",
       "        vertical-align: top;\n",
       "    }\n",
       "\n",
       "    .dataframe thead th {\n",
       "        text-align: right;\n",
       "    }\n",
       "</style>\n",
       "<table border=\"1\" class=\"dataframe\">\n",
       "  <thead>\n",
       "    <tr style=\"text-align: right;\">\n",
       "      <th></th>\n",
       "      <th>id</th>\n",
       "      <th>listing_url</th>\n",
       "      <th>scrape_id</th>\n",
       "      <th>last_scraped</th>\n",
       "      <th>name</th>\n",
       "      <th>description</th>\n",
       "      <th>neighborhood_overview</th>\n",
       "      <th>picture_url</th>\n",
       "      <th>host_id</th>\n",
       "      <th>host_url</th>\n",
       "      <th>...</th>\n",
       "      <th>review_scores_communication</th>\n",
       "      <th>review_scores_location</th>\n",
       "      <th>review_scores_value</th>\n",
       "      <th>license</th>\n",
       "      <th>instant_bookable</th>\n",
       "      <th>calculated_host_listings_count</th>\n",
       "      <th>calculated_host_listings_count_entire_homes</th>\n",
       "      <th>calculated_host_listings_count_private_rooms</th>\n",
       "      <th>calculated_host_listings_count_shared_rooms</th>\n",
       "      <th>reviews_per_month</th>\n",
       "    </tr>\n",
       "  </thead>\n",
       "  <tbody>\n",
       "    <tr>\n",
       "      <th>0</th>\n",
       "      <td>26660141</td>\n",
       "      <td>https://www.airbnb.com/rooms/26660141</td>\n",
       "      <td>20220606014139</td>\n",
       "      <td>2022-06-07</td>\n",
       "      <td>CHARMANT APPARTEMENT,  50M2 AUX PORTES DE PARIS</td>\n",
       "      <td>Charmant appartement avec petit balcon filant,...</td>\n",
       "      <td>La rue principale à la sortie du métro est trè...</td>\n",
       "      <td>https://a0.muscache.com/pictures/a776b332-0fde...</td>\n",
       "      <td>200407698</td>\n",
       "      <td>https://www.airbnb.com/users/show/200407698</td>\n",
       "      <td>...</td>\n",
       "      <td>5.00</td>\n",
       "      <td>4.88</td>\n",
       "      <td>4.94</td>\n",
       "      <td>NaN</td>\n",
       "      <td>f</td>\n",
       "      <td>1</td>\n",
       "      <td>1</td>\n",
       "      <td>0</td>\n",
       "      <td>0</td>\n",
       "      <td>0.38</td>\n",
       "    </tr>\n",
       "    <tr>\n",
       "      <th>2</th>\n",
       "      <td>25218084</td>\n",
       "      <td>https://www.airbnb.com/rooms/25218084</td>\n",
       "      <td>20220606014139</td>\n",
       "      <td>2022-06-07</td>\n",
       "      <td>paris avec une maison</td>\n",
       "      <td>une maison restaurée et faite à notre image ap...</td>\n",
       "      <td>Être dans un véritable maison avec un parc à q...</td>\n",
       "      <td>https://a0.muscache.com/pictures/dbfc69a1-76cb...</td>\n",
       "      <td>190542280</td>\n",
       "      <td>https://www.airbnb.com/users/show/190542280</td>\n",
       "      <td>...</td>\n",
       "      <td>5.00</td>\n",
       "      <td>4.50</td>\n",
       "      <td>5.00</td>\n",
       "      <td>NaN</td>\n",
       "      <td>f</td>\n",
       "      <td>1</td>\n",
       "      <td>1</td>\n",
       "      <td>0</td>\n",
       "      <td>0</td>\n",
       "      <td>0.05</td>\n",
       "    </tr>\n",
       "    <tr>\n",
       "      <th>3</th>\n",
       "      <td>23135649</td>\n",
       "      <td>https://www.airbnb.com/rooms/23135649</td>\n",
       "      <td>20220606014139</td>\n",
       "      <td>2022-06-07</td>\n",
       "      <td>Charming studio, Pont de Neuilly - Paris</td>\n",
       "      <td>Studio apartment in the heart of the prestigio...</td>\n",
       "      <td>The Saint James district of Neuilly sur Seine ...</td>\n",
       "      <td>https://a0.muscache.com/pictures/58399f3d-c271...</td>\n",
       "      <td>171938056</td>\n",
       "      <td>https://www.airbnb.com/users/show/171938056</td>\n",
       "      <td>...</td>\n",
       "      <td>4.94</td>\n",
       "      <td>4.87</td>\n",
       "      <td>4.61</td>\n",
       "      <td>NaN</td>\n",
       "      <td>f</td>\n",
       "      <td>1</td>\n",
       "      <td>0</td>\n",
       "      <td>1</td>\n",
       "      <td>0</td>\n",
       "      <td>0.65</td>\n",
       "    </tr>\n",
       "    <tr>\n",
       "      <th>6</th>\n",
       "      <td>26767859</td>\n",
       "      <td>https://www.airbnb.com/rooms/26767859</td>\n",
       "      <td>20220606014139</td>\n",
       "      <td>2022-06-07</td>\n",
       "      <td>Private room in a beautiful duplex next to Paris</td>\n",
       "      <td>Private room in a nice duplex (with two rooms)...</td>\n",
       "      <td>10 minutes walk from the Parc de la Villette (...</td>\n",
       "      <td>https://a0.muscache.com/pictures/1de4e19a-a452...</td>\n",
       "      <td>7786899</td>\n",
       "      <td>https://www.airbnb.com/users/show/7786899</td>\n",
       "      <td>...</td>\n",
       "      <td>5.00</td>\n",
       "      <td>4.00</td>\n",
       "      <td>4.00</td>\n",
       "      <td>NaN</td>\n",
       "      <td>f</td>\n",
       "      <td>3</td>\n",
       "      <td>1</td>\n",
       "      <td>2</td>\n",
       "      <td>0</td>\n",
       "      <td>0.03</td>\n",
       "    </tr>\n",
       "    <tr>\n",
       "      <th>9</th>\n",
       "      <td>9748063</td>\n",
       "      <td>https://www.airbnb.com/rooms/9748063</td>\n",
       "      <td>20220606014139</td>\n",
       "      <td>2022-06-06</td>\n",
       "      <td>High standing residence,  amazing view over Paris</td>\n",
       "      <td>Bright, panoramic view over Paris, Triple orie...</td>\n",
       "      <td>Puteaux is located at the doors of Paris and t...</td>\n",
       "      <td>https://a0.muscache.com/pictures/e8102d2c-2f6b...</td>\n",
       "      <td>50285920</td>\n",
       "      <td>https://www.airbnb.com/users/show/50285920</td>\n",
       "      <td>...</td>\n",
       "      <td>4.85</td>\n",
       "      <td>4.71</td>\n",
       "      <td>4.73</td>\n",
       "      <td>NaN</td>\n",
       "      <td>f</td>\n",
       "      <td>1</td>\n",
       "      <td>1</td>\n",
       "      <td>0</td>\n",
       "      <td>0</td>\n",
       "      <td>0.75</td>\n",
       "    </tr>\n",
       "  </tbody>\n",
       "</table>\n",
       "<p>5 rows × 71 columns</p>\n",
       "</div>"
      ],
      "text/plain": [
       "         id                            listing_url       scrape_id  \\\n",
       "0  26660141  https://www.airbnb.com/rooms/26660141  20220606014139   \n",
       "2  25218084  https://www.airbnb.com/rooms/25218084  20220606014139   \n",
       "3  23135649  https://www.airbnb.com/rooms/23135649  20220606014139   \n",
       "6  26767859  https://www.airbnb.com/rooms/26767859  20220606014139   \n",
       "9   9748063   https://www.airbnb.com/rooms/9748063  20220606014139   \n",
       "\n",
       "  last_scraped                                               name  \\\n",
       "0   2022-06-07    CHARMANT APPARTEMENT,  50M2 AUX PORTES DE PARIS   \n",
       "2   2022-06-07                              paris avec une maison   \n",
       "3   2022-06-07           Charming studio, Pont de Neuilly - Paris   \n",
       "6   2022-06-07   Private room in a beautiful duplex next to Paris   \n",
       "9   2022-06-06  High standing residence,  amazing view over Paris   \n",
       "\n",
       "                                         description  \\\n",
       "0  Charmant appartement avec petit balcon filant,...   \n",
       "2  une maison restaurée et faite à notre image ap...   \n",
       "3  Studio apartment in the heart of the prestigio...   \n",
       "6  Private room in a nice duplex (with two rooms)...   \n",
       "9  Bright, panoramic view over Paris, Triple orie...   \n",
       "\n",
       "                               neighborhood_overview  \\\n",
       "0  La rue principale à la sortie du métro est trè...   \n",
       "2  Être dans un véritable maison avec un parc à q...   \n",
       "3  The Saint James district of Neuilly sur Seine ...   \n",
       "6  10 minutes walk from the Parc de la Villette (...   \n",
       "9  Puteaux is located at the doors of Paris and t...   \n",
       "\n",
       "                                         picture_url    host_id  \\\n",
       "0  https://a0.muscache.com/pictures/a776b332-0fde...  200407698   \n",
       "2  https://a0.muscache.com/pictures/dbfc69a1-76cb...  190542280   \n",
       "3  https://a0.muscache.com/pictures/58399f3d-c271...  171938056   \n",
       "6  https://a0.muscache.com/pictures/1de4e19a-a452...    7786899   \n",
       "9  https://a0.muscache.com/pictures/e8102d2c-2f6b...   50285920   \n",
       "\n",
       "                                      host_url  ...  \\\n",
       "0  https://www.airbnb.com/users/show/200407698  ...   \n",
       "2  https://www.airbnb.com/users/show/190542280  ...   \n",
       "3  https://www.airbnb.com/users/show/171938056  ...   \n",
       "6    https://www.airbnb.com/users/show/7786899  ...   \n",
       "9   https://www.airbnb.com/users/show/50285920  ...   \n",
       "\n",
       "  review_scores_communication review_scores_location review_scores_value  \\\n",
       "0                        5.00                   4.88                4.94   \n",
       "2                        5.00                   4.50                5.00   \n",
       "3                        4.94                   4.87                4.61   \n",
       "6                        5.00                   4.00                4.00   \n",
       "9                        4.85                   4.71                4.73   \n",
       "\n",
       "  license instant_bookable calculated_host_listings_count  \\\n",
       "0     NaN                f                              1   \n",
       "2     NaN                f                              1   \n",
       "3     NaN                f                              1   \n",
       "6     NaN                f                              3   \n",
       "9     NaN                f                              1   \n",
       "\n",
       "  calculated_host_listings_count_entire_homes  \\\n",
       "0                                           1   \n",
       "2                                           1   \n",
       "3                                           0   \n",
       "6                                           1   \n",
       "9                                           1   \n",
       "\n",
       "  calculated_host_listings_count_private_rooms  \\\n",
       "0                                            0   \n",
       "2                                            0   \n",
       "3                                            1   \n",
       "6                                            2   \n",
       "9                                            0   \n",
       "\n",
       "  calculated_host_listings_count_shared_rooms reviews_per_month  \n",
       "0                                           0              0.38  \n",
       "2                                           0              0.05  \n",
       "3                                           0              0.65  \n",
       "6                                           0              0.03  \n",
       "9                                           0              0.75  \n",
       "\n",
       "[5 rows x 71 columns]"
      ]
     },
     "execution_count": 37,
     "metadata": {},
     "output_type": "execute_result"
    }
   ],
   "source": [
    "listings = listings.dropna(subset=['neighbourhood','neighbourhood_cleansed'])\n",
    "listings.head()"
   ]
  },
  {
   "cell_type": "markdown",
   "id": "2ef19a4b",
   "metadata": {},
   "source": [
    "### To answer the first question, we need to merge the two dataframes **listings** and **calendar** to get more insights about the availability of listings."
   ]
  },
  {
   "cell_type": "code",
   "execution_count": 38,
   "id": "ee413430",
   "metadata": {},
   "outputs": [],
   "source": [
    "# Rename the column listings ID column to match with listing_id in calendar dataframe \n",
    "# and also calendar_last_scraped to match the date column of calendar dataframe\n",
    "listings.rename(columns={\"id\":'listing_id','calendar_last_scraped':'date','has_availability':'available'},inplace=True)"
   ]
  },
  {
   "cell_type": "code",
   "execution_count": 39,
   "id": "16e2690e",
   "metadata": {},
   "outputs": [
    {
     "data": {
      "text/plain": [
       "Index(['listing_id', 'listing_url', 'scrape_id', 'last_scraped', 'name',\n",
       "       'description', 'neighborhood_overview', 'picture_url', 'host_id',\n",
       "       'host_url', 'host_name', 'host_since', 'host_location', 'host_about',\n",
       "       'host_response_time', 'host_response_rate', 'host_acceptance_rate',\n",
       "       'host_is_superhost', 'host_thumbnail_url', 'host_picture_url',\n",
       "       'host_neighbourhood', 'host_listings_count',\n",
       "       'host_total_listings_count', 'host_verifications',\n",
       "       'host_has_profile_pic', 'host_identity_verified', 'neighbourhood',\n",
       "       'neighbourhood_cleansed', 'latitude', 'longitude', 'property_type',\n",
       "       'room_type', 'accommodates', 'bathrooms_text', 'bedrooms', 'beds',\n",
       "       'amenities', 'price', 'minimum_nights', 'maximum_nights',\n",
       "       'minimum_minimum_nights', 'maximum_minimum_nights',\n",
       "       'minimum_maximum_nights', 'maximum_maximum_nights',\n",
       "       'minimum_nights_avg_ntm', 'maximum_nights_avg_ntm', 'available',\n",
       "       'availability_30', 'availability_60', 'availability_90',\n",
       "       'availability_365', 'date', 'number_of_reviews',\n",
       "       'number_of_reviews_ltm', 'number_of_reviews_l30d', 'first_review',\n",
       "       'last_review', 'review_scores_rating', 'review_scores_accuracy',\n",
       "       'review_scores_cleanliness', 'review_scores_checkin',\n",
       "       'review_scores_communication', 'review_scores_location',\n",
       "       'review_scores_value', 'license', 'instant_bookable',\n",
       "       'calculated_host_listings_count',\n",
       "       'calculated_host_listings_count_entire_homes',\n",
       "       'calculated_host_listings_count_private_rooms',\n",
       "       'calculated_host_listings_count_shared_rooms', 'reviews_per_month'],\n",
       "      dtype='object')"
      ]
     },
     "execution_count": 39,
     "metadata": {},
     "output_type": "execute_result"
    }
   ],
   "source": [
    "listings.columns"
   ]
  },
  {
   "cell_type": "code",
   "execution_count": 40,
   "id": "a557778a",
   "metadata": {},
   "outputs": [
    {
     "data": {
      "text/plain": [
       "f    14868257\n",
       "t     5839672\n",
       "Name: available, dtype: int64"
      ]
     },
     "execution_count": 40,
     "metadata": {},
     "output_type": "execute_result"
    }
   ],
   "source": [
    "# View the availability options from calendar dataframe\n",
    "calendar.available.value_counts(dropna=False)"
   ]
  },
  {
   "cell_type": "code",
   "execution_count": 41,
   "id": "2e067b7f",
   "metadata": {},
   "outputs": [
    {
     "data": {
      "text/plain": [
       "t    33199\n",
       "f       56\n",
       "Name: available, dtype: int64"
      ]
     },
     "execution_count": 41,
     "metadata": {},
     "output_type": "execute_result"
    }
   ],
   "source": [
    "# View the available and booked listings \n",
    "listings.available.value_counts(dropna=False)"
   ]
  },
  {
   "cell_type": "markdown",
   "id": "b6e05053",
   "metadata": {},
   "source": [
    "We have a binary availability options **t** for True which means available listing and **f** for False that means booked listing."
   ]
  },
  {
   "cell_type": "code",
   "execution_count": 42,
   "id": "cd41c955",
   "metadata": {},
   "outputs": [
    {
     "data": {
      "text/html": [
       "<div>\n",
       "<style scoped>\n",
       "    .dataframe tbody tr th:only-of-type {\n",
       "        vertical-align: middle;\n",
       "    }\n",
       "\n",
       "    .dataframe tbody tr th {\n",
       "        vertical-align: top;\n",
       "    }\n",
       "\n",
       "    .dataframe thead th {\n",
       "        text-align: right;\n",
       "    }\n",
       "</style>\n",
       "<table border=\"1\" class=\"dataframe\">\n",
       "  <thead>\n",
       "    <tr style=\"text-align: right;\">\n",
       "      <th></th>\n",
       "      <th>listing_id</th>\n",
       "      <th>date</th>\n",
       "      <th>available</th>\n",
       "      <th>price</th>\n",
       "      <th>adjusted_price</th>\n",
       "      <th>minimum_nights</th>\n",
       "      <th>maximum_nights</th>\n",
       "    </tr>\n",
       "  </thead>\n",
       "  <tbody>\n",
       "    <tr>\n",
       "      <th>0</th>\n",
       "      <td>26660141</td>\n",
       "      <td>2022-06-07</td>\n",
       "      <td>f</td>\n",
       "      <td>$90.00</td>\n",
       "      <td>$90.00</td>\n",
       "      <td>5.0</td>\n",
       "      <td>8.0</td>\n",
       "    </tr>\n",
       "    <tr>\n",
       "      <th>1</th>\n",
       "      <td>26660141</td>\n",
       "      <td>2022-06-08</td>\n",
       "      <td>f</td>\n",
       "      <td>$90.00</td>\n",
       "      <td>$90.00</td>\n",
       "      <td>5.0</td>\n",
       "      <td>8.0</td>\n",
       "    </tr>\n",
       "    <tr>\n",
       "      <th>2</th>\n",
       "      <td>26660141</td>\n",
       "      <td>2022-06-09</td>\n",
       "      <td>f</td>\n",
       "      <td>$90.00</td>\n",
       "      <td>$90.00</td>\n",
       "      <td>5.0</td>\n",
       "      <td>8.0</td>\n",
       "    </tr>\n",
       "    <tr>\n",
       "      <th>3</th>\n",
       "      <td>26660141</td>\n",
       "      <td>2022-06-10</td>\n",
       "      <td>f</td>\n",
       "      <td>$90.00</td>\n",
       "      <td>$90.00</td>\n",
       "      <td>5.0</td>\n",
       "      <td>8.0</td>\n",
       "    </tr>\n",
       "    <tr>\n",
       "      <th>4</th>\n",
       "      <td>26660141</td>\n",
       "      <td>2022-06-11</td>\n",
       "      <td>f</td>\n",
       "      <td>$90.00</td>\n",
       "      <td>$90.00</td>\n",
       "      <td>5.0</td>\n",
       "      <td>8.0</td>\n",
       "    </tr>\n",
       "  </tbody>\n",
       "</table>\n",
       "</div>"
      ],
      "text/plain": [
       "   listing_id        date available   price adjusted_price  minimum_nights  \\\n",
       "0    26660141  2022-06-07         f  $90.00         $90.00             5.0   \n",
       "1    26660141  2022-06-08         f  $90.00         $90.00             5.0   \n",
       "2    26660141  2022-06-09         f  $90.00         $90.00             5.0   \n",
       "3    26660141  2022-06-10         f  $90.00         $90.00             5.0   \n",
       "4    26660141  2022-06-11         f  $90.00         $90.00             5.0   \n",
       "\n",
       "   maximum_nights  \n",
       "0             8.0  \n",
       "1             8.0  \n",
       "2             8.0  \n",
       "3             8.0  \n",
       "4             8.0  "
      ]
     },
     "execution_count": 42,
     "metadata": {},
     "output_type": "execute_result"
    }
   ],
   "source": [
    "# Select the booked listings and drop missing values and duplicates\n",
    "calendar = calendar.dropna(subset=['listing_id','available','date','minimum_nights','maximum_nights'])\n",
    "calendar = calendar.drop_duplicates()\n",
    "booked_listings = calendar.loc[calendar.available=='f']\n",
    "booked_listings.head()"
   ]
  },
  {
   "cell_type": "code",
   "execution_count": 43,
   "id": "befe9a68",
   "metadata": {},
   "outputs": [
    {
     "data": {
      "text/html": [
       "<div>\n",
       "<style scoped>\n",
       "    .dataframe tbody tr th:only-of-type {\n",
       "        vertical-align: middle;\n",
       "    }\n",
       "\n",
       "    .dataframe tbody tr th {\n",
       "        vertical-align: top;\n",
       "    }\n",
       "\n",
       "    .dataframe thead th {\n",
       "        text-align: right;\n",
       "    }\n",
       "</style>\n",
       "<table border=\"1\" class=\"dataframe\">\n",
       "  <thead>\n",
       "    <tr style=\"text-align: right;\">\n",
       "      <th></th>\n",
       "      <th>listing_id</th>\n",
       "      <th>date</th>\n",
       "      <th>available</th>\n",
       "      <th>price</th>\n",
       "      <th>adjusted_price</th>\n",
       "      <th>minimum_nights</th>\n",
       "      <th>maximum_nights</th>\n",
       "      <th>listing_url</th>\n",
       "      <th>scrape_id</th>\n",
       "      <th>last_scraped</th>\n",
       "      <th>...</th>\n",
       "      <th>review_scores_communication</th>\n",
       "      <th>review_scores_location</th>\n",
       "      <th>review_scores_value</th>\n",
       "      <th>license</th>\n",
       "      <th>instant_bookable</th>\n",
       "      <th>calculated_host_listings_count</th>\n",
       "      <th>calculated_host_listings_count_entire_homes</th>\n",
       "      <th>calculated_host_listings_count_private_rooms</th>\n",
       "      <th>calculated_host_listings_count_shared_rooms</th>\n",
       "      <th>reviews_per_month</th>\n",
       "    </tr>\n",
       "  </thead>\n",
       "  <tbody>\n",
       "    <tr>\n",
       "      <th>0</th>\n",
       "      <td>1384098</td>\n",
       "      <td>2022-06-06</td>\n",
       "      <td>f</td>\n",
       "      <td>$140.00</td>\n",
       "      <td>$140.00</td>\n",
       "      <td>365.0</td>\n",
       "      <td>1125.0</td>\n",
       "      <td>https://www.airbnb.com/rooms/1384098</td>\n",
       "      <td>20220606014139</td>\n",
       "      <td>2022-06-06</td>\n",
       "      <td>...</td>\n",
       "      <td>4.67</td>\n",
       "      <td>4.33</td>\n",
       "      <td>4.67</td>\n",
       "      <td>NaN</td>\n",
       "      <td>f</td>\n",
       "      <td>4</td>\n",
       "      <td>4</td>\n",
       "      <td>0</td>\n",
       "      <td>0</td>\n",
       "      <td>0.05</td>\n",
       "    </tr>\n",
       "    <tr>\n",
       "      <th>1</th>\n",
       "      <td>2142687</td>\n",
       "      <td>2022-06-07</td>\n",
       "      <td>f</td>\n",
       "      <td>$46.00</td>\n",
       "      <td>$46.00</td>\n",
       "      <td>120.0</td>\n",
       "      <td>365.0</td>\n",
       "      <td>https://www.airbnb.com/rooms/2142687</td>\n",
       "      <td>20220606014139</td>\n",
       "      <td>2022-06-07</td>\n",
       "      <td>...</td>\n",
       "      <td>4.95</td>\n",
       "      <td>4.85</td>\n",
       "      <td>4.75</td>\n",
       "      <td>Available with a mobility lease only (\"bail mo...</td>\n",
       "      <td>f</td>\n",
       "      <td>1</td>\n",
       "      <td>1</td>\n",
       "      <td>0</td>\n",
       "      <td>0</td>\n",
       "      <td>0.22</td>\n",
       "    </tr>\n",
       "    <tr>\n",
       "      <th>2</th>\n",
       "      <td>3076637</td>\n",
       "      <td>2022-06-07</td>\n",
       "      <td>f</td>\n",
       "      <td>$360.00</td>\n",
       "      <td>$360.00</td>\n",
       "      <td>7.0</td>\n",
       "      <td>21.0</td>\n",
       "      <td>https://www.airbnb.com/rooms/3076637</td>\n",
       "      <td>20220606014139</td>\n",
       "      <td>2022-06-07</td>\n",
       "      <td>...</td>\n",
       "      <td>NaN</td>\n",
       "      <td>NaN</td>\n",
       "      <td>NaN</td>\n",
       "      <td>NaN</td>\n",
       "      <td>f</td>\n",
       "      <td>1</td>\n",
       "      <td>1</td>\n",
       "      <td>0</td>\n",
       "      <td>0</td>\n",
       "      <td>NaN</td>\n",
       "    </tr>\n",
       "    <tr>\n",
       "      <th>3</th>\n",
       "      <td>4806693</td>\n",
       "      <td>2022-06-07</td>\n",
       "      <td>f</td>\n",
       "      <td>$226.00</td>\n",
       "      <td>$226.00</td>\n",
       "      <td>365.0</td>\n",
       "      <td>1125.0</td>\n",
       "      <td>https://www.airbnb.com/rooms/4806693</td>\n",
       "      <td>20220606014139</td>\n",
       "      <td>2022-06-07</td>\n",
       "      <td>...</td>\n",
       "      <td>NaN</td>\n",
       "      <td>NaN</td>\n",
       "      <td>NaN</td>\n",
       "      <td>NaN</td>\n",
       "      <td>f</td>\n",
       "      <td>2</td>\n",
       "      <td>2</td>\n",
       "      <td>0</td>\n",
       "      <td>0</td>\n",
       "      <td>NaN</td>\n",
       "    </tr>\n",
       "    <tr>\n",
       "      <th>4</th>\n",
       "      <td>5475961</td>\n",
       "      <td>2022-06-07</td>\n",
       "      <td>f</td>\n",
       "      <td>$99.00</td>\n",
       "      <td>$99.00</td>\n",
       "      <td>365.0</td>\n",
       "      <td>1125.0</td>\n",
       "      <td>https://www.airbnb.com/rooms/5475961</td>\n",
       "      <td>20220606014139</td>\n",
       "      <td>2022-06-07</td>\n",
       "      <td>...</td>\n",
       "      <td>4.71</td>\n",
       "      <td>4.83</td>\n",
       "      <td>4.65</td>\n",
       "      <td>NaN</td>\n",
       "      <td>f</td>\n",
       "      <td>1</td>\n",
       "      <td>1</td>\n",
       "      <td>0</td>\n",
       "      <td>0</td>\n",
       "      <td>0.83</td>\n",
       "    </tr>\n",
       "    <tr>\n",
       "      <th>5</th>\n",
       "      <td>6106068</td>\n",
       "      <td>2022-06-07</td>\n",
       "      <td>f</td>\n",
       "      <td>$80.00</td>\n",
       "      <td>$80.00</td>\n",
       "      <td>365.0</td>\n",
       "      <td>1125.0</td>\n",
       "      <td>https://www.airbnb.com/rooms/6106068</td>\n",
       "      <td>20220606014139</td>\n",
       "      <td>2022-06-07</td>\n",
       "      <td>...</td>\n",
       "      <td>5.00</td>\n",
       "      <td>5.00</td>\n",
       "      <td>5.00</td>\n",
       "      <td>NaN</td>\n",
       "      <td>f</td>\n",
       "      <td>1</td>\n",
       "      <td>1</td>\n",
       "      <td>0</td>\n",
       "      <td>0</td>\n",
       "      <td>0.01</td>\n",
       "    </tr>\n",
       "    <tr>\n",
       "      <th>6</th>\n",
       "      <td>7003002</td>\n",
       "      <td>2022-06-07</td>\n",
       "      <td>f</td>\n",
       "      <td>$79.00</td>\n",
       "      <td>$79.00</td>\n",
       "      <td>365.0</td>\n",
       "      <td>365.0</td>\n",
       "      <td>https://www.airbnb.com/rooms/7003002</td>\n",
       "      <td>20220606014139</td>\n",
       "      <td>2022-06-07</td>\n",
       "      <td>...</td>\n",
       "      <td>NaN</td>\n",
       "      <td>NaN</td>\n",
       "      <td>NaN</td>\n",
       "      <td>NaN</td>\n",
       "      <td>f</td>\n",
       "      <td>1</td>\n",
       "      <td>1</td>\n",
       "      <td>0</td>\n",
       "      <td>0</td>\n",
       "      <td>NaN</td>\n",
       "    </tr>\n",
       "    <tr>\n",
       "      <th>7</th>\n",
       "      <td>7222381</td>\n",
       "      <td>2022-06-07</td>\n",
       "      <td>f</td>\n",
       "      <td>$160.00</td>\n",
       "      <td>$160.00</td>\n",
       "      <td>365.0</td>\n",
       "      <td>1125.0</td>\n",
       "      <td>https://www.airbnb.com/rooms/7222381</td>\n",
       "      <td>20220606014139</td>\n",
       "      <td>2022-06-07</td>\n",
       "      <td>...</td>\n",
       "      <td>5.00</td>\n",
       "      <td>5.00</td>\n",
       "      <td>5.00</td>\n",
       "      <td>NaN</td>\n",
       "      <td>f</td>\n",
       "      <td>2</td>\n",
       "      <td>1</td>\n",
       "      <td>1</td>\n",
       "      <td>0</td>\n",
       "      <td>0.02</td>\n",
       "    </tr>\n",
       "    <tr>\n",
       "      <th>8</th>\n",
       "      <td>7271622</td>\n",
       "      <td>2022-06-07</td>\n",
       "      <td>f</td>\n",
       "      <td>$55.00</td>\n",
       "      <td>$55.00</td>\n",
       "      <td>365.0</td>\n",
       "      <td>1125.0</td>\n",
       "      <td>https://www.airbnb.com/rooms/7271622</td>\n",
       "      <td>20220606014139</td>\n",
       "      <td>2022-06-07</td>\n",
       "      <td>...</td>\n",
       "      <td>NaN</td>\n",
       "      <td>NaN</td>\n",
       "      <td>NaN</td>\n",
       "      <td>NaN</td>\n",
       "      <td>f</td>\n",
       "      <td>1</td>\n",
       "      <td>1</td>\n",
       "      <td>0</td>\n",
       "      <td>0</td>\n",
       "      <td>NaN</td>\n",
       "    </tr>\n",
       "    <tr>\n",
       "      <th>9</th>\n",
       "      <td>8181428</td>\n",
       "      <td>2022-06-07</td>\n",
       "      <td>f</td>\n",
       "      <td>$38.00</td>\n",
       "      <td>$38.00</td>\n",
       "      <td>1.0</td>\n",
       "      <td>2.0</td>\n",
       "      <td>https://www.airbnb.com/rooms/8181428</td>\n",
       "      <td>20220606014139</td>\n",
       "      <td>2022-06-07</td>\n",
       "      <td>...</td>\n",
       "      <td>5.00</td>\n",
       "      <td>5.00</td>\n",
       "      <td>5.00</td>\n",
       "      <td>NaN</td>\n",
       "      <td>f</td>\n",
       "      <td>1</td>\n",
       "      <td>0</td>\n",
       "      <td>1</td>\n",
       "      <td>0</td>\n",
       "      <td>0.05</td>\n",
       "    </tr>\n",
       "    <tr>\n",
       "      <th>10</th>\n",
       "      <td>8380535</td>\n",
       "      <td>2022-06-07</td>\n",
       "      <td>f</td>\n",
       "      <td>$49.00</td>\n",
       "      <td>$49.00</td>\n",
       "      <td>365.0</td>\n",
       "      <td>1125.0</td>\n",
       "      <td>https://www.airbnb.com/rooms/8380535</td>\n",
       "      <td>20220606014139</td>\n",
       "      <td>2022-06-07</td>\n",
       "      <td>...</td>\n",
       "      <td>NaN</td>\n",
       "      <td>NaN</td>\n",
       "      <td>NaN</td>\n",
       "      <td>NaN</td>\n",
       "      <td>f</td>\n",
       "      <td>1</td>\n",
       "      <td>1</td>\n",
       "      <td>0</td>\n",
       "      <td>0</td>\n",
       "      <td>NaN</td>\n",
       "    </tr>\n",
       "    <tr>\n",
       "      <th>11</th>\n",
       "      <td>9049740</td>\n",
       "      <td>2022-06-07</td>\n",
       "      <td>f</td>\n",
       "      <td>$51.00</td>\n",
       "      <td>$51.00</td>\n",
       "      <td>1.0</td>\n",
       "      <td>1125.0</td>\n",
       "      <td>https://www.airbnb.com/rooms/9049740</td>\n",
       "      <td>20220606014139</td>\n",
       "      <td>2022-06-07</td>\n",
       "      <td>...</td>\n",
       "      <td>NaN</td>\n",
       "      <td>NaN</td>\n",
       "      <td>NaN</td>\n",
       "      <td>NaN</td>\n",
       "      <td>f</td>\n",
       "      <td>1</td>\n",
       "      <td>0</td>\n",
       "      <td>1</td>\n",
       "      <td>0</td>\n",
       "      <td>NaN</td>\n",
       "    </tr>\n",
       "    <tr>\n",
       "      <th>12</th>\n",
       "      <td>10727407</td>\n",
       "      <td>2022-06-07</td>\n",
       "      <td>f</td>\n",
       "      <td>$80.00</td>\n",
       "      <td>$80.00</td>\n",
       "      <td>365.0</td>\n",
       "      <td>1125.0</td>\n",
       "      <td>https://www.airbnb.com/rooms/10727407</td>\n",
       "      <td>20220606014139</td>\n",
       "      <td>2022-06-07</td>\n",
       "      <td>...</td>\n",
       "      <td>NaN</td>\n",
       "      <td>NaN</td>\n",
       "      <td>NaN</td>\n",
       "      <td>NaN</td>\n",
       "      <td>f</td>\n",
       "      <td>1</td>\n",
       "      <td>1</td>\n",
       "      <td>0</td>\n",
       "      <td>0</td>\n",
       "      <td>NaN</td>\n",
       "    </tr>\n",
       "    <tr>\n",
       "      <th>13</th>\n",
       "      <td>10897769</td>\n",
       "      <td>2022-06-07</td>\n",
       "      <td>f</td>\n",
       "      <td>$60.00</td>\n",
       "      <td>$60.00</td>\n",
       "      <td>365.0</td>\n",
       "      <td>1125.0</td>\n",
       "      <td>https://www.airbnb.com/rooms/10897769</td>\n",
       "      <td>20220606014139</td>\n",
       "      <td>2022-06-07</td>\n",
       "      <td>...</td>\n",
       "      <td>5.00</td>\n",
       "      <td>4.00</td>\n",
       "      <td>5.00</td>\n",
       "      <td>NaN</td>\n",
       "      <td>f</td>\n",
       "      <td>1</td>\n",
       "      <td>1</td>\n",
       "      <td>0</td>\n",
       "      <td>0</td>\n",
       "      <td>0.01</td>\n",
       "    </tr>\n",
       "    <tr>\n",
       "      <th>14</th>\n",
       "      <td>12533798</td>\n",
       "      <td>2022-06-07</td>\n",
       "      <td>f</td>\n",
       "      <td>$60.00</td>\n",
       "      <td>$60.00</td>\n",
       "      <td>365.0</td>\n",
       "      <td>1125.0</td>\n",
       "      <td>https://www.airbnb.com/rooms/12533798</td>\n",
       "      <td>20220606014139</td>\n",
       "      <td>2022-06-07</td>\n",
       "      <td>...</td>\n",
       "      <td>NaN</td>\n",
       "      <td>NaN</td>\n",
       "      <td>NaN</td>\n",
       "      <td>NaN</td>\n",
       "      <td>f</td>\n",
       "      <td>1</td>\n",
       "      <td>1</td>\n",
       "      <td>0</td>\n",
       "      <td>0</td>\n",
       "      <td>NaN</td>\n",
       "    </tr>\n",
       "    <tr>\n",
       "      <th>15</th>\n",
       "      <td>14004277</td>\n",
       "      <td>2022-06-06</td>\n",
       "      <td>f</td>\n",
       "      <td>$125.00</td>\n",
       "      <td>$125.00</td>\n",
       "      <td>7.0</td>\n",
       "      <td>90.0</td>\n",
       "      <td>https://www.airbnb.com/rooms/14004277</td>\n",
       "      <td>20220606014139</td>\n",
       "      <td>2022-06-06</td>\n",
       "      <td>...</td>\n",
       "      <td>4.69</td>\n",
       "      <td>4.78</td>\n",
       "      <td>4.73</td>\n",
       "      <td>7511703170231</td>\n",
       "      <td>f</td>\n",
       "      <td>1</td>\n",
       "      <td>1</td>\n",
       "      <td>0</td>\n",
       "      <td>0</td>\n",
       "      <td>0.68</td>\n",
       "    </tr>\n",
       "    <tr>\n",
       "      <th>16</th>\n",
       "      <td>18171688</td>\n",
       "      <td>2022-06-06</td>\n",
       "      <td>f</td>\n",
       "      <td>$85.00</td>\n",
       "      <td>$85.00</td>\n",
       "      <td>365.0</td>\n",
       "      <td>1125.0</td>\n",
       "      <td>https://www.airbnb.com/rooms/18171688</td>\n",
       "      <td>20220606014139</td>\n",
       "      <td>2022-06-06</td>\n",
       "      <td>...</td>\n",
       "      <td>5.00</td>\n",
       "      <td>5.00</td>\n",
       "      <td>5.00</td>\n",
       "      <td>NaN</td>\n",
       "      <td>f</td>\n",
       "      <td>1</td>\n",
       "      <td>1</td>\n",
       "      <td>0</td>\n",
       "      <td>0</td>\n",
       "      <td>0.02</td>\n",
       "    </tr>\n",
       "    <tr>\n",
       "      <th>17</th>\n",
       "      <td>18146940</td>\n",
       "      <td>2022-06-06</td>\n",
       "      <td>f</td>\n",
       "      <td>$113.00</td>\n",
       "      <td>$113.00</td>\n",
       "      <td>1.0</td>\n",
       "      <td>1125.0</td>\n",
       "      <td>https://www.airbnb.com/rooms/18146940</td>\n",
       "      <td>20220606014139</td>\n",
       "      <td>2022-06-06</td>\n",
       "      <td>...</td>\n",
       "      <td>4.74</td>\n",
       "      <td>4.45</td>\n",
       "      <td>4.51</td>\n",
       "      <td>7511001701467</td>\n",
       "      <td>f</td>\n",
       "      <td>1</td>\n",
       "      <td>1</td>\n",
       "      <td>0</td>\n",
       "      <td>0</td>\n",
       "      <td>1.07</td>\n",
       "    </tr>\n",
       "    <tr>\n",
       "      <th>18</th>\n",
       "      <td>20228970</td>\n",
       "      <td>2022-06-06</td>\n",
       "      <td>f</td>\n",
       "      <td>$40.00</td>\n",
       "      <td>$40.00</td>\n",
       "      <td>365.0</td>\n",
       "      <td>1125.0</td>\n",
       "      <td>https://www.airbnb.com/rooms/20228970</td>\n",
       "      <td>20220606014139</td>\n",
       "      <td>2022-06-06</td>\n",
       "      <td>...</td>\n",
       "      <td>NaN</td>\n",
       "      <td>NaN</td>\n",
       "      <td>NaN</td>\n",
       "      <td>NaN</td>\n",
       "      <td>f</td>\n",
       "      <td>1</td>\n",
       "      <td>1</td>\n",
       "      <td>0</td>\n",
       "      <td>0</td>\n",
       "      <td>NaN</td>\n",
       "    </tr>\n",
       "    <tr>\n",
       "      <th>19</th>\n",
       "      <td>25577292</td>\n",
       "      <td>2022-06-07</td>\n",
       "      <td>f</td>\n",
       "      <td>$92.00</td>\n",
       "      <td>$92.00</td>\n",
       "      <td>1.0</td>\n",
       "      <td>1125.0</td>\n",
       "      <td>https://www.airbnb.com/rooms/25577292</td>\n",
       "      <td>20220606014139</td>\n",
       "      <td>2022-06-07</td>\n",
       "      <td>...</td>\n",
       "      <td>4.82</td>\n",
       "      <td>4.89</td>\n",
       "      <td>4.46</td>\n",
       "      <td>7511401913371</td>\n",
       "      <td>f</td>\n",
       "      <td>1</td>\n",
       "      <td>1</td>\n",
       "      <td>0</td>\n",
       "      <td>0</td>\n",
       "      <td>2.37</td>\n",
       "    </tr>\n",
       "    <tr>\n",
       "      <th>20</th>\n",
       "      <td>26430769</td>\n",
       "      <td>2022-06-07</td>\n",
       "      <td>f</td>\n",
       "      <td>$85.00</td>\n",
       "      <td>$85.00</td>\n",
       "      <td>365.0</td>\n",
       "      <td>1125.0</td>\n",
       "      <td>https://www.airbnb.com/rooms/26430769</td>\n",
       "      <td>20220606014139</td>\n",
       "      <td>2022-06-07</td>\n",
       "      <td>...</td>\n",
       "      <td>NaN</td>\n",
       "      <td>NaN</td>\n",
       "      <td>NaN</td>\n",
       "      <td>NaN</td>\n",
       "      <td>f</td>\n",
       "      <td>1</td>\n",
       "      <td>1</td>\n",
       "      <td>0</td>\n",
       "      <td>0</td>\n",
       "      <td>0.02</td>\n",
       "    </tr>\n",
       "    <tr>\n",
       "      <th>21</th>\n",
       "      <td>27029503</td>\n",
       "      <td>2022-06-07</td>\n",
       "      <td>f</td>\n",
       "      <td>$45.00</td>\n",
       "      <td>$45.00</td>\n",
       "      <td>1.0</td>\n",
       "      <td>1125.0</td>\n",
       "      <td>https://www.airbnb.com/rooms/27029503</td>\n",
       "      <td>20220606014139</td>\n",
       "      <td>2022-06-07</td>\n",
       "      <td>...</td>\n",
       "      <td>5.00</td>\n",
       "      <td>5.00</td>\n",
       "      <td>5.00</td>\n",
       "      <td>NaN</td>\n",
       "      <td>f</td>\n",
       "      <td>1</td>\n",
       "      <td>0</td>\n",
       "      <td>1</td>\n",
       "      <td>0</td>\n",
       "      <td>0.02</td>\n",
       "    </tr>\n",
       "    <tr>\n",
       "      <th>22</th>\n",
       "      <td>30690798</td>\n",
       "      <td>2022-06-07</td>\n",
       "      <td>f</td>\n",
       "      <td>$160.00</td>\n",
       "      <td>$160.00</td>\n",
       "      <td>2.0</td>\n",
       "      <td>15.0</td>\n",
       "      <td>https://www.airbnb.com/rooms/30690798</td>\n",
       "      <td>20220606014139</td>\n",
       "      <td>2022-06-07</td>\n",
       "      <td>...</td>\n",
       "      <td>NaN</td>\n",
       "      <td>NaN</td>\n",
       "      <td>NaN</td>\n",
       "      <td>7511502718543</td>\n",
       "      <td>f</td>\n",
       "      <td>1</td>\n",
       "      <td>1</td>\n",
       "      <td>0</td>\n",
       "      <td>0</td>\n",
       "      <td>NaN</td>\n",
       "    </tr>\n",
       "    <tr>\n",
       "      <th>23</th>\n",
       "      <td>30761855</td>\n",
       "      <td>2022-06-07</td>\n",
       "      <td>f</td>\n",
       "      <td>$82.00</td>\n",
       "      <td>$82.00</td>\n",
       "      <td>1.0</td>\n",
       "      <td>1125.0</td>\n",
       "      <td>https://www.airbnb.com/rooms/30761855</td>\n",
       "      <td>20220606014139</td>\n",
       "      <td>2022-06-07</td>\n",
       "      <td>...</td>\n",
       "      <td>4.83</td>\n",
       "      <td>4.92</td>\n",
       "      <td>4.50</td>\n",
       "      <td>7511002680573</td>\n",
       "      <td>f</td>\n",
       "      <td>1</td>\n",
       "      <td>1</td>\n",
       "      <td>0</td>\n",
       "      <td>0</td>\n",
       "      <td>0.58</td>\n",
       "    </tr>\n",
       "    <tr>\n",
       "      <th>24</th>\n",
       "      <td>32753347</td>\n",
       "      <td>2022-06-07</td>\n",
       "      <td>f</td>\n",
       "      <td>$115.00</td>\n",
       "      <td>$115.00</td>\n",
       "      <td>2.0</td>\n",
       "      <td>31.0</td>\n",
       "      <td>https://www.airbnb.com/rooms/32753347</td>\n",
       "      <td>20220606014139</td>\n",
       "      <td>2022-06-07</td>\n",
       "      <td>...</td>\n",
       "      <td>5.00</td>\n",
       "      <td>5.00</td>\n",
       "      <td>5.00</td>\n",
       "      <td>NaN</td>\n",
       "      <td>f</td>\n",
       "      <td>1</td>\n",
       "      <td>0</td>\n",
       "      <td>1</td>\n",
       "      <td>0</td>\n",
       "      <td>0.03</td>\n",
       "    </tr>\n",
       "    <tr>\n",
       "      <th>25</th>\n",
       "      <td>35543595</td>\n",
       "      <td>2022-06-07</td>\n",
       "      <td>f</td>\n",
       "      <td>$45.00</td>\n",
       "      <td>$45.00</td>\n",
       "      <td>365.0</td>\n",
       "      <td>1125.0</td>\n",
       "      <td>https://www.airbnb.com/rooms/35543595</td>\n",
       "      <td>20220606014139</td>\n",
       "      <td>2022-06-07</td>\n",
       "      <td>...</td>\n",
       "      <td>5.00</td>\n",
       "      <td>5.00</td>\n",
       "      <td>4.67</td>\n",
       "      <td>NaN</td>\n",
       "      <td>f</td>\n",
       "      <td>1</td>\n",
       "      <td>1</td>\n",
       "      <td>0</td>\n",
       "      <td>0</td>\n",
       "      <td>0.09</td>\n",
       "    </tr>\n",
       "    <tr>\n",
       "      <th>26</th>\n",
       "      <td>35700689</td>\n",
       "      <td>2022-06-07</td>\n",
       "      <td>f</td>\n",
       "      <td>$200.00</td>\n",
       "      <td>$200.00</td>\n",
       "      <td>365.0</td>\n",
       "      <td>1125.0</td>\n",
       "      <td>https://www.airbnb.com/rooms/35700689</td>\n",
       "      <td>20220606014139</td>\n",
       "      <td>2022-06-07</td>\n",
       "      <td>...</td>\n",
       "      <td>5.00</td>\n",
       "      <td>5.00</td>\n",
       "      <td>5.00</td>\n",
       "      <td>NaN</td>\n",
       "      <td>f</td>\n",
       "      <td>1</td>\n",
       "      <td>1</td>\n",
       "      <td>0</td>\n",
       "      <td>0</td>\n",
       "      <td>0.08</td>\n",
       "    </tr>\n",
       "    <tr>\n",
       "      <th>27</th>\n",
       "      <td>36799515</td>\n",
       "      <td>2022-06-06</td>\n",
       "      <td>f</td>\n",
       "      <td>$65.00</td>\n",
       "      <td>$65.00</td>\n",
       "      <td>3.0</td>\n",
       "      <td>14.0</td>\n",
       "      <td>https://www.airbnb.com/rooms/36799515</td>\n",
       "      <td>20220606014139</td>\n",
       "      <td>2022-06-06</td>\n",
       "      <td>...</td>\n",
       "      <td>4.78</td>\n",
       "      <td>4.93</td>\n",
       "      <td>4.57</td>\n",
       "      <td>7511203776124</td>\n",
       "      <td>f</td>\n",
       "      <td>1</td>\n",
       "      <td>1</td>\n",
       "      <td>0</td>\n",
       "      <td>0</td>\n",
       "      <td>2.08</td>\n",
       "    </tr>\n",
       "    <tr>\n",
       "      <th>28</th>\n",
       "      <td>40675708</td>\n",
       "      <td>2022-06-07</td>\n",
       "      <td>f</td>\n",
       "      <td>$140.00</td>\n",
       "      <td>$140.00</td>\n",
       "      <td>365.0</td>\n",
       "      <td>1125.0</td>\n",
       "      <td>https://www.airbnb.com/rooms/40675708</td>\n",
       "      <td>20220606014139</td>\n",
       "      <td>2022-06-07</td>\n",
       "      <td>...</td>\n",
       "      <td>5.00</td>\n",
       "      <td>5.00</td>\n",
       "      <td>3.00</td>\n",
       "      <td>NaN</td>\n",
       "      <td>f</td>\n",
       "      <td>1</td>\n",
       "      <td>1</td>\n",
       "      <td>0</td>\n",
       "      <td>0</td>\n",
       "      <td>0.03</td>\n",
       "    </tr>\n",
       "    <tr>\n",
       "      <th>29</th>\n",
       "      <td>40931504</td>\n",
       "      <td>2022-06-07</td>\n",
       "      <td>f</td>\n",
       "      <td>$77.00</td>\n",
       "      <td>$77.00</td>\n",
       "      <td>1.0</td>\n",
       "      <td>1125.0</td>\n",
       "      <td>https://www.airbnb.com/rooms/40931504</td>\n",
       "      <td>20220606014139</td>\n",
       "      <td>2022-06-07</td>\n",
       "      <td>...</td>\n",
       "      <td>4.36</td>\n",
       "      <td>4.45</td>\n",
       "      <td>4.18</td>\n",
       "      <td>7511304252484</td>\n",
       "      <td>f</td>\n",
       "      <td>1</td>\n",
       "      <td>1</td>\n",
       "      <td>0</td>\n",
       "      <td>0</td>\n",
       "      <td>0.40</td>\n",
       "    </tr>\n",
       "    <tr>\n",
       "      <th>30</th>\n",
       "      <td>40907092</td>\n",
       "      <td>2022-06-07</td>\n",
       "      <td>f</td>\n",
       "      <td>$84.00</td>\n",
       "      <td>$84.00</td>\n",
       "      <td>1.0</td>\n",
       "      <td>1125.0</td>\n",
       "      <td>https://www.airbnb.com/rooms/40907092</td>\n",
       "      <td>20220606014139</td>\n",
       "      <td>2022-06-07</td>\n",
       "      <td>...</td>\n",
       "      <td>4.79</td>\n",
       "      <td>4.79</td>\n",
       "      <td>4.63</td>\n",
       "      <td>7511004261475</td>\n",
       "      <td>f</td>\n",
       "      <td>1</td>\n",
       "      <td>1</td>\n",
       "      <td>0</td>\n",
       "      <td>0</td>\n",
       "      <td>0.64</td>\n",
       "    </tr>\n",
       "    <tr>\n",
       "      <th>31</th>\n",
       "      <td>41264583</td>\n",
       "      <td>2022-06-07</td>\n",
       "      <td>f</td>\n",
       "      <td>$418.00</td>\n",
       "      <td>$418.00</td>\n",
       "      <td>365.0</td>\n",
       "      <td>1125.0</td>\n",
       "      <td>https://www.airbnb.com/rooms/41264583</td>\n",
       "      <td>20220606014139</td>\n",
       "      <td>2022-06-07</td>\n",
       "      <td>...</td>\n",
       "      <td>NaN</td>\n",
       "      <td>NaN</td>\n",
       "      <td>NaN</td>\n",
       "      <td>NaN</td>\n",
       "      <td>f</td>\n",
       "      <td>1</td>\n",
       "      <td>1</td>\n",
       "      <td>0</td>\n",
       "      <td>0</td>\n",
       "      <td>NaN</td>\n",
       "    </tr>\n",
       "    <tr>\n",
       "      <th>32</th>\n",
       "      <td>44091787</td>\n",
       "      <td>2022-06-07</td>\n",
       "      <td>f</td>\n",
       "      <td>$75.00</td>\n",
       "      <td>$75.00</td>\n",
       "      <td>1.0</td>\n",
       "      <td>1125.0</td>\n",
       "      <td>https://www.airbnb.com/rooms/44091787</td>\n",
       "      <td>20220606014139</td>\n",
       "      <td>2022-06-07</td>\n",
       "      <td>...</td>\n",
       "      <td>4.64</td>\n",
       "      <td>4.57</td>\n",
       "      <td>4.64</td>\n",
       "      <td>7511804594025</td>\n",
       "      <td>f</td>\n",
       "      <td>1</td>\n",
       "      <td>1</td>\n",
       "      <td>0</td>\n",
       "      <td>0</td>\n",
       "      <td>0.61</td>\n",
       "    </tr>\n",
       "    <tr>\n",
       "      <th>33</th>\n",
       "      <td>45743800</td>\n",
       "      <td>2022-06-07</td>\n",
       "      <td>f</td>\n",
       "      <td>$59.00</td>\n",
       "      <td>$59.00</td>\n",
       "      <td>1.0</td>\n",
       "      <td>365.0</td>\n",
       "      <td>https://www.airbnb.com/rooms/45743800</td>\n",
       "      <td>20220606014139</td>\n",
       "      <td>2022-06-07</td>\n",
       "      <td>...</td>\n",
       "      <td>3.33</td>\n",
       "      <td>4.67</td>\n",
       "      <td>4.00</td>\n",
       "      <td>7511204601416</td>\n",
       "      <td>f</td>\n",
       "      <td>1</td>\n",
       "      <td>1</td>\n",
       "      <td>0</td>\n",
       "      <td>0</td>\n",
       "      <td>0.29</td>\n",
       "    </tr>\n",
       "    <tr>\n",
       "      <th>34</th>\n",
       "      <td>47325501</td>\n",
       "      <td>2022-06-07</td>\n",
       "      <td>f</td>\n",
       "      <td>$135.00</td>\n",
       "      <td>$108.00</td>\n",
       "      <td>1.0</td>\n",
       "      <td>1125.0</td>\n",
       "      <td>https://www.airbnb.com/rooms/47325501</td>\n",
       "      <td>20220606014139</td>\n",
       "      <td>2022-06-07</td>\n",
       "      <td>...</td>\n",
       "      <td>4.77</td>\n",
       "      <td>4.44</td>\n",
       "      <td>4.27</td>\n",
       "      <td>7511004752712</td>\n",
       "      <td>f</td>\n",
       "      <td>98</td>\n",
       "      <td>98</td>\n",
       "      <td>0</td>\n",
       "      <td>0</td>\n",
       "      <td>2.76</td>\n",
       "    </tr>\n",
       "    <tr>\n",
       "      <th>35</th>\n",
       "      <td>50024965</td>\n",
       "      <td>2022-06-07</td>\n",
       "      <td>f</td>\n",
       "      <td>$210.00</td>\n",
       "      <td>$210.00</td>\n",
       "      <td>30.0</td>\n",
       "      <td>1125.0</td>\n",
       "      <td>https://www.airbnb.com/rooms/50024965</td>\n",
       "      <td>20220606014139</td>\n",
       "      <td>2022-06-07</td>\n",
       "      <td>...</td>\n",
       "      <td>NaN</td>\n",
       "      <td>NaN</td>\n",
       "      <td>NaN</td>\n",
       "      <td>Available with a mobility lease only (\"bail mo...</td>\n",
       "      <td>f</td>\n",
       "      <td>1</td>\n",
       "      <td>1</td>\n",
       "      <td>0</td>\n",
       "      <td>0</td>\n",
       "      <td>NaN</td>\n",
       "    </tr>\n",
       "    <tr>\n",
       "      <th>36</th>\n",
       "      <td>51314622</td>\n",
       "      <td>2022-06-07</td>\n",
       "      <td>f</td>\n",
       "      <td>$87.00</td>\n",
       "      <td>$87.00</td>\n",
       "      <td>1.0</td>\n",
       "      <td>365.0</td>\n",
       "      <td>https://www.airbnb.com/rooms/51314622</td>\n",
       "      <td>20220606014139</td>\n",
       "      <td>2022-06-07</td>\n",
       "      <td>...</td>\n",
       "      <td>4.60</td>\n",
       "      <td>4.80</td>\n",
       "      <td>4.60</td>\n",
       "      <td>7510905513495</td>\n",
       "      <td>f</td>\n",
       "      <td>1</td>\n",
       "      <td>1</td>\n",
       "      <td>0</td>\n",
       "      <td>0</td>\n",
       "      <td>0.54</td>\n",
       "    </tr>\n",
       "    <tr>\n",
       "      <th>37</th>\n",
       "      <td>53521019</td>\n",
       "      <td>2022-06-07</td>\n",
       "      <td>f</td>\n",
       "      <td>$217.00</td>\n",
       "      <td>$217.00</td>\n",
       "      <td>1.0</td>\n",
       "      <td>365.0</td>\n",
       "      <td>https://www.airbnb.com/rooms/53521019</td>\n",
       "      <td>20220606014139</td>\n",
       "      <td>2022-06-07</td>\n",
       "      <td>...</td>\n",
       "      <td>5.00</td>\n",
       "      <td>5.00</td>\n",
       "      <td>4.00</td>\n",
       "      <td>7511005939278</td>\n",
       "      <td>f</td>\n",
       "      <td>1</td>\n",
       "      <td>1</td>\n",
       "      <td>0</td>\n",
       "      <td>0</td>\n",
       "      <td>0.17</td>\n",
       "    </tr>\n",
       "    <tr>\n",
       "      <th>38</th>\n",
       "      <td>54372932</td>\n",
       "      <td>2022-06-07</td>\n",
       "      <td>f</td>\n",
       "      <td>$83.00</td>\n",
       "      <td>$83.00</td>\n",
       "      <td>1.0</td>\n",
       "      <td>365.0</td>\n",
       "      <td>https://www.airbnb.com/rooms/54372932</td>\n",
       "      <td>20220606014139</td>\n",
       "      <td>2022-06-07</td>\n",
       "      <td>...</td>\n",
       "      <td>5.00</td>\n",
       "      <td>5.00</td>\n",
       "      <td>4.50</td>\n",
       "      <td>7511906079284</td>\n",
       "      <td>f</td>\n",
       "      <td>1</td>\n",
       "      <td>1</td>\n",
       "      <td>0</td>\n",
       "      <td>0</td>\n",
       "      <td>0.52</td>\n",
       "    </tr>\n",
       "    <tr>\n",
       "      <th>39</th>\n",
       "      <td>549756582281388816</td>\n",
       "      <td>2022-06-06</td>\n",
       "      <td>f</td>\n",
       "      <td>$60.00</td>\n",
       "      <td>$60.00</td>\n",
       "      <td>3.0</td>\n",
       "      <td>365.0</td>\n",
       "      <td>https://www.airbnb.com/rooms/549756582281388816</td>\n",
       "      <td>20220606014139</td>\n",
       "      <td>2022-06-06</td>\n",
       "      <td>...</td>\n",
       "      <td>5.00</td>\n",
       "      <td>5.00</td>\n",
       "      <td>5.00</td>\n",
       "      <td>NaN</td>\n",
       "      <td>f</td>\n",
       "      <td>2</td>\n",
       "      <td>0</td>\n",
       "      <td>2</td>\n",
       "      <td>0</td>\n",
       "      <td>2.00</td>\n",
       "    </tr>\n",
       "    <tr>\n",
       "      <th>40</th>\n",
       "      <td>605621159096518819</td>\n",
       "      <td>2022-06-07</td>\n",
       "      <td>f</td>\n",
       "      <td>$56.00</td>\n",
       "      <td>$56.00</td>\n",
       "      <td>90.0</td>\n",
       "      <td>1125.0</td>\n",
       "      <td>https://www.airbnb.com/rooms/605621159096518819</td>\n",
       "      <td>20220606014139</td>\n",
       "      <td>2022-06-07</td>\n",
       "      <td>...</td>\n",
       "      <td>NaN</td>\n",
       "      <td>NaN</td>\n",
       "      <td>NaN</td>\n",
       "      <td>7511505554903</td>\n",
       "      <td>f</td>\n",
       "      <td>130</td>\n",
       "      <td>130</td>\n",
       "      <td>0</td>\n",
       "      <td>0</td>\n",
       "      <td>NaN</td>\n",
       "    </tr>\n",
       "    <tr>\n",
       "      <th>41</th>\n",
       "      <td>605622762821121970</td>\n",
       "      <td>2022-06-07</td>\n",
       "      <td>f</td>\n",
       "      <td>$95.00</td>\n",
       "      <td>$95.00</td>\n",
       "      <td>90.0</td>\n",
       "      <td>1125.0</td>\n",
       "      <td>https://www.airbnb.com/rooms/605622762821121970</td>\n",
       "      <td>20220606014139</td>\n",
       "      <td>2022-06-07</td>\n",
       "      <td>...</td>\n",
       "      <td>NaN</td>\n",
       "      <td>NaN</td>\n",
       "      <td>NaN</td>\n",
       "      <td>7511803940165</td>\n",
       "      <td>f</td>\n",
       "      <td>130</td>\n",
       "      <td>130</td>\n",
       "      <td>0</td>\n",
       "      <td>0</td>\n",
       "      <td>NaN</td>\n",
       "    </tr>\n",
       "    <tr>\n",
       "      <th>42</th>\n",
       "      <td>605624107364152491</td>\n",
       "      <td>2022-06-07</td>\n",
       "      <td>f</td>\n",
       "      <td>$73.00</td>\n",
       "      <td>$73.00</td>\n",
       "      <td>90.0</td>\n",
       "      <td>1125.0</td>\n",
       "      <td>https://www.airbnb.com/rooms/605624107364152491</td>\n",
       "      <td>20220606014139</td>\n",
       "      <td>2022-06-07</td>\n",
       "      <td>...</td>\n",
       "      <td>NaN</td>\n",
       "      <td>NaN</td>\n",
       "      <td>NaN</td>\n",
       "      <td>7510301545866</td>\n",
       "      <td>f</td>\n",
       "      <td>130</td>\n",
       "      <td>130</td>\n",
       "      <td>0</td>\n",
       "      <td>0</td>\n",
       "      <td>NaN</td>\n",
       "    </tr>\n",
       "    <tr>\n",
       "      <th>43</th>\n",
       "      <td>610734301192562815</td>\n",
       "      <td>2022-06-07</td>\n",
       "      <td>f</td>\n",
       "      <td>$76.00</td>\n",
       "      <td>$76.00</td>\n",
       "      <td>90.0</td>\n",
       "      <td>1125.0</td>\n",
       "      <td>https://www.airbnb.com/rooms/610734301192562815</td>\n",
       "      <td>20220606014139</td>\n",
       "      <td>2022-06-07</td>\n",
       "      <td>...</td>\n",
       "      <td>4.00</td>\n",
       "      <td>1.00</td>\n",
       "      <td>2.00</td>\n",
       "      <td>Available with a mobility lease only (\"bail mo...</td>\n",
       "      <td>f</td>\n",
       "      <td>130</td>\n",
       "      <td>130</td>\n",
       "      <td>0</td>\n",
       "      <td>0</td>\n",
       "      <td>0.83</td>\n",
       "    </tr>\n",
       "    <tr>\n",
       "      <th>44</th>\n",
       "      <td>614197429015067131</td>\n",
       "      <td>2022-06-07</td>\n",
       "      <td>f</td>\n",
       "      <td>$58.00</td>\n",
       "      <td>$58.00</td>\n",
       "      <td>90.0</td>\n",
       "      <td>1125.0</td>\n",
       "      <td>https://www.airbnb.com/rooms/614197429015067131</td>\n",
       "      <td>20220606014139</td>\n",
       "      <td>2022-06-07</td>\n",
       "      <td>...</td>\n",
       "      <td>NaN</td>\n",
       "      <td>NaN</td>\n",
       "      <td>NaN</td>\n",
       "      <td>7511505554804</td>\n",
       "      <td>f</td>\n",
       "      <td>130</td>\n",
       "      <td>130</td>\n",
       "      <td>0</td>\n",
       "      <td>0</td>\n",
       "      <td>NaN</td>\n",
       "    </tr>\n",
       "    <tr>\n",
       "      <th>45</th>\n",
       "      <td>614197797820515063</td>\n",
       "      <td>2022-06-07</td>\n",
       "      <td>f</td>\n",
       "      <td>$58.00</td>\n",
       "      <td>$58.00</td>\n",
       "      <td>90.0</td>\n",
       "      <td>1125.0</td>\n",
       "      <td>https://www.airbnb.com/rooms/614197797820515063</td>\n",
       "      <td>20220606014139</td>\n",
       "      <td>2022-06-07</td>\n",
       "      <td>...</td>\n",
       "      <td>NaN</td>\n",
       "      <td>NaN</td>\n",
       "      <td>NaN</td>\n",
       "      <td>Available with a mobility lease only (\"bail mo...</td>\n",
       "      <td>f</td>\n",
       "      <td>130</td>\n",
       "      <td>130</td>\n",
       "      <td>0</td>\n",
       "      <td>0</td>\n",
       "      <td>NaN</td>\n",
       "    </tr>\n",
       "    <tr>\n",
       "      <th>46</th>\n",
       "      <td>615741987349944051</td>\n",
       "      <td>2022-06-07</td>\n",
       "      <td>f</td>\n",
       "      <td>$69.00</td>\n",
       "      <td>$69.00</td>\n",
       "      <td>30.0</td>\n",
       "      <td>1125.0</td>\n",
       "      <td>https://www.airbnb.com/rooms/615741987349944051</td>\n",
       "      <td>20220606014139</td>\n",
       "      <td>2022-06-07</td>\n",
       "      <td>...</td>\n",
       "      <td>NaN</td>\n",
       "      <td>NaN</td>\n",
       "      <td>NaN</td>\n",
       "      <td>Available with a mobility lease only (\"bail mo...</td>\n",
       "      <td>f</td>\n",
       "      <td>130</td>\n",
       "      <td>130</td>\n",
       "      <td>0</td>\n",
       "      <td>0</td>\n",
       "      <td>NaN</td>\n",
       "    </tr>\n",
       "  </tbody>\n",
       "</table>\n",
       "<p>47 rows × 72 columns</p>\n",
       "</div>"
      ],
      "text/plain": [
       "            listing_id        date available    price adjusted_price  \\\n",
       "0              1384098  2022-06-06         f  $140.00        $140.00   \n",
       "1              2142687  2022-06-07         f   $46.00         $46.00   \n",
       "2              3076637  2022-06-07         f  $360.00        $360.00   \n",
       "3              4806693  2022-06-07         f  $226.00        $226.00   \n",
       "4              5475961  2022-06-07         f   $99.00         $99.00   \n",
       "5              6106068  2022-06-07         f   $80.00         $80.00   \n",
       "6              7003002  2022-06-07         f   $79.00         $79.00   \n",
       "7              7222381  2022-06-07         f  $160.00        $160.00   \n",
       "8              7271622  2022-06-07         f   $55.00         $55.00   \n",
       "9              8181428  2022-06-07         f   $38.00         $38.00   \n",
       "10             8380535  2022-06-07         f   $49.00         $49.00   \n",
       "11             9049740  2022-06-07         f   $51.00         $51.00   \n",
       "12            10727407  2022-06-07         f   $80.00         $80.00   \n",
       "13            10897769  2022-06-07         f   $60.00         $60.00   \n",
       "14            12533798  2022-06-07         f   $60.00         $60.00   \n",
       "15            14004277  2022-06-06         f  $125.00        $125.00   \n",
       "16            18171688  2022-06-06         f   $85.00         $85.00   \n",
       "17            18146940  2022-06-06         f  $113.00        $113.00   \n",
       "18            20228970  2022-06-06         f   $40.00         $40.00   \n",
       "19            25577292  2022-06-07         f   $92.00         $92.00   \n",
       "20            26430769  2022-06-07         f   $85.00         $85.00   \n",
       "21            27029503  2022-06-07         f   $45.00         $45.00   \n",
       "22            30690798  2022-06-07         f  $160.00        $160.00   \n",
       "23            30761855  2022-06-07         f   $82.00         $82.00   \n",
       "24            32753347  2022-06-07         f  $115.00        $115.00   \n",
       "25            35543595  2022-06-07         f   $45.00         $45.00   \n",
       "26            35700689  2022-06-07         f  $200.00        $200.00   \n",
       "27            36799515  2022-06-06         f   $65.00         $65.00   \n",
       "28            40675708  2022-06-07         f  $140.00        $140.00   \n",
       "29            40931504  2022-06-07         f   $77.00         $77.00   \n",
       "30            40907092  2022-06-07         f   $84.00         $84.00   \n",
       "31            41264583  2022-06-07         f  $418.00        $418.00   \n",
       "32            44091787  2022-06-07         f   $75.00         $75.00   \n",
       "33            45743800  2022-06-07         f   $59.00         $59.00   \n",
       "34            47325501  2022-06-07         f  $135.00        $108.00   \n",
       "35            50024965  2022-06-07         f  $210.00        $210.00   \n",
       "36            51314622  2022-06-07         f   $87.00         $87.00   \n",
       "37            53521019  2022-06-07         f  $217.00        $217.00   \n",
       "38            54372932  2022-06-07         f   $83.00         $83.00   \n",
       "39  549756582281388816  2022-06-06         f   $60.00         $60.00   \n",
       "40  605621159096518819  2022-06-07         f   $56.00         $56.00   \n",
       "41  605622762821121970  2022-06-07         f   $95.00         $95.00   \n",
       "42  605624107364152491  2022-06-07         f   $73.00         $73.00   \n",
       "43  610734301192562815  2022-06-07         f   $76.00         $76.00   \n",
       "44  614197429015067131  2022-06-07         f   $58.00         $58.00   \n",
       "45  614197797820515063  2022-06-07         f   $58.00         $58.00   \n",
       "46  615741987349944051  2022-06-07         f   $69.00         $69.00   \n",
       "\n",
       "    minimum_nights  maximum_nights  \\\n",
       "0            365.0          1125.0   \n",
       "1            120.0           365.0   \n",
       "2              7.0            21.0   \n",
       "3            365.0          1125.0   \n",
       "4            365.0          1125.0   \n",
       "5            365.0          1125.0   \n",
       "6            365.0           365.0   \n",
       "7            365.0          1125.0   \n",
       "8            365.0          1125.0   \n",
       "9              1.0             2.0   \n",
       "10           365.0          1125.0   \n",
       "11             1.0          1125.0   \n",
       "12           365.0          1125.0   \n",
       "13           365.0          1125.0   \n",
       "14           365.0          1125.0   \n",
       "15             7.0            90.0   \n",
       "16           365.0          1125.0   \n",
       "17             1.0          1125.0   \n",
       "18           365.0          1125.0   \n",
       "19             1.0          1125.0   \n",
       "20           365.0          1125.0   \n",
       "21             1.0          1125.0   \n",
       "22             2.0            15.0   \n",
       "23             1.0          1125.0   \n",
       "24             2.0            31.0   \n",
       "25           365.0          1125.0   \n",
       "26           365.0          1125.0   \n",
       "27             3.0            14.0   \n",
       "28           365.0          1125.0   \n",
       "29             1.0          1125.0   \n",
       "30             1.0          1125.0   \n",
       "31           365.0          1125.0   \n",
       "32             1.0          1125.0   \n",
       "33             1.0           365.0   \n",
       "34             1.0          1125.0   \n",
       "35            30.0          1125.0   \n",
       "36             1.0           365.0   \n",
       "37             1.0           365.0   \n",
       "38             1.0           365.0   \n",
       "39             3.0           365.0   \n",
       "40            90.0          1125.0   \n",
       "41            90.0          1125.0   \n",
       "42            90.0          1125.0   \n",
       "43            90.0          1125.0   \n",
       "44            90.0          1125.0   \n",
       "45            90.0          1125.0   \n",
       "46            30.0          1125.0   \n",
       "\n",
       "                                        listing_url       scrape_id  \\\n",
       "0              https://www.airbnb.com/rooms/1384098  20220606014139   \n",
       "1              https://www.airbnb.com/rooms/2142687  20220606014139   \n",
       "2              https://www.airbnb.com/rooms/3076637  20220606014139   \n",
       "3              https://www.airbnb.com/rooms/4806693  20220606014139   \n",
       "4              https://www.airbnb.com/rooms/5475961  20220606014139   \n",
       "5              https://www.airbnb.com/rooms/6106068  20220606014139   \n",
       "6              https://www.airbnb.com/rooms/7003002  20220606014139   \n",
       "7              https://www.airbnb.com/rooms/7222381  20220606014139   \n",
       "8              https://www.airbnb.com/rooms/7271622  20220606014139   \n",
       "9              https://www.airbnb.com/rooms/8181428  20220606014139   \n",
       "10             https://www.airbnb.com/rooms/8380535  20220606014139   \n",
       "11             https://www.airbnb.com/rooms/9049740  20220606014139   \n",
       "12            https://www.airbnb.com/rooms/10727407  20220606014139   \n",
       "13            https://www.airbnb.com/rooms/10897769  20220606014139   \n",
       "14            https://www.airbnb.com/rooms/12533798  20220606014139   \n",
       "15            https://www.airbnb.com/rooms/14004277  20220606014139   \n",
       "16            https://www.airbnb.com/rooms/18171688  20220606014139   \n",
       "17            https://www.airbnb.com/rooms/18146940  20220606014139   \n",
       "18            https://www.airbnb.com/rooms/20228970  20220606014139   \n",
       "19            https://www.airbnb.com/rooms/25577292  20220606014139   \n",
       "20            https://www.airbnb.com/rooms/26430769  20220606014139   \n",
       "21            https://www.airbnb.com/rooms/27029503  20220606014139   \n",
       "22            https://www.airbnb.com/rooms/30690798  20220606014139   \n",
       "23            https://www.airbnb.com/rooms/30761855  20220606014139   \n",
       "24            https://www.airbnb.com/rooms/32753347  20220606014139   \n",
       "25            https://www.airbnb.com/rooms/35543595  20220606014139   \n",
       "26            https://www.airbnb.com/rooms/35700689  20220606014139   \n",
       "27            https://www.airbnb.com/rooms/36799515  20220606014139   \n",
       "28            https://www.airbnb.com/rooms/40675708  20220606014139   \n",
       "29            https://www.airbnb.com/rooms/40931504  20220606014139   \n",
       "30            https://www.airbnb.com/rooms/40907092  20220606014139   \n",
       "31            https://www.airbnb.com/rooms/41264583  20220606014139   \n",
       "32            https://www.airbnb.com/rooms/44091787  20220606014139   \n",
       "33            https://www.airbnb.com/rooms/45743800  20220606014139   \n",
       "34            https://www.airbnb.com/rooms/47325501  20220606014139   \n",
       "35            https://www.airbnb.com/rooms/50024965  20220606014139   \n",
       "36            https://www.airbnb.com/rooms/51314622  20220606014139   \n",
       "37            https://www.airbnb.com/rooms/53521019  20220606014139   \n",
       "38            https://www.airbnb.com/rooms/54372932  20220606014139   \n",
       "39  https://www.airbnb.com/rooms/549756582281388816  20220606014139   \n",
       "40  https://www.airbnb.com/rooms/605621159096518819  20220606014139   \n",
       "41  https://www.airbnb.com/rooms/605622762821121970  20220606014139   \n",
       "42  https://www.airbnb.com/rooms/605624107364152491  20220606014139   \n",
       "43  https://www.airbnb.com/rooms/610734301192562815  20220606014139   \n",
       "44  https://www.airbnb.com/rooms/614197429015067131  20220606014139   \n",
       "45  https://www.airbnb.com/rooms/614197797820515063  20220606014139   \n",
       "46  https://www.airbnb.com/rooms/615741987349944051  20220606014139   \n",
       "\n",
       "   last_scraped  ... review_scores_communication review_scores_location  \\\n",
       "0    2022-06-06  ...                        4.67                   4.33   \n",
       "1    2022-06-07  ...                        4.95                   4.85   \n",
       "2    2022-06-07  ...                         NaN                    NaN   \n",
       "3    2022-06-07  ...                         NaN                    NaN   \n",
       "4    2022-06-07  ...                        4.71                   4.83   \n",
       "5    2022-06-07  ...                        5.00                   5.00   \n",
       "6    2022-06-07  ...                         NaN                    NaN   \n",
       "7    2022-06-07  ...                        5.00                   5.00   \n",
       "8    2022-06-07  ...                         NaN                    NaN   \n",
       "9    2022-06-07  ...                        5.00                   5.00   \n",
       "10   2022-06-07  ...                         NaN                    NaN   \n",
       "11   2022-06-07  ...                         NaN                    NaN   \n",
       "12   2022-06-07  ...                         NaN                    NaN   \n",
       "13   2022-06-07  ...                        5.00                   4.00   \n",
       "14   2022-06-07  ...                         NaN                    NaN   \n",
       "15   2022-06-06  ...                        4.69                   4.78   \n",
       "16   2022-06-06  ...                        5.00                   5.00   \n",
       "17   2022-06-06  ...                        4.74                   4.45   \n",
       "18   2022-06-06  ...                         NaN                    NaN   \n",
       "19   2022-06-07  ...                        4.82                   4.89   \n",
       "20   2022-06-07  ...                         NaN                    NaN   \n",
       "21   2022-06-07  ...                        5.00                   5.00   \n",
       "22   2022-06-07  ...                         NaN                    NaN   \n",
       "23   2022-06-07  ...                        4.83                   4.92   \n",
       "24   2022-06-07  ...                        5.00                   5.00   \n",
       "25   2022-06-07  ...                        5.00                   5.00   \n",
       "26   2022-06-07  ...                        5.00                   5.00   \n",
       "27   2022-06-06  ...                        4.78                   4.93   \n",
       "28   2022-06-07  ...                        5.00                   5.00   \n",
       "29   2022-06-07  ...                        4.36                   4.45   \n",
       "30   2022-06-07  ...                        4.79                   4.79   \n",
       "31   2022-06-07  ...                         NaN                    NaN   \n",
       "32   2022-06-07  ...                        4.64                   4.57   \n",
       "33   2022-06-07  ...                        3.33                   4.67   \n",
       "34   2022-06-07  ...                        4.77                   4.44   \n",
       "35   2022-06-07  ...                         NaN                    NaN   \n",
       "36   2022-06-07  ...                        4.60                   4.80   \n",
       "37   2022-06-07  ...                        5.00                   5.00   \n",
       "38   2022-06-07  ...                        5.00                   5.00   \n",
       "39   2022-06-06  ...                        5.00                   5.00   \n",
       "40   2022-06-07  ...                         NaN                    NaN   \n",
       "41   2022-06-07  ...                         NaN                    NaN   \n",
       "42   2022-06-07  ...                         NaN                    NaN   \n",
       "43   2022-06-07  ...                        4.00                   1.00   \n",
       "44   2022-06-07  ...                         NaN                    NaN   \n",
       "45   2022-06-07  ...                         NaN                    NaN   \n",
       "46   2022-06-07  ...                         NaN                    NaN   \n",
       "\n",
       "   review_scores_value                                            license  \\\n",
       "0                 4.67                                                NaN   \n",
       "1                 4.75  Available with a mobility lease only (\"bail mo...   \n",
       "2                  NaN                                                NaN   \n",
       "3                  NaN                                                NaN   \n",
       "4                 4.65                                                NaN   \n",
       "5                 5.00                                                NaN   \n",
       "6                  NaN                                                NaN   \n",
       "7                 5.00                                                NaN   \n",
       "8                  NaN                                                NaN   \n",
       "9                 5.00                                                NaN   \n",
       "10                 NaN                                                NaN   \n",
       "11                 NaN                                                NaN   \n",
       "12                 NaN                                                NaN   \n",
       "13                5.00                                                NaN   \n",
       "14                 NaN                                                NaN   \n",
       "15                4.73                                      7511703170231   \n",
       "16                5.00                                                NaN   \n",
       "17                4.51                                      7511001701467   \n",
       "18                 NaN                                                NaN   \n",
       "19                4.46                                      7511401913371   \n",
       "20                 NaN                                                NaN   \n",
       "21                5.00                                                NaN   \n",
       "22                 NaN                                      7511502718543   \n",
       "23                4.50                                      7511002680573   \n",
       "24                5.00                                                NaN   \n",
       "25                4.67                                                NaN   \n",
       "26                5.00                                                NaN   \n",
       "27                4.57                                      7511203776124   \n",
       "28                3.00                                                NaN   \n",
       "29                4.18                                      7511304252484   \n",
       "30                4.63                                      7511004261475   \n",
       "31                 NaN                                                NaN   \n",
       "32                4.64                                      7511804594025   \n",
       "33                4.00                                      7511204601416   \n",
       "34                4.27                                      7511004752712   \n",
       "35                 NaN  Available with a mobility lease only (\"bail mo...   \n",
       "36                4.60                                      7510905513495   \n",
       "37                4.00                                      7511005939278   \n",
       "38                4.50                                      7511906079284   \n",
       "39                5.00                                                NaN   \n",
       "40                 NaN                                      7511505554903   \n",
       "41                 NaN                                      7511803940165   \n",
       "42                 NaN                                      7510301545866   \n",
       "43                2.00  Available with a mobility lease only (\"bail mo...   \n",
       "44                 NaN                                      7511505554804   \n",
       "45                 NaN  Available with a mobility lease only (\"bail mo...   \n",
       "46                 NaN  Available with a mobility lease only (\"bail mo...   \n",
       "\n",
       "    instant_bookable calculated_host_listings_count  \\\n",
       "0                  f                              4   \n",
       "1                  f                              1   \n",
       "2                  f                              1   \n",
       "3                  f                              2   \n",
       "4                  f                              1   \n",
       "5                  f                              1   \n",
       "6                  f                              1   \n",
       "7                  f                              2   \n",
       "8                  f                              1   \n",
       "9                  f                              1   \n",
       "10                 f                              1   \n",
       "11                 f                              1   \n",
       "12                 f                              1   \n",
       "13                 f                              1   \n",
       "14                 f                              1   \n",
       "15                 f                              1   \n",
       "16                 f                              1   \n",
       "17                 f                              1   \n",
       "18                 f                              1   \n",
       "19                 f                              1   \n",
       "20                 f                              1   \n",
       "21                 f                              1   \n",
       "22                 f                              1   \n",
       "23                 f                              1   \n",
       "24                 f                              1   \n",
       "25                 f                              1   \n",
       "26                 f                              1   \n",
       "27                 f                              1   \n",
       "28                 f                              1   \n",
       "29                 f                              1   \n",
       "30                 f                              1   \n",
       "31                 f                              1   \n",
       "32                 f                              1   \n",
       "33                 f                              1   \n",
       "34                 f                             98   \n",
       "35                 f                              1   \n",
       "36                 f                              1   \n",
       "37                 f                              1   \n",
       "38                 f                              1   \n",
       "39                 f                              2   \n",
       "40                 f                            130   \n",
       "41                 f                            130   \n",
       "42                 f                            130   \n",
       "43                 f                            130   \n",
       "44                 f                            130   \n",
       "45                 f                            130   \n",
       "46                 f                            130   \n",
       "\n",
       "   calculated_host_listings_count_entire_homes  \\\n",
       "0                                            4   \n",
       "1                                            1   \n",
       "2                                            1   \n",
       "3                                            2   \n",
       "4                                            1   \n",
       "5                                            1   \n",
       "6                                            1   \n",
       "7                                            1   \n",
       "8                                            1   \n",
       "9                                            0   \n",
       "10                                           1   \n",
       "11                                           0   \n",
       "12                                           1   \n",
       "13                                           1   \n",
       "14                                           1   \n",
       "15                                           1   \n",
       "16                                           1   \n",
       "17                                           1   \n",
       "18                                           1   \n",
       "19                                           1   \n",
       "20                                           1   \n",
       "21                                           0   \n",
       "22                                           1   \n",
       "23                                           1   \n",
       "24                                           0   \n",
       "25                                           1   \n",
       "26                                           1   \n",
       "27                                           1   \n",
       "28                                           1   \n",
       "29                                           1   \n",
       "30                                           1   \n",
       "31                                           1   \n",
       "32                                           1   \n",
       "33                                           1   \n",
       "34                                          98   \n",
       "35                                           1   \n",
       "36                                           1   \n",
       "37                                           1   \n",
       "38                                           1   \n",
       "39                                           0   \n",
       "40                                         130   \n",
       "41                                         130   \n",
       "42                                         130   \n",
       "43                                         130   \n",
       "44                                         130   \n",
       "45                                         130   \n",
       "46                                         130   \n",
       "\n",
       "   calculated_host_listings_count_private_rooms  \\\n",
       "0                                             0   \n",
       "1                                             0   \n",
       "2                                             0   \n",
       "3                                             0   \n",
       "4                                             0   \n",
       "5                                             0   \n",
       "6                                             0   \n",
       "7                                             1   \n",
       "8                                             0   \n",
       "9                                             1   \n",
       "10                                            0   \n",
       "11                                            1   \n",
       "12                                            0   \n",
       "13                                            0   \n",
       "14                                            0   \n",
       "15                                            0   \n",
       "16                                            0   \n",
       "17                                            0   \n",
       "18                                            0   \n",
       "19                                            0   \n",
       "20                                            0   \n",
       "21                                            1   \n",
       "22                                            0   \n",
       "23                                            0   \n",
       "24                                            1   \n",
       "25                                            0   \n",
       "26                                            0   \n",
       "27                                            0   \n",
       "28                                            0   \n",
       "29                                            0   \n",
       "30                                            0   \n",
       "31                                            0   \n",
       "32                                            0   \n",
       "33                                            0   \n",
       "34                                            0   \n",
       "35                                            0   \n",
       "36                                            0   \n",
       "37                                            0   \n",
       "38                                            0   \n",
       "39                                            2   \n",
       "40                                            0   \n",
       "41                                            0   \n",
       "42                                            0   \n",
       "43                                            0   \n",
       "44                                            0   \n",
       "45                                            0   \n",
       "46                                            0   \n",
       "\n",
       "   calculated_host_listings_count_shared_rooms reviews_per_month  \n",
       "0                                            0              0.05  \n",
       "1                                            0              0.22  \n",
       "2                                            0               NaN  \n",
       "3                                            0               NaN  \n",
       "4                                            0              0.83  \n",
       "5                                            0              0.01  \n",
       "6                                            0               NaN  \n",
       "7                                            0              0.02  \n",
       "8                                            0               NaN  \n",
       "9                                            0              0.05  \n",
       "10                                           0               NaN  \n",
       "11                                           0               NaN  \n",
       "12                                           0               NaN  \n",
       "13                                           0              0.01  \n",
       "14                                           0               NaN  \n",
       "15                                           0              0.68  \n",
       "16                                           0              0.02  \n",
       "17                                           0              1.07  \n",
       "18                                           0               NaN  \n",
       "19                                           0              2.37  \n",
       "20                                           0              0.02  \n",
       "21                                           0              0.02  \n",
       "22                                           0               NaN  \n",
       "23                                           0              0.58  \n",
       "24                                           0              0.03  \n",
       "25                                           0              0.09  \n",
       "26                                           0              0.08  \n",
       "27                                           0              2.08  \n",
       "28                                           0              0.03  \n",
       "29                                           0              0.40  \n",
       "30                                           0              0.64  \n",
       "31                                           0               NaN  \n",
       "32                                           0              0.61  \n",
       "33                                           0              0.29  \n",
       "34                                           0              2.76  \n",
       "35                                           0               NaN  \n",
       "36                                           0              0.54  \n",
       "37                                           0              0.17  \n",
       "38                                           0              0.52  \n",
       "39                                           0              2.00  \n",
       "40                                           0               NaN  \n",
       "41                                           0               NaN  \n",
       "42                                           0               NaN  \n",
       "43                                           0              0.83  \n",
       "44                                           0               NaN  \n",
       "45                                           0               NaN  \n",
       "46                                           0               NaN  \n",
       "\n",
       "[47 rows x 72 columns]"
      ]
     },
     "execution_count": 43,
     "metadata": {},
     "output_type": "execute_result"
    }
   ],
   "source": [
    "# Merge booked listings with listings \n",
    "merged_df = pd.merge(booked_listings,listings,on=['listing_id','price','available','date','minimum_nights','maximum_nights'],how='inner')\n",
    "merged_df"
   ]
  },
  {
   "cell_type": "markdown",
   "id": "6e12777b",
   "metadata": {},
   "source": [
    "\n",
    "There are only **47** listings who correspond to the bookings calendar."
   ]
  },
  {
   "cell_type": "code",
   "execution_count": 44,
   "id": "13d41376",
   "metadata": {},
   "outputs": [
    {
     "data": {
      "text/html": [
       "<div>\n",
       "<style scoped>\n",
       "    .dataframe tbody tr th:only-of-type {\n",
       "        vertical-align: middle;\n",
       "    }\n",
       "\n",
       "    .dataframe tbody tr th {\n",
       "        vertical-align: top;\n",
       "    }\n",
       "\n",
       "    .dataframe thead th {\n",
       "        text-align: right;\n",
       "    }\n",
       "</style>\n",
       "<table border=\"1\" class=\"dataframe\">\n",
       "  <thead>\n",
       "    <tr style=\"text-align: right;\">\n",
       "      <th></th>\n",
       "      <th>listing_id</th>\n",
       "      <th>date</th>\n",
       "      <th>available</th>\n",
       "      <th>price</th>\n",
       "      <th>adjusted_price</th>\n",
       "      <th>minimum_nights</th>\n",
       "      <th>maximum_nights</th>\n",
       "      <th>listing_url</th>\n",
       "      <th>scrape_id</th>\n",
       "      <th>last_scraped</th>\n",
       "      <th>...</th>\n",
       "      <th>review_scores_communication</th>\n",
       "      <th>review_scores_location</th>\n",
       "      <th>review_scores_value</th>\n",
       "      <th>license</th>\n",
       "      <th>instant_bookable</th>\n",
       "      <th>calculated_host_listings_count</th>\n",
       "      <th>calculated_host_listings_count_entire_homes</th>\n",
       "      <th>calculated_host_listings_count_private_rooms</th>\n",
       "      <th>calculated_host_listings_count_shared_rooms</th>\n",
       "      <th>reviews_per_month</th>\n",
       "    </tr>\n",
       "  </thead>\n",
       "  <tbody>\n",
       "    <tr>\n",
       "      <th>0</th>\n",
       "      <td>1384098</td>\n",
       "      <td>2022-06-06</td>\n",
       "      <td>f</td>\n",
       "      <td>$140.00</td>\n",
       "      <td>$140.00</td>\n",
       "      <td>365.0</td>\n",
       "      <td>1125.0</td>\n",
       "      <td>https://www.airbnb.com/rooms/1384098</td>\n",
       "      <td>20220606014139</td>\n",
       "      <td>2022-06-06</td>\n",
       "      <td>...</td>\n",
       "      <td>4.67</td>\n",
       "      <td>4.33</td>\n",
       "      <td>4.67</td>\n",
       "      <td>NaN</td>\n",
       "      <td>f</td>\n",
       "      <td>4</td>\n",
       "      <td>4</td>\n",
       "      <td>0</td>\n",
       "      <td>0</td>\n",
       "      <td>0.05</td>\n",
       "    </tr>\n",
       "    <tr>\n",
       "      <th>1</th>\n",
       "      <td>2142687</td>\n",
       "      <td>2022-06-07</td>\n",
       "      <td>f</td>\n",
       "      <td>$46.00</td>\n",
       "      <td>$46.00</td>\n",
       "      <td>120.0</td>\n",
       "      <td>365.0</td>\n",
       "      <td>https://www.airbnb.com/rooms/2142687</td>\n",
       "      <td>20220606014139</td>\n",
       "      <td>2022-06-07</td>\n",
       "      <td>...</td>\n",
       "      <td>4.95</td>\n",
       "      <td>4.85</td>\n",
       "      <td>4.75</td>\n",
       "      <td>Available with a mobility lease only (\"bail mo...</td>\n",
       "      <td>f</td>\n",
       "      <td>1</td>\n",
       "      <td>1</td>\n",
       "      <td>0</td>\n",
       "      <td>0</td>\n",
       "      <td>0.22</td>\n",
       "    </tr>\n",
       "    <tr>\n",
       "      <th>2</th>\n",
       "      <td>3076637</td>\n",
       "      <td>2022-06-07</td>\n",
       "      <td>f</td>\n",
       "      <td>$360.00</td>\n",
       "      <td>$360.00</td>\n",
       "      <td>7.0</td>\n",
       "      <td>21.0</td>\n",
       "      <td>https://www.airbnb.com/rooms/3076637</td>\n",
       "      <td>20220606014139</td>\n",
       "      <td>2022-06-07</td>\n",
       "      <td>...</td>\n",
       "      <td>NaN</td>\n",
       "      <td>NaN</td>\n",
       "      <td>NaN</td>\n",
       "      <td>NaN</td>\n",
       "      <td>f</td>\n",
       "      <td>1</td>\n",
       "      <td>1</td>\n",
       "      <td>0</td>\n",
       "      <td>0</td>\n",
       "      <td>NaN</td>\n",
       "    </tr>\n",
       "    <tr>\n",
       "      <th>3</th>\n",
       "      <td>4806693</td>\n",
       "      <td>2022-06-07</td>\n",
       "      <td>f</td>\n",
       "      <td>$226.00</td>\n",
       "      <td>$226.00</td>\n",
       "      <td>365.0</td>\n",
       "      <td>1125.0</td>\n",
       "      <td>https://www.airbnb.com/rooms/4806693</td>\n",
       "      <td>20220606014139</td>\n",
       "      <td>2022-06-07</td>\n",
       "      <td>...</td>\n",
       "      <td>NaN</td>\n",
       "      <td>NaN</td>\n",
       "      <td>NaN</td>\n",
       "      <td>NaN</td>\n",
       "      <td>f</td>\n",
       "      <td>2</td>\n",
       "      <td>2</td>\n",
       "      <td>0</td>\n",
       "      <td>0</td>\n",
       "      <td>NaN</td>\n",
       "    </tr>\n",
       "    <tr>\n",
       "      <th>4</th>\n",
       "      <td>5475961</td>\n",
       "      <td>2022-06-07</td>\n",
       "      <td>f</td>\n",
       "      <td>$99.00</td>\n",
       "      <td>$99.00</td>\n",
       "      <td>365.0</td>\n",
       "      <td>1125.0</td>\n",
       "      <td>https://www.airbnb.com/rooms/5475961</td>\n",
       "      <td>20220606014139</td>\n",
       "      <td>2022-06-07</td>\n",
       "      <td>...</td>\n",
       "      <td>4.71</td>\n",
       "      <td>4.83</td>\n",
       "      <td>4.65</td>\n",
       "      <td>NaN</td>\n",
       "      <td>f</td>\n",
       "      <td>1</td>\n",
       "      <td>1</td>\n",
       "      <td>0</td>\n",
       "      <td>0</td>\n",
       "      <td>0.83</td>\n",
       "    </tr>\n",
       "  </tbody>\n",
       "</table>\n",
       "<p>5 rows × 72 columns</p>\n",
       "</div>"
      ],
      "text/plain": [
       "   listing_id        date available    price adjusted_price  minimum_nights  \\\n",
       "0     1384098  2022-06-06         f  $140.00        $140.00           365.0   \n",
       "1     2142687  2022-06-07         f   $46.00         $46.00           120.0   \n",
       "2     3076637  2022-06-07         f  $360.00        $360.00             7.0   \n",
       "3     4806693  2022-06-07         f  $226.00        $226.00           365.0   \n",
       "4     5475961  2022-06-07         f   $99.00         $99.00           365.0   \n",
       "\n",
       "   maximum_nights                           listing_url       scrape_id  \\\n",
       "0          1125.0  https://www.airbnb.com/rooms/1384098  20220606014139   \n",
       "1           365.0  https://www.airbnb.com/rooms/2142687  20220606014139   \n",
       "2            21.0  https://www.airbnb.com/rooms/3076637  20220606014139   \n",
       "3          1125.0  https://www.airbnb.com/rooms/4806693  20220606014139   \n",
       "4          1125.0  https://www.airbnb.com/rooms/5475961  20220606014139   \n",
       "\n",
       "  last_scraped  ... review_scores_communication review_scores_location  \\\n",
       "0   2022-06-06  ...                        4.67                   4.33   \n",
       "1   2022-06-07  ...                        4.95                   4.85   \n",
       "2   2022-06-07  ...                         NaN                    NaN   \n",
       "3   2022-06-07  ...                         NaN                    NaN   \n",
       "4   2022-06-07  ...                        4.71                   4.83   \n",
       "\n",
       "  review_scores_value                                            license  \\\n",
       "0                4.67                                                NaN   \n",
       "1                4.75  Available with a mobility lease only (\"bail mo...   \n",
       "2                 NaN                                                NaN   \n",
       "3                 NaN                                                NaN   \n",
       "4                4.65                                                NaN   \n",
       "\n",
       "   instant_bookable calculated_host_listings_count  \\\n",
       "0                 f                              4   \n",
       "1                 f                              1   \n",
       "2                 f                              1   \n",
       "3                 f                              2   \n",
       "4                 f                              1   \n",
       "\n",
       "  calculated_host_listings_count_entire_homes  \\\n",
       "0                                           4   \n",
       "1                                           1   \n",
       "2                                           1   \n",
       "3                                           2   \n",
       "4                                           1   \n",
       "\n",
       "  calculated_host_listings_count_private_rooms  \\\n",
       "0                                            0   \n",
       "1                                            0   \n",
       "2                                            0   \n",
       "3                                            0   \n",
       "4                                            0   \n",
       "\n",
       "  calculated_host_listings_count_shared_rooms reviews_per_month  \n",
       "0                                           0              0.05  \n",
       "1                                           0              0.22  \n",
       "2                                           0               NaN  \n",
       "3                                           0               NaN  \n",
       "4                                           0              0.83  \n",
       "\n",
       "[5 rows x 72 columns]"
      ]
     },
     "execution_count": 44,
     "metadata": {},
     "output_type": "execute_result"
    }
   ],
   "source": [
    "merged_df.head()"
   ]
  },
  {
   "cell_type": "code",
   "execution_count": 45,
   "id": "238ebd67",
   "metadata": {},
   "outputs": [
    {
     "name": "stdout",
     "output_type": "stream",
     "text": [
      "The starting date of the bookings is: 2022-06-06\n",
      "The end date of the bookings is: 2022-06-07\n"
     ]
    }
   ],
   "source": [
    "# Look into the date range of the bookings\n",
    "print('The starting date of the bookings is:',merged_df.date.min())\n",
    "print('The end date of the bookings is:',merged_df.date.max())\n"
   ]
  },
  {
   "cell_type": "markdown",
   "id": "18a75a88",
   "metadata": {},
   "source": [
    "\n",
    "And now we have the merged dataframe, we're going to be interested in the **neighbourhood_cleansed** column to find out which are the neighbourhoods the most booked in Paris.\n"
   ]
  },
  {
   "cell_type": "code",
   "execution_count": 46,
   "id": "06a99a6d",
   "metadata": {},
   "outputs": [],
   "source": [
    "# Take a look at the most booked neighbourhood values\n",
    "neighbourhoods = merged_df['neighbourhood_cleansed']\n",
    "most_booked = neighbourhoods.sort_values(ascending=False).value_counts(dropna=False).head(10)\n"
   ]
  },
  {
   "cell_type": "code",
   "execution_count": 47,
   "id": "49cc579c",
   "metadata": {
    "scrolled": true
   },
   "outputs": [
    {
     "data": {
      "image/png": "[encoded data removed]",
      "text/plain": [
       "<Figure size 432x288 with 1 Axes>"
      ]
     },
     "metadata": {
      "needs_background": "light"
     },
     "output_type": "display_data"
    }
   ],
   "source": [
    "# Plot the most booked neighbourhoods in Paris \n",
    "palette_color = sns.color_palette(\"bright\")\n",
    "plt.title('The most booked neighbourhoods in Paris',fontsize=20,y=1.1);\n",
    "plt.xlabel('Neighbourhoods')\n",
    "plt.ylabel('Number of bookings')\n",
    "most_booked.plot(kind='bar', color=palette_color);\n",
    "plt.savefig('blog/most_booked.jpg', bbox_inches='tight')\n"
   ]
  },
  {
   "cell_type": "code",
   "execution_count": 48,
   "id": "54a572bc",
   "metadata": {},
   "outputs": [
    {
     "data": {
      "application/vnd.plotly.v1+json": {
       "config": {
        "plotlyServerURL": "https://plot.ly"
       },
       "data": [
        {
         "customdata": [
          [
           365,
           1125,
           "$140.00",
           "$140.00",
           "f"
          ],
          [
           365,
           1125,
           "$55.00",
           "$55.00",
           "f"
          ]
         ],
         "hovertemplate": "<b>%{hovertext}</b><br><br>neighbourhood_cleansed=Bourse<br>latitude=%{lat}<br>longitude=%{lon}<br>minimum_nights=%{customdata[0]}<br>maximum_nights=%{customdata[1]}<br>price=%{customdata[2]}<br>adjusted_price=%{customdata[3]}<br>available=%{customdata[4]}<extra></extra>",
         "hovertext": [
          "Bourse",
          "Bourse"
         ],
         "lat": [
          48.86895,
          48.86905
         ],
         "legendgroup": "Bourse",
         "lon": [
          2.35082,
          2.34983
         ],
         "marker": {
          "color": "#636efa"
         },
         "mode": "markers",
         "name": "Bourse",
         "showlegend": true,
         "subplot": "mapbox",
         "type": "scattermapbox"
        },
        {
         "customdata": [
          [
           120,
           365,
           "$46.00",
           "$46.00",
           "f"
          ],
          [
           2,
           31,
           "$115.00",
           "$115.00",
           "f"
          ]
         ],
         "hovertemplate": "<b>%{hovertext}</b><br><br>neighbourhood_cleansed=Palais-Bourbon<br>latitude=%{lat}<br>longitude=%{lon}<br>minimum_nights=%{customdata[0]}<br>maximum_nights=%{customdata[1]}<br>price=%{customdata[2]}<br>adjusted_price=%{customdata[3]}<br>available=%{customdata[4]}<extra></extra>",
         "hovertext": [
          "Palais-Bourbon",
          "Palais-Bourbon"
         ],
         "lat": [
          48.85417,
          48.85696
         ],
         "legendgroup": "Palais-Bourbon",
         "lon": [
          2.3206,
          2.30532
         ],
         "marker": {
          "color": "#EF553B"
         },
         "mode": "markers",
         "name": "Palais-Bourbon",
         "showlegend": true,
         "subplot": "mapbox",
         "type": "scattermapbox"
        },
        {
         "customdata": [
          [
           7,
           21,
           "$360.00",
           "$360.00",
           "f"
          ],
          [
           365,
           1125,
           "$49.00",
           "$49.00",
           "f"
          ],
          [
           365,
           1125,
           "$200.00",
           "$200.00",
           "f"
          ],
          [
           3,
           365,
           "$60.00",
           "$60.00",
           "f"
          ]
         ],
         "hovertemplate": "<b>%{hovertext}</b><br><br>neighbourhood_cleansed=Passy<br>latitude=%{lat}<br>longitude=%{lon}<br>minimum_nights=%{customdata[0]}<br>maximum_nights=%{customdata[1]}<br>price=%{customdata[2]}<br>adjusted_price=%{customdata[3]}<br>available=%{customdata[4]}<extra></extra>",
         "hovertext": [
          "Passy",
          "Passy",
          "Passy",
          "Passy"
         ],
         "lat": [
          48.875,
          48.86355,
          48.84386,
          48.85635
         ],
         "legendgroup": "Passy",
         "lon": [
          2.24966,
          2.27172,
          2.27033,
          2.28152
         ],
         "marker": {
          "color": "#00cc96"
         },
         "mode": "markers",
         "name": "Passy",
         "showlegend": true,
         "subplot": "mapbox",
         "type": "scattermapbox"
        },
        {
         "customdata": [
          [
           365,
           1125,
           "$226.00",
           "$226.00",
           "f"
          ]
         ],
         "hovertemplate": "<b>%{hovertext}</b><br><br>neighbourhood_cleansed=Élysée<br>latitude=%{lat}<br>longitude=%{lon}<br>minimum_nights=%{customdata[0]}<br>maximum_nights=%{customdata[1]}<br>price=%{customdata[2]}<br>adjusted_price=%{customdata[3]}<br>available=%{customdata[4]}<extra></extra>",
         "hovertext": [
          "Élysée"
         ],
         "lat": [
          48.87426
         ],
         "legendgroup": "Élysée",
         "lon": [
          2.30715
         ],
         "marker": {
          "color": "#ab63fa"
         },
         "mode": "markers",
         "name": "Élysée",
         "showlegend": true,
         "subplot": "mapbox",
         "type": "scattermapbox"
        },
        {
         "customdata": [
          [
           365,
           1125,
           "$99.00",
           "$99.00",
           "f"
          ],
          [
           365,
           1125,
           "$80.00",
           "$80.00",
           "f"
          ],
          [
           365,
           1125,
           "$80.00",
           "$80.00",
           "f"
          ],
          [
           365,
           1125,
           "$60.00",
           "$60.00",
           "f"
          ],
          [
           1,
           1125,
           "$77.00",
           "$77.00",
           "f"
          ]
         ],
         "hovertemplate": "<b>%{hovertext}</b><br><br>neighbourhood_cleansed=Gobelins<br>latitude=%{lat}<br>longitude=%{lon}<br>minimum_nights=%{customdata[0]}<br>maximum_nights=%{customdata[1]}<br>price=%{customdata[2]}<br>adjusted_price=%{customdata[3]}<br>available=%{customdata[4]}<extra></extra>",
         "hovertext": [
          "Gobelins",
          "Gobelins",
          "Gobelins",
          "Gobelins",
          "Gobelins"
         ],
         "lat": [
          48.82759,
          48.83434,
          48.82556,
          48.8204,
          48.82457
         ],
         "legendgroup": "Gobelins",
         "lon": [
          2.35609,
          2.36077,
          2.36235,
          2.36364,
          2.36297
         ],
         "marker": {
          "color": "#FFA15A"
         },
         "mode": "markers",
         "name": "Gobelins",
         "showlegend": true,
         "subplot": "mapbox",
         "type": "scattermapbox"
        },
        {
         "customdata": [
          [
           365,
           365,
           "$79.00",
           "$79.00",
           "f"
          ],
          [
           365,
           1125,
           "$60.00",
           "$60.00",
           "f"
          ],
          [
           7,
           90,
           "$125.00",
           "$125.00",
           "f"
          ]
         ],
         "hovertemplate": "<b>%{hovertext}</b><br><br>neighbourhood_cleansed=Batignolles-Monceau<br>latitude=%{lat}<br>longitude=%{lon}<br>minimum_nights=%{customdata[0]}<br>maximum_nights=%{customdata[1]}<br>price=%{customdata[2]}<br>adjusted_price=%{customdata[3]}<br>available=%{customdata[4]}<extra></extra>",
         "hovertext": [
          "Batignolles-Monceau",
          "Batignolles-Monceau",
          "Batignolles-Monceau"
         ],
         "lat": [
          48.88755,
          48.88056,
          48.88383
         ],
         "legendgroup": "Batignolles-Monceau",
         "lon": [
          2.32482,
          2.28497,
          2.29261
         ],
         "marker": {
          "color": "#19d3f3"
         },
         "mode": "markers",
         "name": "Batignolles-Monceau",
         "showlegend": true,
         "subplot": "mapbox",
         "type": "scattermapbox"
        },
        {
         "customdata": [
          [
           365,
           1125,
           "$160.00",
           "$160.00",
           "f"
          ],
          [
           1,
           2,
           "$38.00",
           "$38.00",
           "f"
          ],
          [
           2,
           15,
           "$160.00",
           "$160.00",
           "f"
          ],
          [
           90,
           1125,
           "$56.00",
           "$56.00",
           "f"
          ],
          [
           90,
           1125,
           "$58.00",
           "$58.00",
           "f"
          ]
         ],
         "hovertemplate": "<b>%{hovertext}</b><br><br>neighbourhood_cleansed=Vaugirard<br>latitude=%{lat}<br>longitude=%{lon}<br>minimum_nights=%{customdata[0]}<br>maximum_nights=%{customdata[1]}<br>price=%{customdata[2]}<br>adjusted_price=%{customdata[3]}<br>available=%{customdata[4]}<extra></extra>",
         "hovertext": [
          "Vaugirard",
          "Vaugirard",
          "Vaugirard",
          "Vaugirard",
          "Vaugirard"
         ],
         "lat": [
          48.85044,
          48.84548,
          48.85247,
          48.83322,
          48.834843632797686
         ],
         "legendgroup": "Vaugirard",
         "lon": [
          2.29389,
          2.28251,
          2.28677,
          2.29574,
          2.2939739460507576
         ],
         "marker": {
          "color": "#FF6692"
         },
         "mode": "markers",
         "name": "Vaugirard",
         "showlegend": true,
         "subplot": "mapbox",
         "type": "scattermapbox"
        },
        {
         "customdata": [
          [
           1,
           1125,
           "$51.00",
           "$51.00",
           "f"
          ],
          [
           1,
           365,
           "$87.00",
           "$87.00",
           "f"
          ]
         ],
         "hovertemplate": "<b>%{hovertext}</b><br><br>neighbourhood_cleansed=Opéra<br>latitude=%{lat}<br>longitude=%{lon}<br>minimum_nights=%{customdata[0]}<br>maximum_nights=%{customdata[1]}<br>price=%{customdata[2]}<br>adjusted_price=%{customdata[3]}<br>available=%{customdata[4]}<extra></extra>",
         "hovertext": [
          "Opéra",
          "Opéra"
         ],
         "lat": [
          48.87524,
          48.880898
         ],
         "legendgroup": "Opéra",
         "lon": [
          2.34707,
          2.333324
         ],
         "marker": {
          "color": "#B6E880"
         },
         "mode": "markers",
         "name": "Opéra",
         "showlegend": true,
         "subplot": "mapbox",
         "type": "scattermapbox"
        },
        {
         "customdata": [
          [
           365,
           1125,
           "$85.00",
           "$85.00",
           "f"
          ]
         ],
         "hovertemplate": "<b>%{hovertext}</b><br><br>neighbourhood_cleansed=Luxembourg<br>latitude=%{lat}<br>longitude=%{lon}<br>minimum_nights=%{customdata[0]}<br>maximum_nights=%{customdata[1]}<br>price=%{customdata[2]}<br>adjusted_price=%{customdata[3]}<br>available=%{customdata[4]}<extra></extra>",
         "hovertext": [
          "Luxembourg"
         ],
         "lat": [
          48.85297
         ],
         "legendgroup": "Luxembourg",
         "lon": [
          2.33565
         ],
         "marker": {
          "color": "#FF97FF"
         },
         "mode": "markers",
         "name": "Luxembourg",
         "showlegend": true,
         "subplot": "mapbox",
         "type": "scattermapbox"
        },
        {
         "customdata": [
          [
           1,
           1125,
           "$113.00",
           "$113.00",
           "f"
          ],
          [
           1,
           1125,
           "$82.00",
           "$82.00",
           "f"
          ],
          [
           1,
           1125,
           "$84.00",
           "$84.00",
           "f"
          ],
          [
           1,
           1125,
           "$135.00",
           "$108.00",
           "f"
          ],
          [
           1,
           365,
           "$217.00",
           "$217.00",
           "f"
          ]
         ],
         "hovertemplate": "<b>%{hovertext}</b><br><br>neighbourhood_cleansed=Entrepôt<br>latitude=%{lat}<br>longitude=%{lon}<br>minimum_nights=%{customdata[0]}<br>maximum_nights=%{customdata[1]}<br>price=%{customdata[2]}<br>adjusted_price=%{customdata[3]}<br>available=%{customdata[4]}<extra></extra>",
         "hovertext": [
          "Entrepôt",
          "Entrepôt",
          "Entrepôt",
          "Entrepôt",
          "Entrepôt"
         ],
         "lat": [
          48.87795,
          48.87988,
          48.87534,
          48.87181,
          48.876186
         ],
         "legendgroup": "Entrepôt",
         "lon": [
          2.35732,
          2.35457,
          2.34933,
          2.35096,
          2.362201
         ],
         "marker": {
          "color": "#FECB52"
         },
         "mode": "markers",
         "name": "Entrepôt",
         "showlegend": true,
         "subplot": "mapbox",
         "type": "scattermapbox"
        },
        {
         "customdata": [
          [
           365,
           1125,
           "$40.00",
           "$40.00",
           "f"
          ],
          [
           1,
           365,
           "$59.00",
           "$59.00",
           "f"
          ]
         ],
         "hovertemplate": "<b>%{hovertext}</b><br><br>neighbourhood_cleansed=Popincourt<br>latitude=%{lat}<br>longitude=%{lon}<br>minimum_nights=%{customdata[0]}<br>maximum_nights=%{customdata[1]}<br>price=%{customdata[2]}<br>adjusted_price=%{customdata[3]}<br>available=%{customdata[4]}<extra></extra>",
         "hovertext": [
          "Popincourt",
          "Popincourt"
         ],
         "lat": [
          48.86011,
          48.85323
         ],
         "legendgroup": "Popincourt",
         "lon": [
          2.3771,
          2.37263
         ],
         "marker": {
          "color": "#636efa"
         },
         "mode": "markers",
         "name": "Popincourt",
         "showlegend": true,
         "subplot": "mapbox",
         "type": "scattermapbox"
        },
        {
         "customdata": [
          [
           1,
           1125,
           "$92.00",
           "$92.00",
           "f"
          ]
         ],
         "hovertemplate": "<b>%{hovertext}</b><br><br>neighbourhood_cleansed=Observatoire<br>latitude=%{lat}<br>longitude=%{lon}<br>minimum_nights=%{customdata[0]}<br>maximum_nights=%{customdata[1]}<br>price=%{customdata[2]}<br>adjusted_price=%{customdata[3]}<br>available=%{customdata[4]}<extra></extra>",
         "hovertext": [
          "Observatoire"
         ],
         "lat": [
          48.83492
         ],
         "legendgroup": "Observatoire",
         "lon": [
          2.32785
         ],
         "marker": {
          "color": "#EF553B"
         },
         "mode": "markers",
         "name": "Observatoire",
         "showlegend": true,
         "subplot": "mapbox",
         "type": "scattermapbox"
        },
        {
         "customdata": [
          [
           365,
           1125,
           "$85.00",
           "$85.00",
           "f"
          ],
          [
           90,
           1125,
           "$73.00",
           "$73.00",
           "f"
          ]
         ],
         "hovertemplate": "<b>%{hovertext}</b><br><br>neighbourhood_cleansed=Temple<br>latitude=%{lat}<br>longitude=%{lon}<br>minimum_nights=%{customdata[0]}<br>maximum_nights=%{customdata[1]}<br>price=%{customdata[2]}<br>adjusted_price=%{customdata[3]}<br>available=%{customdata[4]}<extra></extra>",
         "hovertext": [
          "Temple",
          "Temple"
         ],
         "lat": [
          48.86295,
          48.867915873305634
         ],
         "legendgroup": "Temple",
         "lon": [
          2.35867,
          2.3616789054982528
         ],
         "marker": {
          "color": "#00cc96"
         },
         "mode": "markers",
         "name": "Temple",
         "showlegend": true,
         "subplot": "mapbox",
         "type": "scattermapbox"
        },
        {
         "customdata": [
          [
           1,
           1125,
           "$45.00",
           "$45.00",
           "f"
          ]
         ],
         "hovertemplate": "<b>%{hovertext}</b><br><br>neighbourhood_cleansed=Hôtel-de-Ville<br>latitude=%{lat}<br>longitude=%{lon}<br>minimum_nights=%{customdata[0]}<br>maximum_nights=%{customdata[1]}<br>price=%{customdata[2]}<br>adjusted_price=%{customdata[3]}<br>available=%{customdata[4]}<extra></extra>",
         "hovertext": [
          "Hôtel-de-Ville"
         ],
         "lat": [
          48.85746
         ],
         "legendgroup": "Hôtel-de-Ville",
         "lon": [
          2.35827
         ],
         "marker": {
          "color": "#ab63fa"
         },
         "mode": "markers",
         "name": "Hôtel-de-Ville",
         "showlegend": true,
         "subplot": "mapbox",
         "type": "scattermapbox"
        },
        {
         "customdata": [
          [
           365,
           1125,
           "$45.00",
           "$45.00",
           "f"
          ],
          [
           1,
           1125,
           "$75.00",
           "$75.00",
           "f"
          ],
          [
           30,
           1125,
           "$210.00",
           "$210.00",
           "f"
          ],
          [
           90,
           1125,
           "$95.00",
           "$95.00",
           "f"
          ],
          [
           90,
           1125,
           "$76.00",
           "$76.00",
           "f"
          ]
         ],
         "hovertemplate": "<b>%{hovertext}</b><br><br>neighbourhood_cleansed=Buttes-Montmartre<br>latitude=%{lat}<br>longitude=%{lon}<br>minimum_nights=%{customdata[0]}<br>maximum_nights=%{customdata[1]}<br>price=%{customdata[2]}<br>adjusted_price=%{customdata[3]}<br>available=%{customdata[4]}<extra></extra>",
         "hovertext": [
          "Buttes-Montmartre",
          "Buttes-Montmartre",
          "Buttes-Montmartre",
          "Buttes-Montmartre",
          "Buttes-Montmartre"
         ],
         "lat": [
          48.89488,
          48.89098,
          48.89148,
          48.88561173002033,
          48.88766674967015
         ],
         "legendgroup": "Buttes-Montmartre",
         "lon": [
          2.34955,
          2.36231,
          2.34538,
          2.341673593636364,
          2.3499160811065463
         ],
         "marker": {
          "color": "#FFA15A"
         },
         "mode": "markers",
         "name": "Buttes-Montmartre",
         "showlegend": true,
         "subplot": "mapbox",
         "type": "scattermapbox"
        },
        {
         "customdata": [
          [
           3,
           14,
           "$65.00",
           "$65.00",
           "f"
          ]
         ],
         "hovertemplate": "<b>%{hovertext}</b><br><br>neighbourhood_cleansed=Reuilly<br>latitude=%{lat}<br>longitude=%{lon}<br>minimum_nights=%{customdata[0]}<br>maximum_nights=%{customdata[1]}<br>price=%{customdata[2]}<br>adjusted_price=%{customdata[3]}<br>available=%{customdata[4]}<extra></extra>",
         "hovertext": [
          "Reuilly"
         ],
         "lat": [
          48.85057
         ],
         "legendgroup": "Reuilly",
         "lon": [
          2.37474
         ],
         "marker": {
          "color": "#19d3f3"
         },
         "mode": "markers",
         "name": "Reuilly",
         "showlegend": true,
         "subplot": "mapbox",
         "type": "scattermapbox"
        },
        {
         "customdata": [
          [
           365,
           1125,
           "$140.00",
           "$140.00",
           "f"
          ]
         ],
         "hovertemplate": "<b>%{hovertext}</b><br><br>neighbourhood_cleansed=Louvre<br>latitude=%{lat}<br>longitude=%{lon}<br>minimum_nights=%{customdata[0]}<br>maximum_nights=%{customdata[1]}<br>price=%{customdata[2]}<br>adjusted_price=%{customdata[3]}<br>available=%{customdata[4]}<extra></extra>",
         "hovertext": [
          "Louvre"
         ],
         "lat": [
          48.86531
         ],
         "legendgroup": "Louvre",
         "lon": [
          2.33268
         ],
         "marker": {
          "color": "#FF6692"
         },
         "mode": "markers",
         "name": "Louvre",
         "showlegend": true,
         "subplot": "mapbox",
         "type": "scattermapbox"
        },
        {
         "customdata": [
          [
           365,
           1125,
           "$418.00",
           "$418.00",
           "f"
          ]
         ],
         "hovertemplate": "<b>%{hovertext}</b><br><br>neighbourhood_cleansed=Panthéon<br>latitude=%{lat}<br>longitude=%{lon}<br>minimum_nights=%{customdata[0]}<br>maximum_nights=%{customdata[1]}<br>price=%{customdata[2]}<br>adjusted_price=%{customdata[3]}<br>available=%{customdata[4]}<extra></extra>",
         "hovertext": [
          "Panthéon"
         ],
         "lat": [
          48.85188
         ],
         "legendgroup": "Panthéon",
         "lon": [
          2.34747
         ],
         "marker": {
          "color": "#B6E880"
         },
         "mode": "markers",
         "name": "Panthéon",
         "showlegend": true,
         "subplot": "mapbox",
         "type": "scattermapbox"
        },
        {
         "customdata": [
          [
           1,
           365,
           "$83.00",
           "$83.00",
           "f"
          ],
          [
           90,
           1125,
           "$58.00",
           "$58.00",
           "f"
          ]
         ],
         "hovertemplate": "<b>%{hovertext}</b><br><br>neighbourhood_cleansed=Buttes-Chaumont<br>latitude=%{lat}<br>longitude=%{lon}<br>minimum_nights=%{customdata[0]}<br>maximum_nights=%{customdata[1]}<br>price=%{customdata[2]}<br>adjusted_price=%{customdata[3]}<br>available=%{customdata[4]}<extra></extra>",
         "hovertext": [
          "Buttes-Chaumont",
          "Buttes-Chaumont"
         ],
         "lat": [
          48.879356,
          48.88371
         ],
         "legendgroup": "Buttes-Chaumont",
         "lon": [
          2.385436,
          2.38032
         ],
         "marker": {
          "color": "#FF97FF"
         },
         "mode": "markers",
         "name": "Buttes-Chaumont",
         "showlegend": true,
         "subplot": "mapbox",
         "type": "scattermapbox"
        },
        {
         "customdata": [
          [
           30,
           1125,
           "$69.00",
           "$69.00",
           "f"
          ]
         ],
         "hovertemplate": "<b>%{hovertext}</b><br><br>neighbourhood_cleansed=Ménilmontant<br>latitude=%{lat}<br>longitude=%{lon}<br>minimum_nights=%{customdata[0]}<br>maximum_nights=%{customdata[1]}<br>price=%{customdata[2]}<br>adjusted_price=%{customdata[3]}<br>available=%{customdata[4]}<extra></extra>",
         "hovertext": [
          "Ménilmontant"
         ],
         "lat": [
          48.8734083313877
         ],
         "legendgroup": "Ménilmontant",
         "lon": [
          2.3891436907369905
         ],
         "marker": {
          "color": "#FECB52"
         },
         "mode": "markers",
         "name": "Ménilmontant",
         "showlegend": true,
         "subplot": "mapbox",
         "type": "scattermapbox"
        }
       ],
       "layout": {
        "height": 600,
        "legend": {
         "title": {
          "text": "neighbourhood_cleansed"
         },
         "tracegroupgap": 0
        },
        "mapbox": {
         "center": {
          "lat": 48.86265353866343,
          "lon": 2.335602068447423
         },
         "domain": {
          "x": [
           0,
           1
          ],
          "y": [
           0,
           1
          ]
         },
         "style": "open-street-map",
         "zoom": 9
        },
        "margin": {
         "b": 0,
         "l": 0,
         "r": 0,
         "t": 0
        },
        "template": {
         "data": {
          "bar": [
           {
            "error_x": {
             "color": "#2a3f5f"
            },
            "error_y": {
             "color": "#2a3f5f"
            },
            "marker": {
             "line": {
              "color": "#E5ECF6",
              "width": 0.5
             },
             "pattern": {
              "fillmode": "overlay",
              "size": 10,
              "solidity": 0.2
             }
            },
            "type": "bar"
           }
          ],
          "barpolar": [
           {
            "marker": {
             "line": {
              "color": "#E5ECF6",
              "width": 0.5
             },
             "pattern": {
              "fillmode": "overlay",
              "size": 10,
              "solidity": 0.2
             }
            },
            "type": "barpolar"
           }
          ],
          "carpet": [
           {
            "aaxis": {
             "endlinecolor": "#2a3f5f",
             "gridcolor": "white",
             "linecolor": "white",
             "minorgridcolor": "white",
             "startlinecolor": "#2a3f5f"
            },
            "baxis": {
             "endlinecolor": "#2a3f5f",
             "gridcolor": "white",
             "linecolor": "white",
             "minorgridcolor": "white",
             "startlinecolor": "#2a3f5f"
            },
            "type": "carpet"
           }
          ],
          "choropleth": [
           {
            "colorbar": {
             "outlinewidth": 0,
             "ticks": ""
            },
            "type": "choropleth"
           }
          ],
          "contour": [
           {
            "colorbar": {
             "outlinewidth": 0,
             "ticks": ""
            },
            "colorscale": [
             [
              0,
              "#0d0887"
             ],
             [
              0.1111111111111111,
              "#46039f"
             ],
             [
              0.2222222222222222,
              "#7201a8"
             ],
             [
              0.3333333333333333,
              "#9c179e"
             ],
             [
              0.4444444444444444,
              "#bd3786"
             ],
             [
              0.5555555555555556,
              "#d8576b"
             ],
             [
              0.6666666666666666,
              "#ed7953"
             ],
             [
              0.7777777777777778,
              "#fb9f3a"
             ],
             [
              0.8888888888888888,
              "#fdca26"
             ],
             [
              1,
              "#f0f921"
             ]
            ],
            "type": "contour"
           }
          ],
          "contourcarpet": [
           {
            "colorbar": {
             "outlinewidth": 0,
             "ticks": ""
            },
            "type": "contourcarpet"
           }
          ],
          "heatmap": [
           {
            "colorbar": {
             "outlinewidth": 0,
             "ticks": ""
            },
            "colorscale": [
             [
              0,
              "#0d0887"
             ],
             [
              0.1111111111111111,
              "#46039f"
             ],
             [
              0.2222222222222222,
              "#7201a8"
             ],
             [
              0.3333333333333333,
              "#9c179e"
             ],
             [
              0.4444444444444444,
              "#bd3786"
             ],
             [
              0.5555555555555556,
              "#d8576b"
             ],
             [
              0.6666666666666666,
              "#ed7953"
             ],
             [
              0.7777777777777778,
              "#fb9f3a"
             ],
             [
              0.8888888888888888,
              "#fdca26"
             ],
             [
              1,
              "#f0f921"
             ]
            ],
            "type": "heatmap"
           }
          ],
          "heatmapgl": [
           {
            "colorbar": {
             "outlinewidth": 0,
             "ticks": ""
            },
            "colorscale": [
             [
              0,
              "#0d0887"
             ],
             [
              0.1111111111111111,
              "#46039f"
             ],
             [
              0.2222222222222222,
              "#7201a8"
             ],
             [
              0.3333333333333333,
              "#9c179e"
             ],
             [
              0.4444444444444444,
              "#bd3786"
             ],
             [
              0.5555555555555556,
              "#d8576b"
             ],
             [
              0.6666666666666666,
              "#ed7953"
             ],
             [
              0.7777777777777778,
              "#fb9f3a"
             ],
             [
              0.8888888888888888,
              "#fdca26"
             ],
             [
              1,
              "#f0f921"
             ]
            ],
            "type": "heatmapgl"
           }
          ],
          "histogram": [
           {
            "marker": {
             "pattern": {
              "fillmode": "overlay",
              "size": 10,
              "solidity": 0.2
             }
            },
            "type": "histogram"
           }
          ],
          "histogram2d": [
           {
            "colorbar": {
             "outlinewidth": 0,
             "ticks": ""
            },
            "colorscale": [
             [
              0,
              "#0d0887"
             ],
             [
              0.1111111111111111,
              "#46039f"
             ],
             [
              0.2222222222222222,
              "#7201a8"
             ],
             [
              0.3333333333333333,
              "#9c179e"
             ],
             [
              0.4444444444444444,
              "#bd3786"
             ],
             [
              0.5555555555555556,
              "#d8576b"
             ],
             [
              0.6666666666666666,
              "#ed7953"
             ],
             [
              0.7777777777777778,
              "#fb9f3a"
             ],
             [
              0.8888888888888888,
              "#fdca26"
             ],
             [
              1,
              "#f0f921"
             ]
            ],
            "type": "histogram2d"
           }
          ],
          "histogram2dcontour": [
           {
            "colorbar": {
             "outlinewidth": 0,
             "ticks": ""
            },
            "colorscale": [
             [
              0,
              "#0d0887"
             ],
             [
              0.1111111111111111,
              "#46039f"
             ],
             [
              0.2222222222222222,
              "#7201a8"
             ],
             [
              0.3333333333333333,
              "#9c179e"
             ],
             [
              0.4444444444444444,
              "#bd3786"
             ],
             [
              0.5555555555555556,
              "#d8576b"
             ],
             [
              0.6666666666666666,
              "#ed7953"
             ],
             [
              0.7777777777777778,
              "#fb9f3a"
             ],
             [
              0.8888888888888888,
              "#fdca26"
             ],
             [
              1,
              "#f0f921"
             ]
            ],
            "type": "histogram2dcontour"
           }
          ],
          "mesh3d": [
           {
            "colorbar": {
             "outlinewidth": 0,
             "ticks": ""
            },
            "type": "mesh3d"
           }
          ],
          "parcoords": [
           {
            "line": {
             "colorbar": {
              "outlinewidth": 0,
              "ticks": ""
             }
            },
            "type": "parcoords"
           }
          ],
          "pie": [
           {
            "automargin": true,
            "type": "pie"
           }
          ],
          "scatter": [
           {
            "marker": {
             "colorbar": {
              "outlinewidth": 0,
              "ticks": ""
             }
            },
            "type": "scatter"
           }
          ],
          "scatter3d": [
           {
            "line": {
             "colorbar": {
              "outlinewidth": 0,
              "ticks": ""
             }
            },
            "marker": {
             "colorbar": {
              "outlinewidth": 0,
              "ticks": ""
             }
            },
            "type": "scatter3d"
           }
          ],
          "scattercarpet": [
           {
            "marker": {
             "colorbar": {
              "outlinewidth": 0,
              "ticks": ""
             }
            },
            "type": "scattercarpet"
           }
          ],
          "scattergeo": [
           {
            "marker": {
             "colorbar": {
              "outlinewidth": 0,
              "ticks": ""
             }
            },
            "type": "scattergeo"
           }
          ],
          "scattergl": [
           {
            "marker": {
             "colorbar": {
              "outlinewidth": 0,
              "ticks": ""
             }
            },
            "type": "scattergl"
           }
          ],
          "scattermapbox": [
           {
            "marker": {
             "colorbar": {
              "outlinewidth": 0,
              "ticks": ""
             }
            },
            "type": "scattermapbox"
           }
          ],
          "scatterpolar": [
           {
            "marker": {
             "colorbar": {
              "outlinewidth": 0,
              "ticks": ""
             }
            },
            "type": "scatterpolar"
           }
          ],
          "scatterpolargl": [
           {
            "marker": {
             "colorbar": {
              "outlinewidth": 0,
              "ticks": ""
             }
            },
            "type": "scatterpolargl"
           }
          ],
          "scatterternary": [
           {
            "marker": {
             "colorbar": {
              "outlinewidth": 0,
              "ticks": ""
             }
            },
            "type": "scatterternary"
           }
          ],
          "surface": [
           {
            "colorbar": {
             "outlinewidth": 0,
             "ticks": ""
            },
            "colorscale": [
             [
              0,
              "#0d0887"
             ],
             [
              0.1111111111111111,
              "#46039f"
             ],
             [
              0.2222222222222222,
              "#7201a8"
             ],
             [
              0.3333333333333333,
              "#9c179e"
             ],
             [
              0.4444444444444444,
              "#bd3786"
             ],
             [
              0.5555555555555556,
              "#d8576b"
             ],
             [
              0.6666666666666666,
              "#ed7953"
             ],
             [
              0.7777777777777778,
              "#fb9f3a"
             ],
             [
              0.8888888888888888,
              "#fdca26"
             ],
             [
              1,
              "#f0f921"
             ]
            ],
            "type": "surface"
           }
          ],
          "table": [
           {
            "cells": {
             "fill": {
              "color": "#EBF0F8"
             },
             "line": {
              "color": "white"
             }
            },
            "header": {
             "fill": {
              "color": "#C8D4E3"
             },
             "line": {
              "color": "white"
             }
            },
            "type": "table"
           }
          ]
         },
         "layout": {
          "annotationdefaults": {
           "arrowcolor": "#2a3f5f",
           "arrowhead": 0,
           "arrowwidth": 1
          },
          "autotypenumbers": "strict",
          "coloraxis": {
           "colorbar": {
            "outlinewidth": 0,
            "ticks": ""
           }
          },
          "colorscale": {
           "diverging": [
            [
             0,
             "#8e0152"
            ],
            [
             0.1,
             "#c51b7d"
            ],
            [
             0.2,
             "#de77ae"
            ],
            [
             0.3,
             "#f1b6da"
            ],
            [
             0.4,
             "#fde0ef"
            ],
            [
             0.5,
             "#f7f7f7"
            ],
            [
             0.6,
             "#e6f5d0"
            ],
            [
             0.7,
             "#b8e186"
            ],
            [
             0.8,
             "#7fbc41"
            ],
            [
             0.9,
             "#4d9221"
            ],
            [
             1,
             "#276419"
            ]
           ],
           "sequential": [
            [
             0,
             "#0d0887"
            ],
            [
             0.1111111111111111,
             "#46039f"
            ],
            [
             0.2222222222222222,
             "#7201a8"
            ],
            [
             0.3333333333333333,
             "#9c179e"
            ],
            [
             0.4444444444444444,
             "#bd3786"
            ],
            [
             0.5555555555555556,
             "#d8576b"
            ],
            [
             0.6666666666666666,
             "#ed7953"
            ],
            [
             0.7777777777777778,
             "#fb9f3a"
            ],
            [
             0.8888888888888888,
             "#fdca26"
            ],
            [
             1,
             "#f0f921"
            ]
           ],
           "sequentialminus": [
            [
             0,
             "#0d0887"
            ],
            [
             0.1111111111111111,
             "#46039f"
            ],
            [
             0.2222222222222222,
             "#7201a8"
            ],
            [
             0.3333333333333333,
             "#9c179e"
            ],
            [
             0.4444444444444444,
             "#bd3786"
            ],
            [
             0.5555555555555556,
             "#d8576b"
            ],
            [
             0.6666666666666666,
             "#ed7953"
            ],
            [
             0.7777777777777778,
             "#fb9f3a"
            ],
            [
             0.8888888888888888,
             "#fdca26"
            ],
            [
             1,
             "#f0f921"
            ]
           ]
          },
          "colorway": [
           "#636efa",
           "#EF553B",
           "#00cc96",
           "#ab63fa",
           "#FFA15A",
           "#19d3f3",
           "#FF6692",
           "#B6E880",
           "#FF97FF",
           "#FECB52"
          ],
          "font": {
           "color": "#2a3f5f"
          },
          "geo": {
           "bgcolor": "white",
           "lakecolor": "white",
           "landcolor": "#E5ECF6",
           "showlakes": true,
           "showland": true,
           "subunitcolor": "white"
          },
          "hoverlabel": {
           "align": "left"
          },
          "hovermode": "closest",
          "mapbox": {
           "style": "light"
          },
          "paper_bgcolor": "white",
          "plot_bgcolor": "#E5ECF6",
          "polar": {
           "angularaxis": {
            "gridcolor": "white",
            "linecolor": "white",
            "ticks": ""
           },
           "bgcolor": "#E5ECF6",
           "radialaxis": {
            "gridcolor": "white",
            "linecolor": "white",
            "ticks": ""
           }
          },
          "scene": {
           "xaxis": {
            "backgroundcolor": "#E5ECF6",
            "gridcolor": "white",
            "gridwidth": 2,
            "linecolor": "white",
            "showbackground": true,
            "ticks": "",
            "zerolinecolor": "white"
           },
           "yaxis": {
            "backgroundcolor": "#E5ECF6",
            "gridcolor": "white",
            "gridwidth": 2,
            "linecolor": "white",
            "showbackground": true,
            "ticks": "",
            "zerolinecolor": "white"
           },
           "zaxis": {
            "backgroundcolor": "#E5ECF6",
            "gridcolor": "white",
            "gridwidth": 2,
            "linecolor": "white",
            "showbackground": true,
            "ticks": "",
            "zerolinecolor": "white"
           }
          },
          "shapedefaults": {
           "line": {
            "color": "#2a3f5f"
           }
          },
          "ternary": {
           "aaxis": {
            "gridcolor": "white",
            "linecolor": "white",
            "ticks": ""
           },
           "baxis": {
            "gridcolor": "white",
            "linecolor": "white",
            "ticks": ""
           },
           "bgcolor": "#E5ECF6",
           "caxis": {
            "gridcolor": "white",
            "linecolor": "white",
            "ticks": ""
           }
          },
          "title": {
           "x": 0.05
          },
          "xaxis": {
           "automargin": true,
           "gridcolor": "white",
           "linecolor": "white",
           "ticks": "",
           "title": {
            "standoff": 15
           },
           "zerolinecolor": "white",
           "zerolinewidth": 2
          },
          "yaxis": {
           "automargin": true,
           "gridcolor": "white",
           "linecolor": "white",
           "ticks": "",
           "title": {
            "standoff": 15
           },
           "zerolinecolor": "white",
           "zerolinewidth": 2
          }
         }
        },
        "width": 800
       }
      },
      "text/html": [
       "<div>                            <div id=\"40a16ab3-a4b1-4136-81f5-6fc3a1d0009f\" class=\"plotly-graph-div\" style=\"height:600px; width:800px;\"></div>            <script type=\"text/javascript\">                require([\"plotly\"], function(Plotly) {                    window.PLOTLYENV=window.PLOTLYENV || {};                                    if (document.getElementById(\"40a16ab3-a4b1-4136-81f5-6fc3a1d0009f\")) {                    Plotly.newPlot(                        \"40a16ab3-a4b1-4136-81f5-6fc3a1d0009f\",                        [{\"customdata\":[[365.0,1125.0,\"$140.00\",\"$140.00\",\"f\"],[365.0,1125.0,\"$55.00\",\"$55.00\",\"f\"]],\"hovertemplate\":\"<b>%{hovertext}</b><br><br>neighbourhood_cleansed=Bourse<br>latitude=%{lat}<br>longitude=%{lon}<br>minimum_nights=%{customdata[0]}<br>maximum_nights=%{customdata[1]}<br>price=%{customdata[2]}<br>adjusted_price=%{customdata[3]}<br>available=%{customdata[4]}<extra></extra>\",\"hovertext\":[\"Bourse\",\"Bourse\"],\"lat\":[48.86895,48.86905],\"legendgroup\":\"Bourse\",\"lon\":[2.35082,2.34983],\"marker\":{\"color\":\"#636efa\"},\"mode\":\"markers\",\"name\":\"Bourse\",\"showlegend\":true,\"subplot\":\"mapbox\",\"type\":\"scattermapbox\"},{\"customdata\":[[120.0,365.0,\"$46.00\",\"$46.00\",\"f\"],[2.0,31.0,\"$115.00\",\"$115.00\",\"f\"]],\"hovertemplate\":\"<b>%{hovertext}</b><br><br>neighbourhood_cleansed=Palais-Bourbon<br>latitude=%{lat}<br>longitude=%{lon}<br>minimum_nights=%{customdata[0]}<br>maximum_nights=%{customdata[1]}<br>price=%{customdata[2]}<br>adjusted_price=%{customdata[3]}<br>available=%{customdata[4]}<extra></extra>\",\"hovertext\":[\"Palais-Bourbon\",\"Palais-Bourbon\"],\"lat\":[48.85417,48.85696],\"legendgroup\":\"Palais-Bourbon\",\"lon\":[2.3206,2.30532],\"marker\":{\"color\":\"#EF553B\"},\"mode\":\"markers\",\"name\":\"Palais-Bourbon\",\"showlegend\":true,\"subplot\":\"mapbox\",\"type\":\"scattermapbox\"},{\"customdata\":[[7.0,21.0,\"$360.00\",\"$360.00\",\"f\"],[365.0,1125.0,\"$49.00\",\"$49.00\",\"f\"],[365.0,1125.0,\"$200.00\",\"$200.00\",\"f\"],[3.0,365.0,\"$60.00\",\"$60.00\",\"f\"]],\"hovertemplate\":\"<b>%{hovertext}</b><br><br>neighbourhood_cleansed=Passy<br>latitude=%{lat}<br>longitude=%{lon}<br>minimum_nights=%{customdata[0]}<br>maximum_nights=%{customdata[1]}<br>price=%{customdata[2]}<br>adjusted_price=%{customdata[3]}<br>available=%{customdata[4]}<extra></extra>\",\"hovertext\":[\"Passy\",\"Passy\",\"Passy\",\"Passy\"],\"lat\":[48.875,48.86355,48.84386,48.85635],\"legendgroup\":\"Passy\",\"lon\":[2.24966,2.27172,2.27033,2.28152],\"marker\":{\"color\":\"#00cc96\"},\"mode\":\"markers\",\"name\":\"Passy\",\"showlegend\":true,\"subplot\":\"mapbox\",\"type\":\"scattermapbox\"},{\"customdata\":[[365.0,1125.0,\"$226.00\",\"$226.00\",\"f\"]],\"hovertemplate\":\"<b>%{hovertext}</b><br><br>neighbourhood_cleansed=\\u00c9lys\\u00e9e<br>latitude=%{lat}<br>longitude=%{lon}<br>minimum_nights=%{customdata[0]}<br>maximum_nights=%{customdata[1]}<br>price=%{customdata[2]}<br>adjusted_price=%{customdata[3]}<br>available=%{customdata[4]}<extra></extra>\",\"hovertext\":[\"\\u00c9lys\\u00e9e\"],\"lat\":[48.87426],\"legendgroup\":\"\\u00c9lys\\u00e9e\",\"lon\":[2.30715],\"marker\":{\"color\":\"#ab63fa\"},\"mode\":\"markers\",\"name\":\"\\u00c9lys\\u00e9e\",\"showlegend\":true,\"subplot\":\"mapbox\",\"type\":\"scattermapbox\"},{\"customdata\":[[365.0,1125.0,\"$99.00\",\"$99.00\",\"f\"],[365.0,1125.0,\"$80.00\",\"$80.00\",\"f\"],[365.0,1125.0,\"$80.00\",\"$80.00\",\"f\"],[365.0,1125.0,\"$60.00\",\"$60.00\",\"f\"],[1.0,1125.0,\"$77.00\",\"$77.00\",\"f\"]],\"hovertemplate\":\"<b>%{hovertext}</b><br><br>neighbourhood_cleansed=Gobelins<br>latitude=%{lat}<br>longitude=%{lon}<br>minimum_nights=%{customdata[0]}<br>maximum_nights=%{customdata[1]}<br>price=%{customdata[2]}<br>adjusted_price=%{customdata[3]}<br>available=%{customdata[4]}<extra></extra>\",\"hovertext\":[\"Gobelins\",\"Gobelins\",\"Gobelins\",\"Gobelins\",\"Gobelins\"],\"lat\":[48.82759,48.83434,48.82556,48.8204,48.82457],\"legendgroup\":\"Gobelins\",\"lon\":[2.35609,2.36077,2.36235,2.36364,2.36297],\"marker\":{\"color\":\"#FFA15A\"},\"mode\":\"markers\",\"name\":\"Gobelins\",\"showlegend\":true,\"subplot\":\"mapbox\",\"type\":\"scattermapbox\"},{\"customdata\":[[365.0,365.0,\"$79.00\",\"$79.00\",\"f\"],[365.0,1125.0,\"$60.00\",\"$60.00\",\"f\"],[7.0,90.0,\"$125.00\",\"$125.00\",\"f\"]],\"hovertemplate\":\"<b>%{hovertext}</b><br><br>neighbourhood_cleansed=Batignolles-Monceau<br>latitude=%{lat}<br>longitude=%{lon}<br>minimum_nights=%{customdata[0]}<br>maximum_nights=%{customdata[1]}<br>price=%{customdata[2]}<br>adjusted_price=%{customdata[3]}<br>available=%{customdata[4]}<extra></extra>\",\"hovertext\":[\"Batignolles-Monceau\",\"Batignolles-Monceau\",\"Batignolles-Monceau\"],\"lat\":[48.88755,48.88056,48.88383],\"legendgroup\":\"Batignolles-Monceau\",\"lon\":[2.32482,2.28497,2.29261],\"marker\":{\"color\":\"#19d3f3\"},\"mode\":\"markers\",\"name\":\"Batignolles-Monceau\",\"showlegend\":true,\"subplot\":\"mapbox\",\"type\":\"scattermapbox\"},{\"customdata\":[[365.0,1125.0,\"$160.00\",\"$160.00\",\"f\"],[1.0,2.0,\"$38.00\",\"$38.00\",\"f\"],[2.0,15.0,\"$160.00\",\"$160.00\",\"f\"],[90.0,1125.0,\"$56.00\",\"$56.00\",\"f\"],[90.0,1125.0,\"$58.00\",\"$58.00\",\"f\"]],\"hovertemplate\":\"<b>%{hovertext}</b><br><br>neighbourhood_cleansed=Vaugirard<br>latitude=%{lat}<br>longitude=%{lon}<br>minimum_nights=%{customdata[0]}<br>maximum_nights=%{customdata[1]}<br>price=%{customdata[2]}<br>adjusted_price=%{customdata[3]}<br>available=%{customdata[4]}<extra></extra>\",\"hovertext\":[\"Vaugirard\",\"Vaugirard\",\"Vaugirard\",\"Vaugirard\",\"Vaugirard\"],\"lat\":[48.85044,48.84548,48.85247,48.83322,48.834843632797686],\"legendgroup\":\"Vaugirard\",\"lon\":[2.29389,2.28251,2.28677,2.29574,2.2939739460507576],\"marker\":{\"color\":\"#FF6692\"},\"mode\":\"markers\",\"name\":\"Vaugirard\",\"showlegend\":true,\"subplot\":\"mapbox\",\"type\":\"scattermapbox\"},{\"customdata\":[[1.0,1125.0,\"$51.00\",\"$51.00\",\"f\"],[1.0,365.0,\"$87.00\",\"$87.00\",\"f\"]],\"hovertemplate\":\"<b>%{hovertext}</b><br><br>neighbourhood_cleansed=Op\\u00e9ra<br>latitude=%{lat}<br>longitude=%{lon}<br>minimum_nights=%{customdata[0]}<br>maximum_nights=%{customdata[1]}<br>price=%{customdata[2]}<br>adjusted_price=%{customdata[3]}<br>available=%{customdata[4]}<extra></extra>\",\"hovertext\":[\"Op\\u00e9ra\",\"Op\\u00e9ra\"],\"lat\":[48.87524,48.880898],\"legendgroup\":\"Op\\u00e9ra\",\"lon\":[2.34707,2.333324],\"marker\":{\"color\":\"#B6E880\"},\"mode\":\"markers\",\"name\":\"Op\\u00e9ra\",\"showlegend\":true,\"subplot\":\"mapbox\",\"type\":\"scattermapbox\"},{\"customdata\":[[365.0,1125.0,\"$85.00\",\"$85.00\",\"f\"]],\"hovertemplate\":\"<b>%{hovertext}</b><br><br>neighbourhood_cleansed=Luxembourg<br>latitude=%{lat}<br>longitude=%{lon}<br>minimum_nights=%{customdata[0]}<br>maximum_nights=%{customdata[1]}<br>price=%{customdata[2]}<br>adjusted_price=%{customdata[3]}<br>available=%{customdata[4]}<extra></extra>\",\"hovertext\":[\"Luxembourg\"],\"lat\":[48.85297],\"legendgroup\":\"Luxembourg\",\"lon\":[2.33565],\"marker\":{\"color\":\"#FF97FF\"},\"mode\":\"markers\",\"name\":\"Luxembourg\",\"showlegend\":true,\"subplot\":\"mapbox\",\"type\":\"scattermapbox\"},{\"customdata\":[[1.0,1125.0,\"$113.00\",\"$113.00\",\"f\"],[1.0,1125.0,\"$82.00\",\"$82.00\",\"f\"],[1.0,1125.0,\"$84.00\",\"$84.00\",\"f\"],[1.0,1125.0,\"$135.00\",\"$108.00\",\"f\"],[1.0,365.0,\"$217.00\",\"$217.00\",\"f\"]],\"hovertemplate\":\"<b>%{hovertext}</b><br><br>neighbourhood_cleansed=Entrep\\u00f4t<br>latitude=%{lat}<br>longitude=%{lon}<br>minimum_nights=%{customdata[0]}<br>maximum_nights=%{customdata[1]}<br>price=%{customdata[2]}<br>adjusted_price=%{customdata[3]}<br>available=%{customdata[4]}<extra></extra>\",\"hovertext\":[\"Entrep\\u00f4t\",\"Entrep\\u00f4t\",\"Entrep\\u00f4t\",\"Entrep\\u00f4t\",\"Entrep\\u00f4t\"],\"lat\":[48.87795,48.87988,48.87534,48.87181,48.876186],\"legendgroup\":\"Entrep\\u00f4t\",\"lon\":[2.35732,2.35457,2.34933,2.35096,2.362201],\"marker\":{\"color\":\"#FECB52\"},\"mode\":\"markers\",\"name\":\"Entrep\\u00f4t\",\"showlegend\":true,\"subplot\":\"mapbox\",\"type\":\"scattermapbox\"},{\"customdata\":[[365.0,1125.0,\"$40.00\",\"$40.00\",\"f\"],[1.0,365.0,\"$59.00\",\"$59.00\",\"f\"]],\"hovertemplate\":\"<b>%{hovertext}</b><br><br>neighbourhood_cleansed=Popincourt<br>latitude=%{lat}<br>longitude=%{lon}<br>minimum_nights=%{customdata[0]}<br>maximum_nights=%{customdata[1]}<br>price=%{customdata[2]}<br>adjusted_price=%{customdata[3]}<br>available=%{customdata[4]}<extra></extra>\",\"hovertext\":[\"Popincourt\",\"Popincourt\"],\"lat\":[48.86011,48.85323],\"legendgroup\":\"Popincourt\",\"lon\":[2.3771,2.37263],\"marker\":{\"color\":\"#636efa\"},\"mode\":\"markers\",\"name\":\"Popincourt\",\"showlegend\":true,\"subplot\":\"mapbox\",\"type\":\"scattermapbox\"},{\"customdata\":[[1.0,1125.0,\"$92.00\",\"$92.00\",\"f\"]],\"hovertemplate\":\"<b>%{hovertext}</b><br><br>neighbourhood_cleansed=Observatoire<br>latitude=%{lat}<br>longitude=%{lon}<br>minimum_nights=%{customdata[0]}<br>maximum_nights=%{customdata[1]}<br>price=%{customdata[2]}<br>adjusted_price=%{customdata[3]}<br>available=%{customdata[4]}<extra></extra>\",\"hovertext\":[\"Observatoire\"],\"lat\":[48.83492],\"legendgroup\":\"Observatoire\",\"lon\":[2.32785],\"marker\":{\"color\":\"#EF553B\"},\"mode\":\"markers\",\"name\":\"Observatoire\",\"showlegend\":true,\"subplot\":\"mapbox\",\"type\":\"scattermapbox\"},{\"customdata\":[[365.0,1125.0,\"$85.00\",\"$85.00\",\"f\"],[90.0,1125.0,\"$73.00\",\"$73.00\",\"f\"]],\"hovertemplate\":\"<b>%{hovertext}</b><br><br>neighbourhood_cleansed=Temple<br>latitude=%{lat}<br>longitude=%{lon}<br>minimum_nights=%{customdata[0]}<br>maximum_nights=%{customdata[1]}<br>price=%{customdata[2]}<br>adjusted_price=%{customdata[3]}<br>available=%{customdata[4]}<extra></extra>\",\"hovertext\":[\"Temple\",\"Temple\"],\"lat\":[48.86295,48.867915873305634],\"legendgroup\":\"Temple\",\"lon\":[2.35867,2.3616789054982528],\"marker\":{\"color\":\"#00cc96\"},\"mode\":\"markers\",\"name\":\"Temple\",\"showlegend\":true,\"subplot\":\"mapbox\",\"type\":\"scattermapbox\"},{\"customdata\":[[1.0,1125.0,\"$45.00\",\"$45.00\",\"f\"]],\"hovertemplate\":\"<b>%{hovertext}</b><br><br>neighbourhood_cleansed=H\\u00f4tel-de-Ville<br>latitude=%{lat}<br>longitude=%{lon}<br>minimum_nights=%{customdata[0]}<br>maximum_nights=%{customdata[1]}<br>price=%{customdata[2]}<br>adjusted_price=%{customdata[3]}<br>available=%{customdata[4]}<extra></extra>\",\"hovertext\":[\"H\\u00f4tel-de-Ville\"],\"lat\":[48.85746],\"legendgroup\":\"H\\u00f4tel-de-Ville\",\"lon\":[2.35827],\"marker\":{\"color\":\"#ab63fa\"},\"mode\":\"markers\",\"name\":\"H\\u00f4tel-de-Ville\",\"showlegend\":true,\"subplot\":\"mapbox\",\"type\":\"scattermapbox\"},{\"customdata\":[[365.0,1125.0,\"$45.00\",\"$45.00\",\"f\"],[1.0,1125.0,\"$75.00\",\"$75.00\",\"f\"],[30.0,1125.0,\"$210.00\",\"$210.00\",\"f\"],[90.0,1125.0,\"$95.00\",\"$95.00\",\"f\"],[90.0,1125.0,\"$76.00\",\"$76.00\",\"f\"]],\"hovertemplate\":\"<b>%{hovertext}</b><br><br>neighbourhood_cleansed=Buttes-Montmartre<br>latitude=%{lat}<br>longitude=%{lon}<br>minimum_nights=%{customdata[0]}<br>maximum_nights=%{customdata[1]}<br>price=%{customdata[2]}<br>adjusted_price=%{customdata[3]}<br>available=%{customdata[4]}<extra></extra>\",\"hovertext\":[\"Buttes-Montmartre\",\"Buttes-Montmartre\",\"Buttes-Montmartre\",\"Buttes-Montmartre\",\"Buttes-Montmartre\"],\"lat\":[48.89488,48.89098,48.89148,48.88561173002033,48.88766674967015],\"legendgroup\":\"Buttes-Montmartre\",\"lon\":[2.34955,2.36231,2.34538,2.341673593636364,2.3499160811065463],\"marker\":{\"color\":\"#FFA15A\"},\"mode\":\"markers\",\"name\":\"Buttes-Montmartre\",\"showlegend\":true,\"subplot\":\"mapbox\",\"type\":\"scattermapbox\"},{\"customdata\":[[3.0,14.0,\"$65.00\",\"$65.00\",\"f\"]],\"hovertemplate\":\"<b>%{hovertext}</b><br><br>neighbourhood_cleansed=Reuilly<br>latitude=%{lat}<br>longitude=%{lon}<br>minimum_nights=%{customdata[0]}<br>maximum_nights=%{customdata[1]}<br>price=%{customdata[2]}<br>adjusted_price=%{customdata[3]}<br>available=%{customdata[4]}<extra></extra>\",\"hovertext\":[\"Reuilly\"],\"lat\":[48.85057],\"legendgroup\":\"Reuilly\",\"lon\":[2.37474],\"marker\":{\"color\":\"#19d3f3\"},\"mode\":\"markers\",\"name\":\"Reuilly\",\"showlegend\":true,\"subplot\":\"mapbox\",\"type\":\"scattermapbox\"},{\"customdata\":[[365.0,1125.0,\"$140.00\",\"$140.00\",\"f\"]],\"hovertemplate\":\"<b>%{hovertext}</b><br><br>neighbourhood_cleansed=Louvre<br>latitude=%{lat}<br>longitude=%{lon}<br>minimum_nights=%{customdata[0]}<br>maximum_nights=%{customdata[1]}<br>price=%{customdata[2]}<br>adjusted_price=%{customdata[3]}<br>available=%{customdata[4]}<extra></extra>\",\"hovertext\":[\"Louvre\"],\"lat\":[48.86531],\"legendgroup\":\"Louvre\",\"lon\":[2.33268],\"marker\":{\"color\":\"#FF6692\"},\"mode\":\"markers\",\"name\":\"Louvre\",\"showlegend\":true,\"subplot\":\"mapbox\",\"type\":\"scattermapbox\"},{\"customdata\":[[365.0,1125.0,\"$418.00\",\"$418.00\",\"f\"]],\"hovertemplate\":\"<b>%{hovertext}</b><br><br>neighbourhood_cleansed=Panth\\u00e9on<br>latitude=%{lat}<br>longitude=%{lon}<br>minimum_nights=%{customdata[0]}<br>maximum_nights=%{customdata[1]}<br>price=%{customdata[2]}<br>adjusted_price=%{customdata[3]}<br>available=%{customdata[4]}<extra></extra>\",\"hovertext\":[\"Panth\\u00e9on\"],\"lat\":[48.85188],\"legendgroup\":\"Panth\\u00e9on\",\"lon\":[2.34747],\"marker\":{\"color\":\"#B6E880\"},\"mode\":\"markers\",\"name\":\"Panth\\u00e9on\",\"showlegend\":true,\"subplot\":\"mapbox\",\"type\":\"scattermapbox\"},{\"customdata\":[[1.0,365.0,\"$83.00\",\"$83.00\",\"f\"],[90.0,1125.0,\"$58.00\",\"$58.00\",\"f\"]],\"hovertemplate\":\"<b>%{hovertext}</b><br><br>neighbourhood_cleansed=Buttes-Chaumont<br>latitude=%{lat}<br>longitude=%{lon}<br>minimum_nights=%{customdata[0]}<br>maximum_nights=%{customdata[1]}<br>price=%{customdata[2]}<br>adjusted_price=%{customdata[3]}<br>available=%{customdata[4]}<extra></extra>\",\"hovertext\":[\"Buttes-Chaumont\",\"Buttes-Chaumont\"],\"lat\":[48.879356,48.88371],\"legendgroup\":\"Buttes-Chaumont\",\"lon\":[2.385436,2.38032],\"marker\":{\"color\":\"#FF97FF\"},\"mode\":\"markers\",\"name\":\"Buttes-Chaumont\",\"showlegend\":true,\"subplot\":\"mapbox\",\"type\":\"scattermapbox\"},{\"customdata\":[[30.0,1125.0,\"$69.00\",\"$69.00\",\"f\"]],\"hovertemplate\":\"<b>%{hovertext}</b><br><br>neighbourhood_cleansed=M\\u00e9nilmontant<br>latitude=%{lat}<br>longitude=%{lon}<br>minimum_nights=%{customdata[0]}<br>maximum_nights=%{customdata[1]}<br>price=%{customdata[2]}<br>adjusted_price=%{customdata[3]}<br>available=%{customdata[4]}<extra></extra>\",\"hovertext\":[\"M\\u00e9nilmontant\"],\"lat\":[48.8734083313877],\"legendgroup\":\"M\\u00e9nilmontant\",\"lon\":[2.3891436907369905],\"marker\":{\"color\":\"#FECB52\"},\"mode\":\"markers\",\"name\":\"M\\u00e9nilmontant\",\"showlegend\":true,\"subplot\":\"mapbox\",\"type\":\"scattermapbox\"}],                        {\"template\":{\"data\":{\"bar\":[{\"error_x\":{\"color\":\"#2a3f5f\"},\"error_y\":{\"color\":\"#2a3f5f\"},\"marker\":{\"line\":{\"color\":\"#E5ECF6\",\"width\":0.5},\"pattern\":{\"fillmode\":\"overlay\",\"size\":10,\"solidity\":0.2}},\"type\":\"bar\"}],\"barpolar\":[{\"marker\":{\"line\":{\"color\":\"#E5ECF6\",\"width\":0.5},\"pattern\":{\"fillmode\":\"overlay\",\"size\":10,\"solidity\":0.2}},\"type\":\"barpolar\"}],\"carpet\":[{\"aaxis\":{\"endlinecolor\":\"#2a3f5f\",\"gridcolor\":\"white\",\"linecolor\":\"white\",\"minorgridcolor\":\"white\",\"startlinecolor\":\"#2a3f5f\"},\"baxis\":{\"endlinecolor\":\"#2a3f5f\",\"gridcolor\":\"white\",\"linecolor\":\"white\",\"minorgridcolor\":\"white\",\"startlinecolor\":\"#2a3f5f\"},\"type\":\"carpet\"}],\"choropleth\":[{\"colorbar\":{\"outlinewidth\":0,\"ticks\":\"\"},\"type\":\"choropleth\"}],\"contour\":[{\"colorbar\":{\"outlinewidth\":0,\"ticks\":\"\"},\"colorscale\":[[0.0,\"#0d0887\"],[0.1111111111111111,\"#46039f\"],[0.2222222222222222,\"#7201a8\"],[0.3333333333333333,\"#9c179e\"],[0.4444444444444444,\"#bd3786\"],[0.5555555555555556,\"#d8576b\"],[0.6666666666666666,\"#ed7953\"],[0.7777777777777778,\"#fb9f3a\"],[0.8888888888888888,\"#fdca26\"],[1.0,\"#f0f921\"]],\"type\":\"contour\"}],\"contourcarpet\":[{\"colorbar\":{\"outlinewidth\":0,\"ticks\":\"\"},\"type\":\"contourcarpet\"}],\"heatmap\":[{\"colorbar\":{\"outlinewidth\":0,\"ticks\":\"\"},\"colorscale\":[[0.0,\"#0d0887\"],[0.1111111111111111,\"#46039f\"],[0.2222222222222222,\"#7201a8\"],[0.3333333333333333,\"#9c179e\"],[0.4444444444444444,\"#bd3786\"],[0.5555555555555556,\"#d8576b\"],[0.6666666666666666,\"#ed7953\"],[0.7777777777777778,\"#fb9f3a\"],[0.8888888888888888,\"#fdca26\"],[1.0,\"#f0f921\"]],\"type\":\"heatmap\"}],\"heatmapgl\":[{\"colorbar\":{\"outlinewidth\":0,\"ticks\":\"\"},\"colorscale\":[[0.0,\"#0d0887\"],[0.1111111111111111,\"#46039f\"],[0.2222222222222222,\"#7201a8\"],[0.3333333333333333,\"#9c179e\"],[0.4444444444444444,\"#bd3786\"],[0.5555555555555556,\"#d8576b\"],[0.6666666666666666,\"#ed7953\"],[0.7777777777777778,\"#fb9f3a\"],[0.8888888888888888,\"#fdca26\"],[1.0,\"#f0f921\"]],\"type\":\"heatmapgl\"}],\"histogram\":[{\"marker\":{\"pattern\":{\"fillmode\":\"overlay\",\"size\":10,\"solidity\":0.2}},\"type\":\"histogram\"}],\"histogram2d\":[{\"colorbar\":{\"outlinewidth\":0,\"ticks\":\"\"},\"colorscale\":[[0.0,\"#0d0887\"],[0.1111111111111111,\"#46039f\"],[0.2222222222222222,\"#7201a8\"],[0.3333333333333333,\"#9c179e\"],[0.4444444444444444,\"#bd3786\"],[0.5555555555555556,\"#d8576b\"],[0.6666666666666666,\"#ed7953\"],[0.7777777777777778,\"#fb9f3a\"],[0.8888888888888888,\"#fdca26\"],[1.0,\"#f0f921\"]],\"type\":\"histogram2d\"}],\"histogram2dcontour\":[{\"colorbar\":{\"outlinewidth\":0,\"ticks\":\"\"},\"colorscale\":[[0.0,\"#0d0887\"],[0.1111111111111111,\"#46039f\"],[0.2222222222222222,\"#7201a8\"],[0.3333333333333333,\"#9c179e\"],[0.4444444444444444,\"#bd3786\"],[0.5555555555555556,\"#d8576b\"],[0.6666666666666666,\"#ed7953\"],[0.7777777777777778,\"#fb9f3a\"],[0.8888888888888888,\"#fdca26\"],[1.0,\"#f0f921\"]],\"type\":\"histogram2dcontour\"}],\"mesh3d\":[{\"colorbar\":{\"outlinewidth\":0,\"ticks\":\"\"},\"type\":\"mesh3d\"}],\"parcoords\":[{\"line\":{\"colorbar\":{\"outlinewidth\":0,\"ticks\":\"\"}},\"type\":\"parcoords\"}],\"pie\":[{\"automargin\":true,\"type\":\"pie\"}],\"scatter\":[{\"marker\":{\"colorbar\":{\"outlinewidth\":0,\"ticks\":\"\"}},\"type\":\"scatter\"}],\"scatter3d\":[{\"line\":{\"colorbar\":{\"outlinewidth\":0,\"ticks\":\"\"}},\"marker\":{\"colorbar\":{\"outlinewidth\":0,\"ticks\":\"\"}},\"type\":\"scatter3d\"}],\"scattercarpet\":[{\"marker\":{\"colorbar\":{\"outlinewidth\":0,\"ticks\":\"\"}},\"type\":\"scattercarpet\"}],\"scattergeo\":[{\"marker\":{\"colorbar\":{\"outlinewidth\":0,\"ticks\":\"\"}},\"type\":\"scattergeo\"}],\"scattergl\":[{\"marker\":{\"colorbar\":{\"outlinewidth\":0,\"ticks\":\"\"}},\"type\":\"scattergl\"}],\"scattermapbox\":[{\"marker\":{\"colorbar\":{\"outlinewidth\":0,\"ticks\":\"\"}},\"type\":\"scattermapbox\"}],\"scatterpolar\":[{\"marker\":{\"colorbar\":{\"outlinewidth\":0,\"ticks\":\"\"}},\"type\":\"scatterpolar\"}],\"scatterpolargl\":[{\"marker\":{\"colorbar\":{\"outlinewidth\":0,\"ticks\":\"\"}},\"type\":\"scatterpolargl\"}],\"scatterternary\":[{\"marker\":{\"colorbar\":{\"outlinewidth\":0,\"ticks\":\"\"}},\"type\":\"scatterternary\"}],\"surface\":[{\"colorbar\":{\"outlinewidth\":0,\"ticks\":\"\"},\"colorscale\":[[0.0,\"#0d0887\"],[0.1111111111111111,\"#46039f\"],[0.2222222222222222,\"#7201a8\"],[0.3333333333333333,\"#9c179e\"],[0.4444444444444444,\"#bd3786\"],[0.5555555555555556,\"#d8576b\"],[0.6666666666666666,\"#ed7953\"],[0.7777777777777778,\"#fb9f3a\"],[0.8888888888888888,\"#fdca26\"],[1.0,\"#f0f921\"]],\"type\":\"surface\"}],\"table\":[{\"cells\":{\"fill\":{\"color\":\"#EBF0F8\"},\"line\":{\"color\":\"white\"}},\"header\":{\"fill\":{\"color\":\"#C8D4E3\"},\"line\":{\"color\":\"white\"}},\"type\":\"table\"}]},\"layout\":{\"annotationdefaults\":{\"arrowcolor\":\"#2a3f5f\",\"arrowhead\":0,\"arrowwidth\":1},\"autotypenumbers\":\"strict\",\"coloraxis\":{\"colorbar\":{\"outlinewidth\":0,\"ticks\":\"\"}},\"colorscale\":{\"diverging\":[[0,\"#8e0152\"],[0.1,\"#c51b7d\"],[0.2,\"#de77ae\"],[0.3,\"#f1b6da\"],[0.4,\"#fde0ef\"],[0.5,\"#f7f7f7\"],[0.6,\"#e6f5d0\"],[0.7,\"#b8e186\"],[0.8,\"#7fbc41\"],[0.9,\"#4d9221\"],[1,\"#276419\"]],\"sequential\":[[0.0,\"#0d0887\"],[0.1111111111111111,\"#46039f\"],[0.2222222222222222,\"#7201a8\"],[0.3333333333333333,\"#9c179e\"],[0.4444444444444444,\"#bd3786\"],[0.5555555555555556,\"#d8576b\"],[0.6666666666666666,\"#ed7953\"],[0.7777777777777778,\"#fb9f3a\"],[0.8888888888888888,\"#fdca26\"],[1.0,\"#f0f921\"]],\"sequentialminus\":[[0.0,\"#0d0887\"],[0.1111111111111111,\"#46039f\"],[0.2222222222222222,\"#7201a8\"],[0.3333333333333333,\"#9c179e\"],[0.4444444444444444,\"#bd3786\"],[0.5555555555555556,\"#d8576b\"],[0.6666666666666666,\"#ed7953\"],[0.7777777777777778,\"#fb9f3a\"],[0.8888888888888888,\"#fdca26\"],[1.0,\"#f0f921\"]]},\"colorway\":[\"#636efa\",\"#EF553B\",\"#00cc96\",\"#ab63fa\",\"#FFA15A\",\"#19d3f3\",\"#FF6692\",\"#B6E880\",\"#FF97FF\",\"#FECB52\"],\"font\":{\"color\":\"#2a3f5f\"},\"geo\":{\"bgcolor\":\"white\",\"lakecolor\":\"white\",\"landcolor\":\"#E5ECF6\",\"showlakes\":true,\"showland\":true,\"subunitcolor\":\"white\"},\"hoverlabel\":{\"align\":\"left\"},\"hovermode\":\"closest\",\"mapbox\":{\"style\":\"light\"},\"paper_bgcolor\":\"white\",\"plot_bgcolor\":\"#E5ECF6\",\"polar\":{\"angularaxis\":{\"gridcolor\":\"white\",\"linecolor\":\"white\",\"ticks\":\"\"},\"bgcolor\":\"#E5ECF6\",\"radialaxis\":{\"gridcolor\":\"white\",\"linecolor\":\"white\",\"ticks\":\"\"}},\"scene\":{\"xaxis\":{\"backgroundcolor\":\"#E5ECF6\",\"gridcolor\":\"white\",\"gridwidth\":2,\"linecolor\":\"white\",\"showbackground\":true,\"ticks\":\"\",\"zerolinecolor\":\"white\"},\"yaxis\":{\"backgroundcolor\":\"#E5ECF6\",\"gridcolor\":\"white\",\"gridwidth\":2,\"linecolor\":\"white\",\"showbackground\":true,\"ticks\":\"\",\"zerolinecolor\":\"white\"},\"zaxis\":{\"backgroundcolor\":\"#E5ECF6\",\"gridcolor\":\"white\",\"gridwidth\":2,\"linecolor\":\"white\",\"showbackground\":true,\"ticks\":\"\",\"zerolinecolor\":\"white\"}},\"shapedefaults\":{\"line\":{\"color\":\"#2a3f5f\"}},\"ternary\":{\"aaxis\":{\"gridcolor\":\"white\",\"linecolor\":\"white\",\"ticks\":\"\"},\"baxis\":{\"gridcolor\":\"white\",\"linecolor\":\"white\",\"ticks\":\"\"},\"bgcolor\":\"#E5ECF6\",\"caxis\":{\"gridcolor\":\"white\",\"linecolor\":\"white\",\"ticks\":\"\"}},\"title\":{\"x\":0.05},\"xaxis\":{\"automargin\":true,\"gridcolor\":\"white\",\"linecolor\":\"white\",\"ticks\":\"\",\"title\":{\"standoff\":15},\"zerolinecolor\":\"white\",\"zerolinewidth\":2},\"yaxis\":{\"automargin\":true,\"gridcolor\":\"white\",\"linecolor\":\"white\",\"ticks\":\"\",\"title\":{\"standoff\":15},\"zerolinecolor\":\"white\",\"zerolinewidth\":2}}},\"mapbox\":{\"domain\":{\"x\":[0.0,1.0],\"y\":[0.0,1.0]},\"center\":{\"lat\":48.86265353866343,\"lon\":2.335602068447423},\"zoom\":9,\"style\":\"open-street-map\"},\"legend\":{\"title\":{\"text\":\"neighbourhood_cleansed\"},\"tracegroupgap\":0},\"margin\":{\"t\":0,\"r\":0,\"l\":0,\"b\":0},\"height\":600,\"width\":800},                        {\"responsive\": true}                    ).then(function(){\n",
       "                            \n",
       "var gd = document.getElementById('40a16ab3-a4b1-4136-81f5-6fc3a1d0009f');\n",
       "var x = new MutationObserver(function (mutations, observer) {{\n",
       "        var display = window.getComputedStyle(gd).display;\n",
       "        if (!display || display === 'none') {{\n",
       "            console.log([gd, 'removed!']);\n",
       "            Plotly.purge(gd);\n",
       "            observer.disconnect();\n",
       "        }}\n",
       "}});\n",
       "\n",
       "// Listen for the removal of the full notebook cells\n",
       "var notebookContainer = gd.closest('#notebook-container');\n",
       "if (notebookContainer) {{\n",
       "    x.observe(notebookContainer, {childList: true});\n",
       "}}\n",
       "\n",
       "// Listen for the clearing of the current output cell\n",
       "var outputEl = gd.closest('.output');\n",
       "if (outputEl) {{\n",
       "    x.observe(outputEl, {childList: true});\n",
       "}}\n",
       "\n",
       "                        })                };                });            </script>        </div>"
      ]
     },
     "metadata": {},
     "output_type": "display_data"
    }
   ],
   "source": [
    "import plotly.express as px\n",
    "import plotly.graph_objects as go\n",
    "\n",
    "# Plot the available listings\n",
    "\n",
    "fig = px.scatter_mapbox(merged_df, lat=\"latitude\",color='neighbourhood_cleansed', lon=\"longitude\", hover_name=\"neighbourhood_cleansed\", hover_data=[\"minimum_nights\",\"maximum_nights\",\"price\",\"adjusted_price\",'available'],\n",
    "                         zoom=9, height=600,width=800)\n",
    "fig.update_layout(mapbox_style=\"open-street-map\")\n",
    "fig.update_layout(margin={\"r\":0,\"t\":0,\"l\":0,\"b\":0})\n",
    "fig.show()"
   ]
  },
  {
   "cell_type": "markdown",
   "id": "399f4f88",
   "metadata": {},
   "source": [
    "## Conclusion"
   ]
  },
  {
   "cell_type": "markdown",
   "id": "67367183",
   "metadata": {},
   "source": [
    "\n",
    "We can see that **Paris, Île-de-France, France** with **47** available bookings in total, is the most booked region in Paris between **2022-06-06** and **2022-06-07** with neighbourhoods as listed in the figure above .\n"
   ]
  },
  {
   "cell_type": "code",
   "execution_count": null,
   "id": "30899877",
   "metadata": {},
   "outputs": [],
   "source": []
  }
 ],
 "metadata": {
  "kernelspec": {
   "display_name": "Python 3 (ipykernel)",
   "language": "python",
   "name": "python3"
  },
  "language_info": {
   "codemirror_mode": {
    "name": "ipython",
    "version": 3
   },
   "file_extension": ".py",
   "mimetype": "text/x-python",
   "name": "python",
   "nbconvert_exporter": "python",
   "pygments_lexer": "ipython3",
   "version": "3.9.12"
  }
 },
 "nbformat": 4,
 "nbformat_minor": 5
}
